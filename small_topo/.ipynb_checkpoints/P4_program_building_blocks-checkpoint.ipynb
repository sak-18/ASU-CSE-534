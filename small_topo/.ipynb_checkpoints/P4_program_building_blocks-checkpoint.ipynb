{
 "cells": [
  {
   "cell_type": "markdown",
   "id": "ab5adb1a-770d-446f-8c45-582248410587",
   "metadata": {},
   "source": [
    "# Lab 2 - P4 Program Building Blocks\n",
    "\n",
    "This lab describes the building blocks and the general structure of a P4 program. It maps the program’s components to the Protocol-Independent Switching Architecture (PISA), a programmable pipeline used by modern whitebox switching hardware. The lab also demonstrates how to track an incoming packet as it traverses the pipeline of the switch. Such a capability is very useful to debug and troubleshoot a P4 program. \n",
    "\n",
    "<img src=\"./labs_files/lab1/figs/fabric_topology.png\" width=\"550px\"><br>"
   ]
  },
  {
   "cell_type": "markdown",
   "id": "54f01323-f1ec-4eb6-b165-d587bdef7391",
   "metadata": {},
   "source": [
    "# Background\n",
    "\n",
    "## The PISA Architecture\n",
    "\n",
    "The Protocol Independent Switch Architecture (PISA) is a packet processing model that includes the following elements (see Figure below): \n",
    "<ul>\n",
    "    <li>Programmable parser</li>\n",
    "    <li>Programmable match-action pipeline</li> \n",
    "    <li>Programmable deparser</li>     \n",
    "</ul>\n",
    "    \n",
    "The programmable parser permits the programmer to define the headers (according to custom or standard protocols) and to parse them. The parser can be represented as a state machine. \n",
    "\n",
    "The programmable match-action pipeline executes the operations over the packet headers and intermediate results. A single match-action stage has multiple memory blocks (e.g., tables, registers) and Arithmetic Logic Units (ALUs), which allow for simultaneous lookups and actions. Since some action results may be needed for further processing (e.g., data dependencies), stages are arranged sequentially. \n",
    "\n",
    "The programmable deparser assembles the packet headers back and serializes them for transmission. A PISA device is protocol independent. The P4 program defines the format of the keys used for lookup operations. Keys can be formed using packet header’s information. \n",
    "\n",
    "The control plane populates table entries with keys and action data. Keys are used for matching packet information (e.g., destination IP address) and action data is used for operations (e.g., output port).\n",
    "\n",
    "<img src=\"./labs_files/lab2/figs/pisa.PNG\" width=\"650px\"><br>"
   ]
  },
  {
   "cell_type": "markdown",
   "id": "4b60588c-bafb-4b0d-a57e-9af675f7e917",
   "metadata": {},
   "source": [
    "## Programmable parser\n",
    "\n",
    "The programmable parser permits the programmer to define the headers (according to custom or standard protocols) and to describe how the switch should process those headers. The parser de-encapsulates the headers, converting the original packet into a parsed representation of the packet. The programmer declares the headers that must be recognized and their order in the packet. The parser can be represented as a state machine without cycles (direct acyclic graph), with one initial state (start) and two final states (accept or reject)."
   ]
  },
  {
   "cell_type": "markdown",
   "id": "ad3d152e-9614-4386-9952-a9fe346f6bc9",
   "metadata": {},
   "source": [
    "## Programmable match-action pipeline\n",
    "\n",
    "The match-action pipeline implements the processing occurring at a switch. The pipeline consists of multiple identical stages (N stages are shown in Figure 1). Practical implementations may have 10/15 stages on the ingress and egress pipelines. Each stage contains multiple match-action units (4 units per stage in Figure 1). A match-action unit has a match phase and an action phase. During the match phase, a table is used to match a header field of the incoming packet against entries in the table (e.g., destination IP address). Note that there are multiple tables in a stage (4 tables per stage in Figure 1), which permit the switch to perform multiple matches in parallel over different header fields. Once a match occurs, a corresponding action is performed by the ALU. Examples of actions include: modify a header field, forward the packet to an egress port, drop the packet, and others. The sequential arrangement of stages allows for the implementation of serial dependencies. For example, if the result of an operation is needed prior to perform a second operation, then the compiler would place the first operation at an earlier stage than the second operation.  "
   ]
  },
  {
   "cell_type": "markdown",
   "id": "247315a3-445f-40b5-ab21-423c7bfbf28e",
   "metadata": {},
   "source": [
    "## Programmable deparser\n",
    "\n",
    "The deparser assembles back the packet and serializes it for transmission. The programmer specifies the headers to be emitted by the deparser. When assembling the packet, the deparser emits the specified headers followed by the original payload of the packet. "
   ]
  },
  {
   "cell_type": "markdown",
   "id": "7916843d-8af3-4e23-90b3-6397d89dc706",
   "metadata": {},
   "source": [
    "## The V1Model\n",
    "\n",
    "The figure below depicts the V1Model architecture components. The V1Model architecture consists of a programmable parser, an ingress match-action pipeline, a traffic manager, an egress match-action pipeline, and a programmable deparser. The traffic manager schedules packets between input ports and output ports and performs packet replication (e.g., replication of a packet for multicasting). The V1Model architecture is implemented on top BMv2’s simple_switch target.\n",
    "\n",
    "<img src=\"./labs_files/lab2/figs/v1model.PNG\" width=\"700px\"><br>"
   ]
  },
  {
   "cell_type": "markdown",
   "id": "d6dcb16d-3b9b-4c83-ba48-3e77eddb2e6b",
   "metadata": {
    "jp-MarkdownHeadingCollapsed": true,
    "tags": []
   },
   "source": [
    "## P4 program mapping to the V1Model\n",
    "\n",
    "The P4 program used in this lab is separated into different files. The figure below shows the V1Model and its associated P4 files. These files are as follows:\n",
    "\n",
    "<ul>\n",
    "<li>headers.p4: this file contains the packet headers’ and the metadata’s definitions.</li>\n",
    "<li>parser.p4: this file contains the implementation of the programmable parser.</li>\n",
    "<li>ingress.p4: this file contains the ingress control block that includes match-action tables.</li>\n",
    "<li>egress.p4: this file contains the egress control block.</li>\n",
    "<li>deparser.p4: this file contains the deparser logic that describes how headers are emitted from the switch.</li>\n",
    "<li>checksum.p4: this file contains the code that verifies and computes checksums.</li>\n",
    "<li>basic.p4: this file contains the starting point of the program (main) and invokes the other files. This file must be compiled.</li>\n",
    "    \n",
    "</ul>\n",
    "\n",
    "<img src=\"./labs_files/lab2/figs/v1model_mapping.PNG\" width=\"700px\"><br>"
   ]
  },
  {
   "cell_type": "markdown",
   "id": "a3b14494-a097-4a69-88a2-1e0baac727fb",
   "metadata": {
    "jp-MarkdownHeadingCollapsed": true,
    "tags": []
   },
   "source": [
    "# Step 1:  Configure the Environment\n",
    "\n",
    "Before running this notebook, you will need to configure your environment using the [Configure Environment](../../../configure.ipynb) notebook. Please stop here, open and run that notebook, then return to this notebook.\n",
    "\n",
    "If you are using the FABRIC JupyterHub many of the environment variables will be automatically configured for you.  You will still need to set your bastion username, upload your bastion private key, and set the path to where you put your bastion private key. Your bastion username and private key should already be in your possession.  \n",
    "\n",
    "If you are using the FABRIC API outside of the JupyterHub you will need to configure all of the environment variables. Defaults below will be correct in many situations but you will need to confirm your configuration.  If you have questions about this configuration, please contact the FABRIC admins using the [FABRIC User Forum](https://learn.fabric-testbed.net/forums/) \n",
    "\n",
    "More information about accessing your experiments through the FABRIC bastion hosts can be found [here](https://learn.fabric-testbed.net/knowledge-base/logging-into-fabric-vms/).\n",
    " "
   ]
  },
  {
   "cell_type": "markdown",
   "id": "a7944d6d-f5f9-40ae-badb-4dc2c90e373b",
   "metadata": {
    "tags": []
   },
   "source": [
    "# Step 2: Import the FABlib Library"
   ]
  },
  {
   "cell_type": "code",
   "execution_count": null,
   "id": "6ae6b13d-afdf-422b-bf5d-63d06e526a10",
   "metadata": {},
   "outputs": [],
   "source": [
    "from fabrictestbed_extensions.fablib.fablib import FablibManager as fablib_manager\n",
    "fablib = fablib_manager()"
   ]
  },
  {
   "cell_type": "markdown",
   "id": "469d59b2-6d39-47b4-ac64-a68614cbb882",
   "metadata": {
    "tags": []
   },
   "source": [
    "# Step 3: Create the Experiment Slice\n",
    "\n",
    "The following creates three node with basic compute and networking capabilities. You build a slice by creating a new slice and adding resources to the slice. After you build the slice, you must submit a request for the slice to be instantiated.   "
   ]
  },
  {
   "cell_type": "markdown",
   "id": "441c7670-4221-4f7a-be6a-df49214141ff",
   "metadata": {
    "tags": []
   },
   "source": [
    "### Step 3.1: Create a slice\n",
    "The code below creates a new slice with the name \"my_slice\""
   ]
  },
  {
   "cell_type": "code",
   "execution_count": null,
   "id": "0202a524-b753-4859-9037-c49f410ee7d0",
   "metadata": {
    "tags": []
   },
   "outputs": [],
   "source": [
    "slice = fablib.new_slice(name=\"lab2\")"
   ]
  },
  {
   "cell_type": "markdown",
   "id": "982b3587-a231-4fbe-ba36-8d1fa67176c2",
   "metadata": {
    "tags": []
   },
   "source": [
    "### Step 3.2: Define the sites\n",
    "The code below requests three sites from FABRIC: GATECH, STAR, and NCSA"
   ]
  },
  {
   "cell_type": "markdown",
   "id": "12eaa227-4a13-48d3-a744-2a7540a4b030",
   "metadata": {
    "tags": []
   },
   "source": [
    "<img src=\"./labs_files/lab1/figs/fabric_sites.png\" width=\"550px\"><br>"
   ]
  },
  {
   "cell_type": "code",
   "execution_count": null,
   "id": "0fee3c44-13ce-4409-8cc2-b1799ad6eec3",
   "metadata": {
    "tags": []
   },
   "outputs": [],
   "source": [
    "site1='MICH'\n",
    "site2='STAR'\n",
    "site3='NCSA'\n",
    "\n",
    "print (f'The selected sites are {site1}, {site2}, {site3}') "
   ]
  },
  {
   "cell_type": "markdown",
   "id": "976bef7a-4b4d-4993-ad2d-254757b2b211",
   "metadata": {
    "tags": []
   },
   "source": [
    "### Step 3.3: Creating the nodes\n",
    "The code below creates three nodes: server1, switch, and server2. The servers (server1 and server2) use the following\n",
    "<ul>\n",
    "    <li> 4 CPU cores</li>\n",
    "    <li> 8GB RAM </li>\n",
    "    <li> 20GB disc size </li>\n",
    "    <li> Image: Ubuntu 20.04\n",
    "</ul>\n",
    "\n",
    "server1 will be created in site1 and server3 will be created in site3\n",
    "\n",
    "<img src=\"./labs_files/lab1/figs/creating_nodes.PNG\" width=\"550px\"><br>"
   ]
  },
  {
   "cell_type": "code",
   "execution_count": null,
   "id": "f189fb51-7411-43e4-a28d-8f9c2f12ade4",
   "metadata": {
    "tags": []
   },
   "outputs": [],
   "source": [
    "server1 = slice.add_node(name=\"server1\", \n",
    "                      site=site1, \n",
    "                      cores=4, \n",
    "                      ram=8, \n",
    "                      disk=20, \n",
    "                      image='default_ubuntu_20')\n",
    "\n",
    "server2 = slice.add_node(name=\"server2\", \n",
    "                      site=site3, \n",
    "                      cores=4, \n",
    "                      ram=8, \n",
    "                      disk=20, \n",
    "                      image='default_ubuntu_20')"
   ]
  },
  {
   "cell_type": "markdown",
   "id": "d47e891a-1acc-47e7-87ab-121c05a7dca1",
   "metadata": {
    "tags": []
   },
   "source": [
    "### Step 3.4: Adding the interfaces to the servers\n",
    "The code below adds a Network Interface Card (NIC) to each server.\n",
    "\n",
    "<img src=\"./labs_files/lab1/figs/adding_nics.PNG\" width=\"550px\"><br>"
   ]
  },
  {
   "cell_type": "code",
   "execution_count": null,
   "id": "57dc060a-c728-4c0c-aea5-097326c4384c",
   "metadata": {
    "tags": []
   },
   "outputs": [],
   "source": [
    "server1_iface = server1.add_component(model='NIC_Basic').get_interfaces()[0]\n",
    "server2_iface = server2.add_component(model='NIC_Basic').get_interfaces()[0]"
   ]
  },
  {
   "cell_type": "markdown",
   "id": "7c9c1468-abc9-4159-8a25-368d55a116d6",
   "metadata": {
    "tags": []
   },
   "source": [
    "### Step 3.5: Creating a node for the P4 switch\n",
    "The code below creates a node that will run the P4 switch. The node use the following\n",
    "<ul>\n",
    "    <li> 16 CPU cores</li>\n",
    "    <li> 8GB RAM </li>\n",
    "    <li> 40GB disc size </li>\n",
    "    <li> Image: Ubuntu 20.04\n",
    "</ul>\n",
    "\n",
    "The node will be created in site2\n",
    "\n",
    "<img src=\"./labs_files/lab1/figs/adding_switch.PNG\" width=\"550px\"><br>"
   ]
  },
  {
   "cell_type": "code",
   "execution_count": null,
   "id": "925b125f-ddbe-4531-89ed-b9b0a3e3f58e",
   "metadata": {
    "tags": []
   },
   "outputs": [],
   "source": [
    "# Add a node\n",
    "switch = slice.add_node(name=\"switch\", \n",
    "                      site=site2, \n",
    "                      cores=32, \n",
    "                      ram=16, \n",
    "                      disk=40, \n",
    "                      image='default_ubuntu_20')"
   ]
  },
  {
   "cell_type": "markdown",
   "id": "130eaded-960d-49ed-bb47-641630e33598",
   "metadata": {},
   "source": [
    "### Step 3.6: Adding two interfaces to the switch\n",
    "The code below adds two Network Interface Cards (NICs) to the switch.\n",
    "\n",
    "<img src=\"./labs_files/lab1/figs/adding_switch_ports.PNG\" width=\"550px\"><br>"
   ]
  },
  {
   "cell_type": "code",
   "execution_count": null,
   "id": "eb754ffc-1a51-4777-9cee-203c18d6ba90",
   "metadata": {},
   "outputs": [],
   "source": [
    "switch_iface1 = switch.add_component(model='NIC_Basic', name='net1_nic').get_interfaces()[0]\n",
    "switch_iface2 = switch.add_component(model='NIC_Basic', name='net2_nic').get_interfaces()[0]"
   ]
  },
  {
   "cell_type": "markdown",
   "id": "53baab9b-390d-4da8-8440-cd3356e56795",
   "metadata": {},
   "source": [
    "### Step 3.7: Connecting site1 and site2\n",
    "Create a site-to-site network between site1 and site2 connecting server1 and the P4 switch\n",
    "\n",
    "<img src=\"./labs_files/lab1/figs/connecting_nodes_server1_switch.PNG\" width=\"550px\"><br>"
   ]
  },
  {
   "cell_type": "code",
   "execution_count": null,
   "id": "1c536c24-f44d-4e9c-952f-4f2cb3781126",
   "metadata": {},
   "outputs": [],
   "source": [
    "net1 = slice.add_l2network(name='net1', interfaces=[server1_iface, switch_iface1])"
   ]
  },
  {
   "cell_type": "markdown",
   "id": "190e029f-3f22-47b5-9840-d879905c0790",
   "metadata": {},
   "source": [
    "### Step 3.8: Connecting site2 and site3\n",
    "Create a site-to-site network between site2 and site3 connecting the P4 switch and server2\n",
    "\n",
    "<img src=\"./labs_files/lab1/figs/connecting_nodes_server2_switch.PNG\" width=\"550px\"><br>"
   ]
  },
  {
   "cell_type": "code",
   "execution_count": null,
   "id": "5a3f7a4c-15c0-4ec6-b05f-67d61b063670",
   "metadata": {},
   "outputs": [],
   "source": [
    "net2 = slice.add_l2network(name='net2', interfaces=[switch_iface2, server2_iface])"
   ]
  },
  {
   "cell_type": "markdown",
   "id": "05d39e42-e051-43c7-aac1-79e01b758be6",
   "metadata": {},
   "source": [
    "### Step 3.9: Submitting the slice\n",
    "The code below submits the slice. \n",
    "By default, the submit function will block until the node is ready and will display the progress of your slice being built."
   ]
  },
  {
   "cell_type": "code",
   "execution_count": null,
   "id": "20724788-d10c-4470-b7a9-5f28eac2f0d9",
   "metadata": {},
   "outputs": [],
   "source": [
    "#Submit Slice Request\n",
    "slice.submit();"
   ]
  },
  {
   "cell_type": "markdown",
   "id": "865e6b9c-3e59-4eac-81f5-1674eebe3e24",
   "metadata": {},
   "source": [
    "# Step 4: Installing the required packages\n",
    "In this step, we will install the required packages to run the labs. Specifically, we will install the BMv2 software switch and its control plane, the P4 compiler (p4c), and net-tools.\n"
   ]
  },
  {
   "cell_type": "markdown",
   "id": "db92961c-369f-4e13-8921-b6ff6c974ad3",
   "metadata": {},
   "source": [
    "## Step 4.1 Installing BMv2\n",
    "The BMv2 software switch will be installed on the switch node. We will upload the script [scripts/install_bmv2.sh](./scripts/install_bmv2.sh) to the switch and execute it"
   ]
  },
  {
   "cell_type": "code",
   "execution_count": null,
   "id": "3ba26943-2f8e-4c9f-8944-8ba7b3efdf85",
   "metadata": {},
   "outputs": [],
   "source": [
    "switch = slice.get_node(name=\"switch\")     \n",
    "switch.upload_file('scripts/install_bmv2.sh', 'install_bmv2.sh')\n",
    "stdout, stderr = switch.execute(f'chmod +x install_bmv2.sh &&  ./install_bmv2.sh',quiet=True)"
   ]
  },
  {
   "cell_type": "markdown",
   "id": "e2c7ebaa-aa9e-43a8-9292-593a85dd6dc3",
   "metadata": {
    "tags": []
   },
   "source": [
    "## Step 4.2 Installing net-tools\n",
    "The net-tools package will be installed on the switch, server1 and server2 nodes. This package will allow us to use the ifconfig and the arp commands "
   ]
  },
  {
   "cell_type": "code",
   "execution_count": null,
   "id": "23cacc52-8185-40f1-8eaf-b391ce1b720e",
   "metadata": {},
   "outputs": [],
   "source": [
    "server1 = slice.get_node(name=\"server1\")\n",
    "server2 = slice.get_node(name=\"server2\")\n",
    "stdout, stderr = server1.execute(f'sudo apt-get install -y net-tools', quiet=True)\n",
    "stdout, stderr = server2.execute(f'sudo apt-get install -y net-tools', quiet=True)\n",
    "stdout, stderr = switch.execute(f'sudo apt-get install -y net-tools', quiet=True)"
   ]
  },
  {
   "cell_type": "markdown",
   "id": "1c97b66b-0723-4bdd-9677-c02b430b5d44",
   "metadata": {},
   "source": [
    "## Step 4.3 Installing scapy\n",
    "Installing scapy to be able to craft and send raw packets on the servers\n"
   ]
  },
  {
   "cell_type": "code",
   "execution_count": null,
   "id": "e0e47072-8f02-4285-8ea3-bf6fa5977d77",
   "metadata": {},
   "outputs": [],
   "source": [
    "stdout, stderr = server1.execute(f'sudo apt-get update && sudo apt-get install -y python3-scapy', quiet=True)\n",
    "stdout, stderr = server2.execute(f'sudo apt-get update && sudo apt-get install -y python3-scapy', quiet=True)"
   ]
  },
  {
   "cell_type": "markdown",
   "id": "8edae1d9-dc1b-4a34-a1f7-f2533d11c908",
   "metadata": {},
   "source": [
    "# Step 5: Assigning IP and MAC addresses\n",
    "In this step, we will assign IPv4 addresses to the interfaces of the servers and the switch. We will also hardcode the MAC addresses. "
   ]
  },
  {
   "cell_type": "markdown",
   "id": "956741f7-de30-4bdd-afd2-e4598b6cc808",
   "metadata": {},
   "source": [
    "## Step 5.1: Get interfaces names\n",
    "In this step we will get the interface names so that we can assign IP addresses to them. Map the printed interface names to those seen in this figure:\n",
    "\n",
    "<img src=\"./labs_files/lab1/figs/interfaces.PNG\" width=\"550px\"><br>"
   ]
  },
  {
   "cell_type": "code",
   "execution_count": null,
   "id": "367b34bb-baef-4d39-9041-ed346b34d990",
   "metadata": {},
   "outputs": [],
   "source": [
    "node1_iface = server1.get_interface(network_name='net1') \n",
    "server1_iface_name = node1_iface.get_device_name()\n",
    "print(f'server1_iface: {server1_iface_name}')\n",
    "\n",
    "node2_iface = server2.get_interface(network_name='net2') \n",
    "server2_iface_name = node2_iface.get_device_name()\n",
    "print(f'server2_iface: {server2_iface_name}')\n",
    "\n",
    "switch_iface1 = switch.get_interface(network_name='net1') \n",
    "switch_iface1_name = switch_iface1.get_device_name()\n",
    "print(f'switch_iface1: {switch_iface1_name}')\n",
    "\n",
    "switch_iface2 = switch.get_interface(network_name='net2') \n",
    "switch_iface2_name = switch_iface2.get_device_name()\n",
    "print(f'switch_iface2: {switch_iface2_name}')"
   ]
  },
  {
   "cell_type": "markdown",
   "id": "42f0264f-7b70-4533-838e-a5671858da5f",
   "metadata": {
    "tags": []
   },
   "source": [
    "## Step 5.2: Turning all interfaces up\n",
    "In this step, we will use the ip link command to turn the interfaces up\n",
    "\n",
    "<img src=\"./labs_files/lab1/figs/interfaces_up.PNG\" width=\"550px\"><br>"
   ]
  },
  {
   "cell_type": "code",
   "execution_count": null,
   "id": "21a2c265-a7ca-4a06-a8f0-b8023afaf779",
   "metadata": {
    "tags": []
   },
   "outputs": [],
   "source": [
    "stdout, stderr = server1.execute(f'sudo ip link set dev {server1_iface_name} up', quiet=True)\n",
    "stdout, stderr = server2.execute(f'sudo ip link set dev {server2_iface_name} up', quiet=True)\n",
    "stdout, stderr = switch.execute(f'sudo ip link set dev {switch_iface1_name} up', quiet=True)\n",
    "stdout, stderr = switch.execute(f'sudo ip link set dev {switch_iface2_name} up', quiet=True)"
   ]
  },
  {
   "cell_type": "markdown",
   "id": "5275dd72-a36b-4fc9-9c67-5948d465a332",
   "metadata": {
    "tags": []
   },
   "source": [
    "## Step 5.3: Hardcode MAC addresses\n",
    "For simplicity, we will use the following MAC addresses for the interfaces:\n",
    "<ul>\n",
    "    <li> server1_iface_MAC = '00:00:00:00:00:01' (shown as 00:01 in the figure below) </li>\n",
    "    <li>switch_iface1_MAC = '00:00:00:00:00:02' (shown as 00:02 in the figure below)</li>\n",
    "    <li>switch_iface2_MAC = '00:00:00:00:00:03' (shown as 00:03 in the figure below)</li>\n",
    "    <li>server2_iface_MAC = '00:00:00:00:00:04' (shown as 00:04 in the figure below)</li>\n",
    "</ul>\n",
    "\n",
    "<img src=\"./labs_files/lab1/figs/mac_addresses.PNG\" width=\"550px\"><br>"
   ]
  },
  {
   "cell_type": "code",
   "execution_count": null,
   "id": "7d7f7870-b447-4fb9-adb9-c97fb8d8dc23",
   "metadata": {
    "tags": []
   },
   "outputs": [],
   "source": [
    "server1_iface_MAC = '00:00:00:00:00:01'\n",
    "switch_iface1_MAC = '00:00:00:00:00:02'\n",
    "switch_iface2_MAC = '00:00:00:00:00:03'\n",
    "server2_iface_MAC = '00:00:00:00:00:04'"
   ]
  },
  {
   "cell_type": "markdown",
   "id": "79d5bc5b-91f1-4097-a2b3-71c47259599e",
   "metadata": {},
   "source": [
    "## Step 5.4 Configuring the IP and MAC addresses on server1_iface and switch_iface1\n",
    "\n",
    "We will use the network 192.168.1.0/24 between Site1 and Site2. We will assign the IP address 192.168.1.10 to server1's interface and 192.168.1.1 to its neighboring interface on the switch.\n",
    "\n",
    "<img src=\"./labs_files/lab1/figs/IPs_1.PNG\" width=\"550px\"><br>"
   ]
  },
  {
   "cell_type": "code",
   "execution_count": null,
   "id": "30979a1c-36b7-4a9b-9eb5-0d8964db1ce2",
   "metadata": {
    "tags": []
   },
   "outputs": [],
   "source": [
    "server1 = slice.get_node(name=\"server1\")     \n",
    "\n",
    "server1_switch_subnet = \"192.168.1.0/24\"\n",
    "server1_ip = '192.168.1.10/24'\n",
    "switch_ip1 = '192.168.1.1/24'\n",
    "\n",
    "stdout, stderr = server1.execute(f'sudo ifconfig {server1_iface_name} {server1_ip}')\n",
    "stdout, stderr = switch.execute(f'sudo ifconfig {switch_iface1_name} {switch_ip1}')\n",
    "\n",
    "stdout, stderr = server1.execute(f'sudo ifconfig {server1_iface_name} hw ether {server1_iface_MAC}')\n",
    "stdout, stderr = switch.execute(f'sudo ifconfig {switch_iface1_name} hw ether {switch_iface1_MAC}')"
   ]
  },
  {
   "cell_type": "markdown",
   "id": "371a4689-324a-4a1d-9473-096682eb63f7",
   "metadata": {},
   "source": [
    "## Step 5.5: Configuring the IP and MAC addresses on switch_iface2 and server2_iface\n",
    "\n",
    "We will use the network 192.168.2.0/24 between Site2 and Site3. We will assign the IP address 192.168.2.10 to server2's interface and 192.168.2.1 to its neighboring interface on the switch.\n",
    "\n",
    "<img src=\"./labs_files/lab1/figs/IPs_2.PNG\" width=\"550px\"><br>"
   ]
  },
  {
   "cell_type": "code",
   "execution_count": null,
   "id": "bac1c500-6f71-4aa9-b8fa-99d608a0bff6",
   "metadata": {
    "tags": []
   },
   "outputs": [],
   "source": [
    "server2 = slice.get_node(name=\"server2\")     \n",
    "\n",
    "server2_switch_subnet = \"192.168.2.0/24\"\n",
    "server2_ip = '192.168.2.10/24'\n",
    "switch_ip2 = '192.168.2.1/24'\n",
    "\n",
    "stdout, stderr = server2.execute(f'sudo ifconfig {server2_iface_name} {server2_ip}')\n",
    "stdout, stderr = switch.execute(f'sudo ifconfig {switch_iface2_name} {switch_ip2}')\n",
    "\n",
    "stdout, stderr = server2.execute(f'sudo ifconfig {server2_iface_name} hw ether {server2_iface_MAC}')\n",
    "stdout, stderr = switch.execute(f'sudo ifconfig {switch_iface2_name} hw ether {switch_iface2_MAC}')"
   ]
  },
  {
   "cell_type": "markdown",
   "id": "ed199b6d-f341-4f24-9c0b-a64631ece324",
   "metadata": {},
   "source": [
    "# Step 6: Configure forwarding and routing"
   ]
  },
  {
   "cell_type": "markdown",
   "id": "c90a6594-ea6e-4d87-9925-3baf5571096c",
   "metadata": {},
   "source": [
    "## Step 6.1: Enable forwarding on the switch\n",
    "\n",
    "The command \"sudo sysctl -w net.ipv4.ip_forward=1\" is used to enable IP forwarding on a Linux system.\n",
    "\n",
    "IP forwarding is a feature that allows a system to act as a router by forwarding network packets from one network interface to another. By default, IP forwarding is usually disabled on Linux systems for security reasons. \n",
    "\n",
    "The command will be executed on the switch device."
   ]
  },
  {
   "cell_type": "code",
   "execution_count": null,
   "id": "0b0b5f62-4ac8-486b-b0a6-e8e468161a31",
   "metadata": {},
   "outputs": [],
   "source": [
    "command = 'sudo sysctl -w net.ipv4.ip_forward=1' \n",
    "stdout, stderr = switch.execute(command, quiet=True)"
   ]
  },
  {
   "cell_type": "markdown",
   "id": "6a4e3170-f17f-495e-bd2c-1361bc1d2317",
   "metadata": {},
   "source": [
    "## Step 6.2: Delete routing entries for the routes to force traffic to go through the BMv2 switch\n",
    "\n",
    "In this step, we are deleting the routes on the switch's routing table in Linux. By deleting the routes, the packets will go through the BMv2 switch instead of being forwarded by the kernel"
   ]
  },
  {
   "cell_type": "code",
   "execution_count": null,
   "id": "d32e28ee-d890-4ee0-bf1c-d6b6eedfb9c0",
   "metadata": {},
   "outputs": [],
   "source": [
    "stdout, stderr = switch.execute(f'sudo ip route del {server1_switch_subnet}', quiet=True)\n",
    "stdout, stderr = switch.execute(f'sudo ip route del {server2_switch_subnet}', quiet=True)"
   ]
  },
  {
   "cell_type": "markdown",
   "id": "c2dc3837-d493-48c0-92b8-244296e166ee",
   "metadata": {},
   "source": [
    "## Step 6.3: Configure routing\n",
    "\n",
    "In this step, we will configure static routes on server1 and server2. \n",
    "<ul>\n",
    "    <li> For server1, we will add a route to reach the network 192.168.2.0/24 via 192.168.1.1 </li>\n",
    "    <li> For server2, we will add a route to reach the network 192.168.1.0/24 via 192.168.2.1 </li>\n",
    "</ul>\n",
    "\n",
    "<img src=\"./labs_files/lab1/figs/routing.PNG\" width=\"550px\"><br>"
   ]
  },
  {
   "cell_type": "code",
   "execution_count": null,
   "id": "69cdfdf5-011e-45c5-bab1-da388e4427a0",
   "metadata": {},
   "outputs": [],
   "source": [
    "gw1 = switch_ip1.split('/')[0]\n",
    "gw2 = switch_ip2.split('/')[0]\n",
    "stdout, stderr = server1.execute(f'sudo ip route add {server2_switch_subnet} via {gw1}')\n",
    "stdout, stderr = server2.execute(f'sudo ip route add {server1_switch_subnet} via {gw2}')"
   ]
  },
  {
   "cell_type": "markdown",
   "id": "15edef9d-f7a5-4994-9d97-1a4b036a97be",
   "metadata": {
    "tags": []
   },
   "source": [
    "## Step 6.4: Configure ARP\n",
    "\n",
    "In this step, we will configure static ARP entries on server1 and server2. The reason we are doing this is because the switch does not process ARP packets unless programmed to. To make sure that ARP packets are not sent towards the switch, we will hardcode the MACs on the servers.\n",
    "\n",
    "For each server, we will add an ARP entry to its switch's neighboring interface."
   ]
  },
  {
   "cell_type": "code",
   "execution_count": null,
   "id": "7bbf2b87-f92b-47c6-a6a7-4bae0a0a52a6",
   "metadata": {},
   "outputs": [],
   "source": [
    "stdout, stderr = server1.execute(f'sudo arp -s {gw1} {switch_iface1_MAC}')\n",
    "stdout, stderr = server2.execute(f'sudo arp -s {gw2} {switch_iface2_MAC}')"
   ]
  },
  {
   "cell_type": "markdown",
   "id": "02919ce9-ab5f-4f75-a0e0-08335a8d3b93",
   "metadata": {},
   "source": [
    "# Step 7:  Navigating through the components of a basic P4 program\n",
    "\n",
    "This section shows the steps required to compile the P4 program. It illustrates the editor that will be used to modify the P4 program, and the P4 compiler that will produce a data plane program for the software switch. \n",
    " "
   ]
  },
  {
   "cell_type": "markdown",
   "id": "2b571c06-bfd5-464a-acf4-d28845c8e840",
   "metadata": {
    "tags": []
   },
   "source": [
    "# Step 7.1: Describing the components of the P4 program\n",
    "\n",
    "Click on [basic.p4](./labs_files/lab2/src/basic.p4) to open the file in the editor.\n",
    "\n",
    "<img src=\"./labs_files/lab2/figs/basic.png\" width=\"550px\"><br>\n",
    "\n",
    "The basic.p4 file includes the starting point of the P4 program and other files that are specific to the language (core.p4) and to the architecture (v1model.p4). To make the P4 program easier to read and understand, we separated the whole program into different files. To use those files, the main file (basic.p4) must include them first. For example, to use the parser, we need to include the parser.p4 file (#include “parser.p4”).\n",
    "\n",
    "We will navigate through the files in sequence as they appear in the architecture.\n",
    "\n",
    "<hr>\n",
    "\n",
    "Click on [headers.p4](./labs_files/lab2/src/headers.p4) to open the file in the editor.\n",
    "\n",
    "<img src=\"./labs_files/lab2/figs/headers.png\" width=\"550px\"><br>\n",
    "\n",
    "The headers.p4 above shows the headers that will be used in our pipeline. We can see that the ethernet and the IPv4 headers are defined. We can also see how they are grouped into a structure (struct headers). The headers name will be used throughout the program when referring to the headers. Furthermore, the file shows how we can use typedef to provide an alternative name to a type.\n",
    "\n",
    "<hr>\n",
    "\n",
    "Click on [parser.p4](./labs_files/lab2/src/parser.p4) to open the file in the editor.\n",
    "\n",
    "<img src=\"./labs_files/lab2/figs/parser.png\" width=\"550px\"><br>\n",
    "\n",
    "The figure above shows the content of the parser.p4 file. We can see that the parser is already written with the name MyParser. This name will be used when defining the pipeline sequence. \n",
    "\n",
    "<hr>\n",
    "\n",
    "Click on [ingress.p4](./labs_files/lab2/src/ingress.p4) to open the file in the editor.\n",
    "\n",
    "<img src=\"./labs_files/lab2/figs/ingress.png\" width=\"550px\"><br>\n",
    "\n",
    "The figure above shows the content of the ingress.p4 file. We can see that the ingress is already written with the name MyIngress. This name will be used when defining the pipeline sequence.\n",
    "\n",
    "<hr>\n",
    "\n",
    "Click on [egress.p4](./labs_files/lab2/src/egress.p4) to open the file in the editor.\n",
    "\n",
    "<img src=\"./labs_files/lab2/figs/egress.png\" width=\"550px\"><br>\n",
    "\n",
    "The figure above shows the content of the egress.p4 file. We can see that the egress is already written with the name MyEgress. This name will be used when defining the pipeline sequence. \n",
    "\n",
    "<hr>\n",
    "\n",
    "Click on [checksum.p4](./labs_files/lab2/src/checksum.p4) to open the file in the editor.\n",
    "\n",
    "<img src=\"./labs_files/lab2/figs/checksum.png\" width=\"550px\"><br>\n",
    "\n",
    "The figure above shows the content of the checksum.p4 file. We can see that the checksum is already written with two control blocks: MyVerifyChecksum and MyComputeChecksum. These names will be used when defining the pipeline sequence. Note that MyVerifyChecksum is empty since no checksum verification is performed in this lab.\n",
    "\n",
    "<hr>\n",
    "\n",
    "Click on [deparser.p4](./labs_files/lab2/src/deparser.p4) to open the file in the editor.\n",
    "\n",
    "<img src=\"./labs_files/lab2/figs/deparser.png\" width=\"550px\"><br>\n",
    "\n",
    "The figure above shows the content of the deparser.p4 file. We can see that the deparser is already written with two instructions that reassemble the packet."
   ]
  },
  {
   "cell_type": "markdown",
   "id": "2490bcce-4327-4762-ab59-4975138bc50c",
   "metadata": {
    "jp-MarkdownHeadingCollapsed": true,
    "tags": []
   },
   "source": [
    "# Step 7.2: Programming the pipeline sequence \n",
    "\n",
    "Now it is time to write the pipeline sequence in the basic.p4 program. \n",
    "\n",
    "Click on [basic.p4](./labs_files/lab2/src/basic.p4) to open the file in the editor.\n",
    "\n",
    "Write the following block of code at the end of the file:\n",
    "\n",
    "    V1Switch (\n",
    "        MyParser(),\n",
    "        MyVerifyChecksum(),\n",
    "        MyIngress(),\n",
    "        MyEgress(),\n",
    "        MyComputeChecksum(),\n",
    "        MyDeparser()\n",
    "    ) main;\n",
    "  \n",
    "<img src=\"./labs_files/lab2/figs/basic_filled.png\" width=\"500px\"><br>\n",
    "\n",
    "We can see here that we are defining the pipeline sequence according to the V1Model architecture. First, we start by the parser, then we verify the checksum. Afterwards, we specify the ingress block and the egress block, and we recompute the checksum. Finally, we specify the deparser.\n",
    "\n",
    "**Save the changes by pressing Ctrl+s.**"
   ]
  },
  {
   "cell_type": "markdown",
   "id": "d6e192e3-0755-4e4b-92fb-5ec5f2ba2b4e",
   "metadata": {
    "tags": []
   },
   "source": [
    "# Step 8: Uploading and Running the P4 program to the switch\n",
    "\n",
    "In this step, we upload the P4 program to the switch, compile it, and start the switch daemon. "
   ]
  },
  {
   "cell_type": "markdown",
   "id": "0e9b626c-8ef1-4073-9c7b-2fdce832e3cd",
   "metadata": {
    "tags": []
   },
   "source": [
    "## Step 8.1: Uploading the P4 program\n",
    "\n",
    "The P4 program [basic.p4](labs_files/lab2/src/basic.p4) is located under lab_files/lab2/src.\n",
    "\n",
    "We will be uploading the whole directory since it includes other P4 files. "
   ]
  },
  {
   "cell_type": "code",
   "execution_count": null,
   "id": "929a0f19-cece-40cf-a474-6bb61d9a81c8",
   "metadata": {
    "tags": []
   },
   "outputs": [],
   "source": [
    "switch = slice.get_node(name='switch')        \n",
    "switch.upload_directory('labs_files/lab2/src', '/home/ubuntu/lab2')"
   ]
  },
  {
   "cell_type": "markdown",
   "id": "01cdd329-9f46-43f9-9937-c17f9d5895e7",
   "metadata": {},
   "source": [
    "## Step 8.2: Compiling the P4 program\n",
    "\n",
    "In this step, we will use the p4c compiler to compile the program.\n",
    "\n",
    "Launch a new terminal by clicking on \"File\" -> \"New\" -> \"Terminal\".\n",
    "\n",
    "<img src=\"./labs_files/lab2/figs/terminal.gif\" width=\"600px\"><br>\n",
    "\n",
    "Copy the output of the command below and paste into the terminal to enter to the switch."
   ]
  },
  {
   "cell_type": "code",
   "execution_count": null,
   "id": "a15e7509-3f1f-4e1e-ac6e-114768ce10a8",
   "metadata": {},
   "outputs": [],
   "source": [
    "switch.get_ssh_command()"
   ]
  },
  {
   "cell_type": "markdown",
   "id": "bc2209a4-ba1c-4bfb-8298-9ffb129ac8bf",
   "metadata": {},
   "source": [
    "Run the following commands in the terminal:\n",
    "    \n",
    "    sudo su\n",
    "    p4c lab2/src/basic.p4\n",
    "    simple_switch -i 0@ens8 -i 1@ens7 basic.json --log-console\n",
    "    \n",
    "<img src=\"./labs_files/lab2/figs/daemon.png\" width=\"750px\"><br>"
   ]
  },
  {
   "cell_type": "markdown",
   "id": "c96a9dc5-4412-426a-bf66-6f7b30f54215",
   "metadata": {},
   "source": [
    "## Step 8.3: Populating table from the control plane\n",
    "\n",
    "In this step we will populate the forwarding table by executing a script. We will learn how to populate the tables manually in another lab."
   ]
  },
  {
   "cell_type": "code",
   "execution_count": null,
   "id": "359e7d84-5089-4611-8c10-e29dbe4c74a6",
   "metadata": {
    "tags": []
   },
   "outputs": [],
   "source": [
    "switch.upload_file('labs_files/lab2/rules.sh', 'rules.sh')\n",
    "stdout, stderr = switch.execute('chmod +x rules.sh && ./rules.sh')"
   ]
  },
  {
   "cell_type": "markdown",
   "id": "1eac9af2-c54d-4c64-a38e-239b7f1e0cc4",
   "metadata": {},
   "source": [
    "## Step 8.4: Sending a packet from server1 to the switch\n",
    "\n",
    "In this step, we will send a packet from server1 to server2. The packet will be processed in the switch. "
   ]
  },
  {
   "cell_type": "code",
   "execution_count": null,
   "id": "2cac1cf0-ef99-4df0-9972-d771c45264dd",
   "metadata": {},
   "outputs": [],
   "source": [
    "server1.upload_file('labs_files/lab2/src/send.py', 'send.py')\n",
    "#server1.execute(f'sudo python3 send.py {server1_iface} 192.168.1.10 192.168.2.10 HelloWorld')\n",
    "stdout, stderr = server1.execute(f'sudo python3 send.py ens7 192.168.1.10 192.168.2.10 HelloWorld')"
   ]
  },
  {
   "cell_type": "markdown",
   "id": "1cb0a50d-dbeb-441e-8aaa-7fe141833569",
   "metadata": {},
   "source": [
    "## Step 8.5: Inspect the logs on the switch\n",
    "\n",
    "Go back to the switch terminal and inspect the logs.\n",
    "\n",
    "<img src=\"./labs_files/lab2/figs/switch_output.png\" width=\"750px\"><br>\n",
    "\n",
    "The figure above shows the processing logic as the packet enters the switch. The packet\n",
    "arrives on port 0, then the parser starts extracting the headers. After the parsing is done, the packet is processed in the ingress and in the egress pipelines. Then, the checksum update is executed and the deparser reassembles and emits the packet\n",
    "using port 1 (port_out: 1)."
   ]
  },
  {
   "cell_type": "markdown",
   "id": "00adae7a-06d3-41a8-8882-270f69711e69",
   "metadata": {
    "tags": []
   },
   "source": [
    "## Step 9: Delete the Slice\n",
    "\n",
    "This concludes Lab 2. Please delete your slice when you are done with your experiment."
   ]
  },
  {
   "cell_type": "code",
   "execution_count": null,
   "id": "21dfbc92-43e0-458f-b86d-082844fef021",
   "metadata": {
    "tags": []
   },
   "outputs": [],
   "source": [
    "from fabrictestbed_extensions.fablib.fablib import FablibManager as fablib_manager\n",
    "fablib = fablib_manager()\n",
    "slice = fablib.get_slice(name=\"lab2\")\n",
    "slice.delete()"
   ]
  }
 ],
 "metadata": {
  "kernelspec": {
   "display_name": "Python 3 (ipykernel)",
   "language": "python",
   "name": "python3"
  },
  "language_info": {
   "codemirror_mode": {
    "name": "ipython",
    "version": 3
   },
   "file_extension": ".py",
   "mimetype": "text/x-python",
   "name": "python",
   "nbconvert_exporter": "python",
   "pygments_lexer": "ipython3",
   "version": "3.10.6"
  }
 },
 "nbformat": 4,
 "nbformat_minor": 5
}
