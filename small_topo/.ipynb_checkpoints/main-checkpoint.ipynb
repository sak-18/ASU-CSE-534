{
 "cells": [
  {
   "cell_type": "markdown",
   "id": "a607356b-0dfa-48c5-aad7-df9905cc84a5",
   "metadata": {},
   "source": [
    "## Virtual Labs on P4 Programmable Data Plane Switches (BMv2) \n",
    "\n",
    "The labs provide a hands-on experience on P4 programmable data plane switches using the Behavioral Model version 2 (BMv2) software switch. The lab series explains topics that include parsing, match-action tables, checksum verification, and others. \n",
    "\n",
    "The lab series is developed by the Cyberinfrastructure Lab (CILab) at the University of South Carolina (USC).\n",
    "\n",
    "<img src=\"./labs_files/lab1/figs/fabric_topology.png\" width=\"550px\"><br>\n",
    "\n",
    "### Labs:\n",
    "\n",
    "- [Lab 1 - Creating a Slice with a P4 Switch](./lab1_creating_a_slice_with_a_P4_switch.ipynb): This lab describes how to create a slice with a P4 switch. It also shows how to deploy the high-performance BMv2 switch to achieve up to ~1Gbps throughput.\n",
    "- [Lab 2 - P4 Program Building Blocks](./lab2_P4_program_building_blocks.ipynb): This lab describes the building blocks and the general structure of a P4 program. It maps the program’s components to the Protocol-Independent Switching Architecture (PISA).\n",
    "- [Lab 3 - Parser Implementation](./lab3_parser_implementation.ipynb): This lab describes how to define custom headers in a P4 program. It then explains how to implement a simple parser that parses the defined headers.\n",
    "- [Lab 4 - Introduction to Match-action Tables](./lab4_introduction_to_match-action_tables.ipynb): This lab describes match-action tables and how to define them in a P4 program. It then explains the different types of matching that can be performed on keys.\n",
    "- [Lab 5 - Populating and Managing Match-action Tables at Runtime](./lab5_populating_and_managing_match-action_tables_at_runtime.ipynb): This lab describes how to populate and manage match-action tables at runtime. It then explains a tool (simple_switch_CLI) that is used with the software switch (BMv2) to manage the tables.\n",
    "- [Lab 6 - Checksum Recalculation and Packet Deparsing](./lab6_checksum_recalculation_and_packet_deparsing.ipynb): This lab describes how to recompute the checksum of a header. Recomputing the checksum is necessary if the packet header was modified by the P4 program. The lab also describes how a P4 program performs deparsing to emit headers.\n"
   ]
  }
 ],
 "metadata": {
  "kernelspec": {
   "display_name": "Python 3 (ipykernel)",
   "language": "python",
   "name": "python3"
  },
  "language_info": {
   "codemirror_mode": {
    "name": "ipython",
    "version": 3
   },
   "file_extension": ".py",
   "mimetype": "text/x-python",
   "name": "python",
   "nbconvert_exporter": "python",
   "pygments_lexer": "ipython3",
   "version": "3.10.6"
  }
 },
 "nbformat": 4,
 "nbformat_minor": 5
}
