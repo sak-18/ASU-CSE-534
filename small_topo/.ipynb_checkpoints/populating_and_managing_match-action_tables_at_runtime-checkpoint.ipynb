{
 "cells": [
  {
   "cell_type": "markdown",
   "id": "ab5adb1a-770d-446f-8c45-582248410587",
   "metadata": {},
   "source": [
    "# Lab 5 - Populating and Managing Match-action Tables at Runtime\n",
    "\n",
    "This lab describes how to populate and manage match-action tables at runtime. It then explains a tool (simple_switch_CLI) that is used with the software switch (BMv2) to manage the tables. \n",
    "\n",
    "<img src=\"./labs_files/lab1/figs/fabric_topology.png\" width=\"550px\"><br>"
   ]
  },
  {
   "cell_type": "markdown",
   "id": "54f01323-f1ec-4eb6-b165-d587bdef7391",
   "metadata": {},
   "source": [
    "# Background\n",
    "\n",
    "## Runtime \n",
    "\n",
    "Once a P4 program is compiled into a target-specific configuration, the output is loaded into the data plane of the device. Then, the behavior of the P4 target can be managed at runtime by the control plane via data plane Application Programming Interface (APIs). Runtime operations include inserting, updating, and deleting entries in P4 tables as well as controlling other entities of the program such as counters, meters, etc.  \n",
    "\n",
    "Runtime APIs can be divided into program-dependent and program-independent APIs. Program-dependent APIs comprise functions whose names are derived from the P4 program itself. Thus, any changes to the P4 program would modify the names and the definitions of the APIs’ functions. Program-independent APIs comprise a set of fixed functions that are independent of the P4 program. Therefore, changes in the P4 programs do not affect those APIs. \n",
    "\n",
    "The control plane that manages the data plane tables and externs can be remote or local on the device. Remote control planes invoke API calls through Remote Procedure Calls (RPCs) while relying on asynchronous message frameworks such as Thrift1 and gRPC2. Such frameworks use protocol buffers (protobuf) to define service API and message, and HTTP/2.0 and TLS for transport. On the other hand, a local control plane runs on the Central Processing Unit (CPU) of the device and invokes API calls locally. It is implemented by the driver of the device. \n",
    "\n",
    "Figure 1 shows the runtime environment used in this lab series to control the P4 target (BMv2). The control plane uses the simple_switch_CLI tool to interact with the data plane. The simple_switch_CLI includes a program-independent CLI and a Thrift client which connects to the program-independent control server residing on the BMv2 switch. \n",
    "\n",
    "\n",
    "<img src=\"./labs_files/lab5/figs/runtime.png\" width=\"350px\"><br>\n",
    "\n"
   ]
  },
  {
   "cell_type": "markdown",
   "id": "a3b14494-a097-4a69-88a2-1e0baac727fb",
   "metadata": {
    "jp-MarkdownHeadingCollapsed": true,
    "tags": []
   },
   "source": [
    "# Step 1:  Configure the Environment\n",
    "\n",
    "Before running this notebook, you will need to configure your environment using the [Configure Environment](../../../configure.ipynb) notebook. Please stop here, open and run that notebook, then return to this notebook.\n",
    "\n",
    "If you are using the FABRIC JupyterHub many of the environment variables will be automatically configured for you.  You will still need to set your bastion username, upload your bastion private key, and set the path to where you put your bastion private key. Your bastion username and private key should already be in your possession.  \n",
    "\n",
    "If you are using the FABRIC API outside of the JupyterHub you will need to configure all of the environment variables. Defaults below will be correct in many situations but you will need to confirm your configuration.  If you have questions about this configuration, please contact the FABRIC admins using the [FABRIC User Forum](https://learn.fabric-testbed.net/forums/) \n",
    "\n",
    "More information about accessing your experiments through the FABRIC bastion hosts can be found [here](https://learn.fabric-testbed.net/knowledge-base/logging-into-fabric-vms/).\n",
    " "
   ]
  },
  {
   "cell_type": "markdown",
   "id": "a7944d6d-f5f9-40ae-badb-4dc2c90e373b",
   "metadata": {
    "tags": []
   },
   "source": [
    "# Step 2: Import the FABlib Library"
   ]
  },
  {
   "cell_type": "code",
   "execution_count": 1,
   "id": "6ae6b13d-afdf-422b-bf5d-63d06e526a10",
   "metadata": {},
   "outputs": [],
   "source": [
    "from fabrictestbed_extensions.fablib.fablib import FablibManager as fablib_manager\n",
    "fablib = fablib_manager()"
   ]
  },
  {
   "cell_type": "markdown",
   "id": "469d59b2-6d39-47b4-ac64-a68614cbb882",
   "metadata": {
    "tags": []
   },
   "source": [
    "# Step 3: Create the Experiment Slice\n",
    "\n",
    "The following creates three node with basic compute and networking capabilities. You build a slice by creating a new slice and adding resources to the slice. After you build the slice, you must submit a request for the slice to be instantiated.   "
   ]
  },
  {
   "cell_type": "markdown",
   "id": "441c7670-4221-4f7a-be6a-df49214141ff",
   "metadata": {
    "tags": []
   },
   "source": [
    "### Step 3.1: Create a slice\n",
    "The code below creates a new slice with the name \"lab5\""
   ]
  },
  {
   "cell_type": "code",
   "execution_count": 2,
   "id": "0202a524-b753-4859-9037-c49f410ee7d0",
   "metadata": {
    "tags": []
   },
   "outputs": [],
   "source": [
    "slice = fablib.new_slice(name=\"lab5\")"
   ]
  },
  {
   "cell_type": "markdown",
   "id": "982b3587-a231-4fbe-ba36-8d1fa67176c2",
   "metadata": {
    "tags": []
   },
   "source": [
    "### Step 3.2: Define the sites\n",
    "The code below requests three sites from FABRIC: MICH, STAR, and NCSA"
   ]
  },
  {
   "cell_type": "markdown",
   "id": "12eaa227-4a13-48d3-a744-2a7540a4b030",
   "metadata": {
    "tags": []
   },
   "source": [
    "<img src=\"./labs_files/lab1/figs/fabric_sites.png\" width=\"550px\"><br>"
   ]
  },
  {
   "cell_type": "code",
   "execution_count": 3,
   "id": "0fee3c44-13ce-4409-8cc2-b1799ad6eec3",
   "metadata": {
    "tags": []
   },
   "outputs": [
    {
     "name": "stdout",
     "output_type": "stream",
     "text": [
      "The selected sites are UCSD, STAR, NCSA\n"
     ]
    }
   ],
   "source": [
    "site1='UCSD'\n",
    "site2='STAR'\n",
    "site3='NCSA'\n",
    "\n",
    "print (f'The selected sites are {site1}, {site2}, {site3}') "
   ]
  },
  {
   "cell_type": "markdown",
   "id": "976bef7a-4b4d-4993-ad2d-254757b2b211",
   "metadata": {
    "tags": []
   },
   "source": [
    "### Step 3.3: Creating the nodes\n",
    "The code below creates three nodes: server1, switch, and server2. The servers (server1 and server2) use the following\n",
    "<ul>\n",
    "    <li> 4 CPU cores</li>\n",
    "    <li> 8GB RAM </li>\n",
    "    <li> 20GB disc size </li>\n",
    "    <li> Image: Ubuntu 20.04\n",
    "</ul>\n",
    "\n",
    "server1 will be created in site1 and server3 will be created in site3\n",
    "\n",
    "<img src=\"./labs_files/lab1/figs/creating_nodes.PNG\" width=\"550px\"><br>"
   ]
  },
  {
   "cell_type": "code",
   "execution_count": 4,
   "id": "f189fb51-7411-43e4-a28d-8f9c2f12ade4",
   "metadata": {
    "tags": []
   },
   "outputs": [],
   "source": [
    "server1 = slice.add_node(name=\"server1\", \n",
    "                      site=site1, \n",
    "                      cores=4, \n",
    "                      ram=8, \n",
    "                      disk=20, \n",
    "                      image='default_ubuntu_20')\n",
    "\n",
    "server2 = slice.add_node(name=\"server2\", \n",
    "                      site=site3, \n",
    "                      cores=4, \n",
    "                      ram=8, \n",
    "                      disk=20, \n",
    "                      image='default_ubuntu_20')"
   ]
  },
  {
   "cell_type": "markdown",
   "id": "d47e891a-1acc-47e7-87ab-121c05a7dca1",
   "metadata": {
    "tags": []
   },
   "source": [
    "### Step 3.4: Adding the interfaces to the servers\n",
    "The code below adds a Network Interface Card (NIC) to each server.\n",
    "\n",
    "<img src=\"./labs_files/lab1/figs/adding_nics.PNG\" width=\"550px\"><br>"
   ]
  },
  {
   "cell_type": "code",
   "execution_count": 5,
   "id": "57dc060a-c728-4c0c-aea5-097326c4384c",
   "metadata": {
    "tags": []
   },
   "outputs": [],
   "source": [
    "server1_iface = server1.add_component(model='NIC_Basic').get_interfaces()[0]\n",
    "server2_iface = server2.add_component(model='NIC_Basic').get_interfaces()[0]"
   ]
  },
  {
   "cell_type": "markdown",
   "id": "7c9c1468-abc9-4159-8a25-368d55a116d6",
   "metadata": {
    "tags": []
   },
   "source": [
    "### Step 3.5: Creating a node for the P4 switch\n",
    "The code below creates a node that will run the P4 switch. The node use the following\n",
    "<ul>\n",
    "    <li> 16 CPU cores</li>\n",
    "    <li> 8GB RAM </li>\n",
    "    <li> 40GB disc size </li>\n",
    "    <li> Image: Ubuntu 20.04\n",
    "</ul>\n",
    "\n",
    "The node will be created in site2\n",
    "\n",
    "<img src=\"./labs_files/lab1/figs/adding_switch.PNG\" width=\"550px\"><br>"
   ]
  },
  {
   "cell_type": "code",
   "execution_count": 6,
   "id": "925b125f-ddbe-4531-89ed-b9b0a3e3f58e",
   "metadata": {
    "tags": []
   },
   "outputs": [],
   "source": [
    "# Add a node\n",
    "switch = slice.add_node(name=\"switch\", \n",
    "                      site=site2, \n",
    "                      cores=32, \n",
    "                      ram=16, \n",
    "                      disk=40, \n",
    "                      image='default_ubuntu_20')"
   ]
  },
  {
   "cell_type": "markdown",
   "id": "130eaded-960d-49ed-bb47-641630e33598",
   "metadata": {},
   "source": [
    "### Step 3.6: Adding two interfaces to the switch\n",
    "The code below adds two Network Interface Cards (NICs) to the switch.\n",
    "\n",
    "<img src=\"./labs_files/lab1/figs/adding_switch_ports.PNG\" width=\"550px\"><br>"
   ]
  },
  {
   "cell_type": "code",
   "execution_count": 7,
   "id": "eb754ffc-1a51-4777-9cee-203c18d6ba90",
   "metadata": {},
   "outputs": [],
   "source": [
    "switch_iface1 = switch.add_component(model='NIC_Basic', name='net1_nic').get_interfaces()[0]\n",
    "switch_iface2 = switch.add_component(model='NIC_Basic', name='net2_nic').get_interfaces()[0]"
   ]
  },
  {
   "cell_type": "markdown",
   "id": "53baab9b-390d-4da8-8440-cd3356e56795",
   "metadata": {},
   "source": [
    "### Step 3.7: Connecting site1 and site2\n",
    "Create a site-to-site network between site1 and site2 connecting server1 and the P4 switch\n",
    "\n",
    "<img src=\"./labs_files/lab1/figs/connecting_nodes_server1_switch.PNG\" width=\"550px\"><br>"
   ]
  },
  {
   "cell_type": "code",
   "execution_count": 8,
   "id": "1c536c24-f44d-4e9c-952f-4f2cb3781126",
   "metadata": {},
   "outputs": [],
   "source": [
    "net1 = slice.add_l2network(name='net1', interfaces=[server1_iface, switch_iface1])"
   ]
  },
  {
   "cell_type": "markdown",
   "id": "190e029f-3f22-47b5-9840-d879905c0790",
   "metadata": {},
   "source": [
    "### Step 3.8: Connecting site2 and site3\n",
    "Create a site-to-site network between site2 and site3 connecting the P4 switch and server2\n",
    "\n",
    "<img src=\"./labs_files/lab1/figs/connecting_nodes_server2_switch.PNG\" width=\"550px\"><br>"
   ]
  },
  {
   "cell_type": "code",
   "execution_count": 9,
   "id": "5a3f7a4c-15c0-4ec6-b05f-67d61b063670",
   "metadata": {},
   "outputs": [],
   "source": [
    "net2 = slice.add_l2network(name='net2', interfaces=[switch_iface2, server2_iface])"
   ]
  },
  {
   "cell_type": "markdown",
   "id": "05d39e42-e051-43c7-aac1-79e01b758be6",
   "metadata": {},
   "source": [
    "### Step 3.9: Submitting the slice\n",
    "The code below submits the slice. \n",
    "By default, the submit function will block until the node is ready and will display the progress of your slice being built."
   ]
  },
  {
   "cell_type": "code",
   "execution_count": 10,
   "id": "20724788-d10c-4470-b7a9-5f28eac2f0d9",
   "metadata": {},
   "outputs": [
    {
     "name": "stdout",
     "output_type": "stream",
     "text": [
      "\n",
      "Retry: 11, Time: 325 sec\n"
     ]
    },
    {
     "data": {
      "text/html": [
       "<style type=\"text/css\">\n",
       "#T_26287 tr:nth-child(even) {\n",
       "  background: #dbf3ff;\n",
       "  color: #231f20;\n",
       "}\n",
       "#T_26287 tr:nth-child(odd) {\n",
       "  background: #ffffff;\n",
       "  color: #231f20;\n",
       "}\n",
       "#T_26287 caption {\n",
       "  text-align: center;\n",
       "  font-size: 150%;\n",
       "}\n",
       "#T_26287_row0_col0, #T_26287_row0_col1, #T_26287_row1_col0, #T_26287_row1_col1, #T_26287_row2_col0, #T_26287_row2_col1, #T_26287_row3_col0, #T_26287_row3_col1, #T_26287_row4_col0, #T_26287_row4_col1, #T_26287_row5_col0 {\n",
       "  text-align: left;\n",
       "  border: 1px #231f20 solid !important;\n",
       "  overwrite: False;\n",
       "  background-color: ;\n",
       "}\n",
       "#T_26287_row5_col1 {\n",
       "  text-align: left;\n",
       "  border: 1px #231f20 solid !important;\n",
       "  overwrite: False;\n",
       "  background-color: #c3ffc4;\n",
       "}\n",
       "</style>\n",
       "<table id=\"T_26287\">\n",
       "  <caption>Slice</caption>\n",
       "  <thead>\n",
       "  </thead>\n",
       "  <tbody>\n",
       "    <tr>\n",
       "      <td id=\"T_26287_row0_col0\" class=\"data row0 col0\" >ID</td>\n",
       "      <td id=\"T_26287_row0_col1\" class=\"data row0 col1\" >85ef785d-9a47-4fba-989a-934230cf4207</td>\n",
       "    </tr>\n",
       "    <tr>\n",
       "      <td id=\"T_26287_row1_col0\" class=\"data row1 col0\" >Name</td>\n",
       "      <td id=\"T_26287_row1_col1\" class=\"data row1 col1\" >lab5</td>\n",
       "    </tr>\n",
       "    <tr>\n",
       "      <td id=\"T_26287_row2_col0\" class=\"data row2 col0\" >Lease Expiration (UTC)</td>\n",
       "      <td id=\"T_26287_row2_col1\" class=\"data row2 col1\" >2023-10-19 22:30:36 +0000</td>\n",
       "    </tr>\n",
       "    <tr>\n",
       "      <td id=\"T_26287_row3_col0\" class=\"data row3 col0\" >Lease Start (UTC)</td>\n",
       "      <td id=\"T_26287_row3_col1\" class=\"data row3 col1\" >2023-10-18 22:30:36 +0000</td>\n",
       "    </tr>\n",
       "    <tr>\n",
       "      <td id=\"T_26287_row4_col0\" class=\"data row4 col0\" >Project ID</td>\n",
       "      <td id=\"T_26287_row4_col1\" class=\"data row4 col1\" >6ce270de-788d-4e07-8bae-3206860a6387</td>\n",
       "    </tr>\n",
       "    <tr>\n",
       "      <td id=\"T_26287_row5_col0\" class=\"data row5 col0\" >State</td>\n",
       "      <td id=\"T_26287_row5_col1\" class=\"data row5 col1\" >StableOK</td>\n",
       "    </tr>\n",
       "  </tbody>\n",
       "</table>\n"
      ],
      "text/plain": [
       "<pandas.io.formats.style.Styler at 0x7f5a0c699f60>"
      ]
     },
     "metadata": {},
     "output_type": "display_data"
    },
    {
     "data": {
      "text/html": [
       "<style type=\"text/css\">\n",
       "#T_09db3 caption {\n",
       "  text-align: center;\n",
       "  font-size: 150%;\n",
       "  caption-side: top;\n",
       "}\n",
       "#T_09db3 th {\n",
       "  text-align: left;\n",
       "}\n",
       "#T_09db3 tr:nth-child(even) {\n",
       "  background: #ffffff;\n",
       "  color: #231f20;\n",
       "}\n",
       "#T_09db3 tr:nth-child(odd) {\n",
       "  background: #dbf3ff;\n",
       "  color: #231f20;\n",
       "}\n",
       "#T_09db3 .level0 {\n",
       "  border: 1px black solid !important;\n",
       "  background: #ffffff;\n",
       "  color: #231f20;\n",
       "}\n",
       "#T_09db3_row0_col0, #T_09db3_row0_col1, #T_09db3_row0_col2, #T_09db3_row0_col3, #T_09db3_row0_col4, #T_09db3_row0_col5, #T_09db3_row0_col6, #T_09db3_row0_col7, #T_09db3_row0_col8, #T_09db3_row0_col9, #T_09db3_row0_col10, #T_09db3_row0_col13, #T_09db3_row0_col14, #T_09db3_row0_col15, #T_09db3_row1_col0, #T_09db3_row1_col1, #T_09db3_row1_col2, #T_09db3_row1_col3, #T_09db3_row1_col4, #T_09db3_row1_col5, #T_09db3_row1_col6, #T_09db3_row1_col7, #T_09db3_row1_col8, #T_09db3_row1_col9, #T_09db3_row1_col10, #T_09db3_row1_col13, #T_09db3_row1_col14, #T_09db3_row1_col15, #T_09db3_row2_col0, #T_09db3_row2_col1, #T_09db3_row2_col2, #T_09db3_row2_col3, #T_09db3_row2_col4, #T_09db3_row2_col5, #T_09db3_row2_col6, #T_09db3_row2_col7, #T_09db3_row2_col8, #T_09db3_row2_col9, #T_09db3_row2_col10, #T_09db3_row2_col13, #T_09db3_row2_col14, #T_09db3_row2_col15 {\n",
       "  text-align: left;\n",
       "  border: 1px #231f20 solid !important;\n",
       "  overwrite: False;\n",
       "}\n",
       "#T_09db3_row0_col11, #T_09db3_row1_col11, #T_09db3_row2_col11 {\n",
       "  text-align: left;\n",
       "  border: 1px #231f20 solid !important;\n",
       "  overwrite: False;\n",
       "  background-color: #c3ffc4;\n",
       "}\n",
       "#T_09db3_row0_col12, #T_09db3_row1_col12, #T_09db3_row2_col12 {\n",
       "  text-align: left;\n",
       "  border: 1px #231f20 solid !important;\n",
       "  overwrite: False;\n",
       "  background-color: ;\n",
       "}\n",
       "</style>\n",
       "<table id=\"T_09db3\">\n",
       "  <caption>Nodes</caption>\n",
       "  <thead>\n",
       "    <tr>\n",
       "      <th id=\"T_09db3_level0_col0\" class=\"col_heading level0 col0\" >ID</th>\n",
       "      <th id=\"T_09db3_level0_col1\" class=\"col_heading level0 col1\" >Name</th>\n",
       "      <th id=\"T_09db3_level0_col2\" class=\"col_heading level0 col2\" >Cores</th>\n",
       "      <th id=\"T_09db3_level0_col3\" class=\"col_heading level0 col3\" >RAM</th>\n",
       "      <th id=\"T_09db3_level0_col4\" class=\"col_heading level0 col4\" >Disk</th>\n",
       "      <th id=\"T_09db3_level0_col5\" class=\"col_heading level0 col5\" >Image</th>\n",
       "      <th id=\"T_09db3_level0_col6\" class=\"col_heading level0 col6\" >Image Type</th>\n",
       "      <th id=\"T_09db3_level0_col7\" class=\"col_heading level0 col7\" >Host</th>\n",
       "      <th id=\"T_09db3_level0_col8\" class=\"col_heading level0 col8\" >Site</th>\n",
       "      <th id=\"T_09db3_level0_col9\" class=\"col_heading level0 col9\" >Username</th>\n",
       "      <th id=\"T_09db3_level0_col10\" class=\"col_heading level0 col10\" >Management IP</th>\n",
       "      <th id=\"T_09db3_level0_col11\" class=\"col_heading level0 col11\" >State</th>\n",
       "      <th id=\"T_09db3_level0_col12\" class=\"col_heading level0 col12\" >Error</th>\n",
       "      <th id=\"T_09db3_level0_col13\" class=\"col_heading level0 col13\" >SSH Command</th>\n",
       "      <th id=\"T_09db3_level0_col14\" class=\"col_heading level0 col14\" >Public SSH Key File</th>\n",
       "      <th id=\"T_09db3_level0_col15\" class=\"col_heading level0 col15\" >Private SSH Key File</th>\n",
       "    </tr>\n",
       "  </thead>\n",
       "  <tbody>\n",
       "    <tr>\n",
       "      <td id=\"T_09db3_row0_col0\" class=\"data row0 col0\" >26c1107f-2d7b-48b2-9ae2-69d58fe5104f</td>\n",
       "      <td id=\"T_09db3_row0_col1\" class=\"data row0 col1\" >server1</td>\n",
       "      <td id=\"T_09db3_row0_col2\" class=\"data row0 col2\" >4</td>\n",
       "      <td id=\"T_09db3_row0_col3\" class=\"data row0 col3\" >8</td>\n",
       "      <td id=\"T_09db3_row0_col4\" class=\"data row0 col4\" >100</td>\n",
       "      <td id=\"T_09db3_row0_col5\" class=\"data row0 col5\" >default_ubuntu_20</td>\n",
       "      <td id=\"T_09db3_row0_col6\" class=\"data row0 col6\" >qcow2</td>\n",
       "      <td id=\"T_09db3_row0_col7\" class=\"data row0 col7\" >ucsd-w2.fabric-testbed.net</td>\n",
       "      <td id=\"T_09db3_row0_col8\" class=\"data row0 col8\" >UCSD</td>\n",
       "      <td id=\"T_09db3_row0_col9\" class=\"data row0 col9\" >ubuntu</td>\n",
       "      <td id=\"T_09db3_row0_col10\" class=\"data row0 col10\" >132.249.252.177</td>\n",
       "      <td id=\"T_09db3_row0_col11\" class=\"data row0 col11\" >Active</td>\n",
       "      <td id=\"T_09db3_row0_col12\" class=\"data row0 col12\" ></td>\n",
       "      <td id=\"T_09db3_row0_col13\" class=\"data row0 col13\" >ssh -i /home/fabric/work/fabric_config/slice_key -F /home/fabric/work/fabric_config/ssh_config ubuntu@132.249.252.177</td>\n",
       "      <td id=\"T_09db3_row0_col14\" class=\"data row0 col14\" >/home/fabric/work/fabric_config/slice_key.pub</td>\n",
       "      <td id=\"T_09db3_row0_col15\" class=\"data row0 col15\" >/home/fabric/work/fabric_config/slice_key</td>\n",
       "    </tr>\n",
       "    <tr>\n",
       "      <td id=\"T_09db3_row1_col0\" class=\"data row1 col0\" >5cc76f61-a7e5-4795-be8e-0535294e9e7e</td>\n",
       "      <td id=\"T_09db3_row1_col1\" class=\"data row1 col1\" >server2</td>\n",
       "      <td id=\"T_09db3_row1_col2\" class=\"data row1 col2\" >4</td>\n",
       "      <td id=\"T_09db3_row1_col3\" class=\"data row1 col3\" >8</td>\n",
       "      <td id=\"T_09db3_row1_col4\" class=\"data row1 col4\" >100</td>\n",
       "      <td id=\"T_09db3_row1_col5\" class=\"data row1 col5\" >default_ubuntu_20</td>\n",
       "      <td id=\"T_09db3_row1_col6\" class=\"data row1 col6\" >qcow2</td>\n",
       "      <td id=\"T_09db3_row1_col7\" class=\"data row1 col7\" >ncsa-w3.fabric-testbed.net</td>\n",
       "      <td id=\"T_09db3_row1_col8\" class=\"data row1 col8\" >NCSA</td>\n",
       "      <td id=\"T_09db3_row1_col9\" class=\"data row1 col9\" >ubuntu</td>\n",
       "      <td id=\"T_09db3_row1_col10\" class=\"data row1 col10\" >2620:0:c80:1001:f816:3eff:fec0:3573</td>\n",
       "      <td id=\"T_09db3_row1_col11\" class=\"data row1 col11\" >Active</td>\n",
       "      <td id=\"T_09db3_row1_col12\" class=\"data row1 col12\" ></td>\n",
       "      <td id=\"T_09db3_row1_col13\" class=\"data row1 col13\" >ssh -i /home/fabric/work/fabric_config/slice_key -F /home/fabric/work/fabric_config/ssh_config ubuntu@2620:0:c80:1001:f816:3eff:fec0:3573</td>\n",
       "      <td id=\"T_09db3_row1_col14\" class=\"data row1 col14\" >/home/fabric/work/fabric_config/slice_key.pub</td>\n",
       "      <td id=\"T_09db3_row1_col15\" class=\"data row1 col15\" >/home/fabric/work/fabric_config/slice_key</td>\n",
       "    </tr>\n",
       "    <tr>\n",
       "      <td id=\"T_09db3_row2_col0\" class=\"data row2 col0\" >1e3c6b3d-dd60-46fe-b9d3-ed4fa98e16e4</td>\n",
       "      <td id=\"T_09db3_row2_col1\" class=\"data row2 col1\" >switch</td>\n",
       "      <td id=\"T_09db3_row2_col2\" class=\"data row2 col2\" >32</td>\n",
       "      <td id=\"T_09db3_row2_col3\" class=\"data row2 col3\" >16</td>\n",
       "      <td id=\"T_09db3_row2_col4\" class=\"data row2 col4\" >100</td>\n",
       "      <td id=\"T_09db3_row2_col5\" class=\"data row2 col5\" >default_ubuntu_20</td>\n",
       "      <td id=\"T_09db3_row2_col6\" class=\"data row2 col6\" >qcow2</td>\n",
       "      <td id=\"T_09db3_row2_col7\" class=\"data row2 col7\" >star-w1.fabric-testbed.net</td>\n",
       "      <td id=\"T_09db3_row2_col8\" class=\"data row2 col8\" >STAR</td>\n",
       "      <td id=\"T_09db3_row2_col9\" class=\"data row2 col9\" >ubuntu</td>\n",
       "      <td id=\"T_09db3_row2_col10\" class=\"data row2 col10\" >2001:400:a100:3030:f816:3eff:fe14:20bf</td>\n",
       "      <td id=\"T_09db3_row2_col11\" class=\"data row2 col11\" >Active</td>\n",
       "      <td id=\"T_09db3_row2_col12\" class=\"data row2 col12\" ></td>\n",
       "      <td id=\"T_09db3_row2_col13\" class=\"data row2 col13\" >ssh -i /home/fabric/work/fabric_config/slice_key -F /home/fabric/work/fabric_config/ssh_config ubuntu@2001:400:a100:3030:f816:3eff:fe14:20bf</td>\n",
       "      <td id=\"T_09db3_row2_col14\" class=\"data row2 col14\" >/home/fabric/work/fabric_config/slice_key.pub</td>\n",
       "      <td id=\"T_09db3_row2_col15\" class=\"data row2 col15\" >/home/fabric/work/fabric_config/slice_key</td>\n",
       "    </tr>\n",
       "  </tbody>\n",
       "</table>\n"
      ],
      "text/plain": [
       "<pandas.io.formats.style.Styler at 0x7f5a0c761a20>"
      ]
     },
     "metadata": {},
     "output_type": "display_data"
    },
    {
     "data": {
      "text/html": [
       "<style type=\"text/css\">\n",
       "#T_3b2e6 caption {\n",
       "  text-align: center;\n",
       "  font-size: 150%;\n",
       "  caption-side: top;\n",
       "}\n",
       "#T_3b2e6 th {\n",
       "  text-align: left;\n",
       "}\n",
       "#T_3b2e6 tr:nth-child(even) {\n",
       "  background: #ffffff;\n",
       "  color: #231f20;\n",
       "}\n",
       "#T_3b2e6 tr:nth-child(odd) {\n",
       "  background: #dbf3ff;\n",
       "  color: #231f20;\n",
       "}\n",
       "#T_3b2e6 .level0 {\n",
       "  border: 1px black solid !important;\n",
       "  background: #ffffff;\n",
       "  color: #231f20;\n",
       "}\n",
       "#T_3b2e6_row0_col0, #T_3b2e6_row0_col1, #T_3b2e6_row0_col2, #T_3b2e6_row0_col3, #T_3b2e6_row0_col4, #T_3b2e6_row0_col5, #T_3b2e6_row0_col6, #T_3b2e6_row1_col0, #T_3b2e6_row1_col1, #T_3b2e6_row1_col2, #T_3b2e6_row1_col3, #T_3b2e6_row1_col4, #T_3b2e6_row1_col5, #T_3b2e6_row1_col6 {\n",
       "  text-align: left;\n",
       "  border: 1px #231f20 solid !important;\n",
       "  overwrite: False;\n",
       "}\n",
       "#T_3b2e6_row0_col7, #T_3b2e6_row1_col7 {\n",
       "  text-align: left;\n",
       "  border: 1px #231f20 solid !important;\n",
       "  overwrite: False;\n",
       "  background-color: #c3ffc4;\n",
       "}\n",
       "#T_3b2e6_row0_col8, #T_3b2e6_row1_col8 {\n",
       "  text-align: left;\n",
       "  border: 1px #231f20 solid !important;\n",
       "  overwrite: False;\n",
       "  background-color: ;\n",
       "}\n",
       "</style>\n",
       "<table id=\"T_3b2e6\">\n",
       "  <caption>Networks</caption>\n",
       "  <thead>\n",
       "    <tr>\n",
       "      <th id=\"T_3b2e6_level0_col0\" class=\"col_heading level0 col0\" >ID</th>\n",
       "      <th id=\"T_3b2e6_level0_col1\" class=\"col_heading level0 col1\" >Name</th>\n",
       "      <th id=\"T_3b2e6_level0_col2\" class=\"col_heading level0 col2\" >Layer</th>\n",
       "      <th id=\"T_3b2e6_level0_col3\" class=\"col_heading level0 col3\" >Type</th>\n",
       "      <th id=\"T_3b2e6_level0_col4\" class=\"col_heading level0 col4\" >Site</th>\n",
       "      <th id=\"T_3b2e6_level0_col5\" class=\"col_heading level0 col5\" >Subnet</th>\n",
       "      <th id=\"T_3b2e6_level0_col6\" class=\"col_heading level0 col6\" >Gateway</th>\n",
       "      <th id=\"T_3b2e6_level0_col7\" class=\"col_heading level0 col7\" >State</th>\n",
       "      <th id=\"T_3b2e6_level0_col8\" class=\"col_heading level0 col8\" >Error</th>\n",
       "    </tr>\n",
       "  </thead>\n",
       "  <tbody>\n",
       "    <tr>\n",
       "      <td id=\"T_3b2e6_row0_col0\" class=\"data row0 col0\" >1200609f-81c0-4e83-8d08-e291ef85e968</td>\n",
       "      <td id=\"T_3b2e6_row0_col1\" class=\"data row0 col1\" >net1</td>\n",
       "      <td id=\"T_3b2e6_row0_col2\" class=\"data row0 col2\" >L2</td>\n",
       "      <td id=\"T_3b2e6_row0_col3\" class=\"data row0 col3\" >L2STS</td>\n",
       "      <td id=\"T_3b2e6_row0_col4\" class=\"data row0 col4\" >None</td>\n",
       "      <td id=\"T_3b2e6_row0_col5\" class=\"data row0 col5\" >None</td>\n",
       "      <td id=\"T_3b2e6_row0_col6\" class=\"data row0 col6\" >None</td>\n",
       "      <td id=\"T_3b2e6_row0_col7\" class=\"data row0 col7\" >Active</td>\n",
       "      <td id=\"T_3b2e6_row0_col8\" class=\"data row0 col8\" ></td>\n",
       "    </tr>\n",
       "    <tr>\n",
       "      <td id=\"T_3b2e6_row1_col0\" class=\"data row1 col0\" >9b03f711-b2b7-43b1-85e5-2b10e9918b7b</td>\n",
       "      <td id=\"T_3b2e6_row1_col1\" class=\"data row1 col1\" >net2</td>\n",
       "      <td id=\"T_3b2e6_row1_col2\" class=\"data row1 col2\" >L2</td>\n",
       "      <td id=\"T_3b2e6_row1_col3\" class=\"data row1 col3\" >L2STS</td>\n",
       "      <td id=\"T_3b2e6_row1_col4\" class=\"data row1 col4\" >None</td>\n",
       "      <td id=\"T_3b2e6_row1_col5\" class=\"data row1 col5\" >None</td>\n",
       "      <td id=\"T_3b2e6_row1_col6\" class=\"data row1 col6\" >None</td>\n",
       "      <td id=\"T_3b2e6_row1_col7\" class=\"data row1 col7\" >Active</td>\n",
       "      <td id=\"T_3b2e6_row1_col8\" class=\"data row1 col8\" ></td>\n",
       "    </tr>\n",
       "  </tbody>\n",
       "</table>\n"
      ],
      "text/plain": [
       "<pandas.io.formats.style.Styler at 0x7f5a0c699450>"
      ]
     },
     "metadata": {},
     "output_type": "display_data"
    },
    {
     "data": {
      "text/html": [
       "<style type=\"text/css\">\n",
       "#T_a0e16 caption {\n",
       "  text-align: center;\n",
       "  font-size: 150%;\n",
       "  caption-side: top;\n",
       "}\n",
       "#T_a0e16 th {\n",
       "  text-align: left;\n",
       "}\n",
       "#T_a0e16 tr:nth-child(even) {\n",
       "  background: #ffffff;\n",
       "  color: #231f20;\n",
       "}\n",
       "#T_a0e16 tr:nth-child(odd) {\n",
       "  background: #dbf3ff;\n",
       "  color: #231f20;\n",
       "}\n",
       "#T_a0e16 .level0 {\n",
       "  border: 1px black solid !important;\n",
       "  background: #ffffff;\n",
       "  color: #231f20;\n",
       "}\n",
       "#T_a0e16_row0_col0, #T_a0e16_row0_col1, #T_a0e16_row0_col2, #T_a0e16_row0_col3, #T_a0e16_row0_col4, #T_a0e16_row0_col5, #T_a0e16_row0_col6, #T_a0e16_row0_col7, #T_a0e16_row0_col8, #T_a0e16_row0_col9, #T_a0e16_row0_col10, #T_a0e16_row0_col11, #T_a0e16_row1_col0, #T_a0e16_row1_col1, #T_a0e16_row1_col2, #T_a0e16_row1_col3, #T_a0e16_row1_col4, #T_a0e16_row1_col5, #T_a0e16_row1_col6, #T_a0e16_row1_col7, #T_a0e16_row1_col8, #T_a0e16_row1_col9, #T_a0e16_row1_col10, #T_a0e16_row1_col11, #T_a0e16_row2_col0, #T_a0e16_row2_col1, #T_a0e16_row2_col2, #T_a0e16_row2_col3, #T_a0e16_row2_col4, #T_a0e16_row2_col5, #T_a0e16_row2_col6, #T_a0e16_row2_col7, #T_a0e16_row2_col8, #T_a0e16_row2_col9, #T_a0e16_row2_col10, #T_a0e16_row2_col11, #T_a0e16_row3_col0, #T_a0e16_row3_col1, #T_a0e16_row3_col2, #T_a0e16_row3_col3, #T_a0e16_row3_col4, #T_a0e16_row3_col5, #T_a0e16_row3_col6, #T_a0e16_row3_col7, #T_a0e16_row3_col8, #T_a0e16_row3_col9, #T_a0e16_row3_col10, #T_a0e16_row3_col11 {\n",
       "  text-align: left;\n",
       "  border: 1px #231f20 solid !important;\n",
       "  overwrite: False;\n",
       "}\n",
       "</style>\n",
       "<table id=\"T_a0e16\">\n",
       "  <caption>Interfaces</caption>\n",
       "  <thead>\n",
       "    <tr>\n",
       "      <th id=\"T_a0e16_level0_col0\" class=\"col_heading level0 col0\" >Name</th>\n",
       "      <th id=\"T_a0e16_level0_col1\" class=\"col_heading level0 col1\" >Short Name</th>\n",
       "      <th id=\"T_a0e16_level0_col2\" class=\"col_heading level0 col2\" >Node</th>\n",
       "      <th id=\"T_a0e16_level0_col3\" class=\"col_heading level0 col3\" >Network</th>\n",
       "      <th id=\"T_a0e16_level0_col4\" class=\"col_heading level0 col4\" >Bandwidth</th>\n",
       "      <th id=\"T_a0e16_level0_col5\" class=\"col_heading level0 col5\" >Mode</th>\n",
       "      <th id=\"T_a0e16_level0_col6\" class=\"col_heading level0 col6\" >VLAN</th>\n",
       "      <th id=\"T_a0e16_level0_col7\" class=\"col_heading level0 col7\" >MAC</th>\n",
       "      <th id=\"T_a0e16_level0_col8\" class=\"col_heading level0 col8\" >Physical Device</th>\n",
       "      <th id=\"T_a0e16_level0_col9\" class=\"col_heading level0 col9\" >Device</th>\n",
       "      <th id=\"T_a0e16_level0_col10\" class=\"col_heading level0 col10\" >IP Address</th>\n",
       "      <th id=\"T_a0e16_level0_col11\" class=\"col_heading level0 col11\" >Numa Node</th>\n",
       "    </tr>\n",
       "  </thead>\n",
       "  <tbody>\n",
       "    <tr>\n",
       "      <td id=\"T_a0e16_row0_col0\" class=\"data row0 col0\" >server1-None-p1</td>\n",
       "      <td id=\"T_a0e16_row0_col1\" class=\"data row0 col1\" >p1</td>\n",
       "      <td id=\"T_a0e16_row0_col2\" class=\"data row0 col2\" >server1</td>\n",
       "      <td id=\"T_a0e16_row0_col3\" class=\"data row0 col3\" >net1</td>\n",
       "      <td id=\"T_a0e16_row0_col4\" class=\"data row0 col4\" >100</td>\n",
       "      <td id=\"T_a0e16_row0_col5\" class=\"data row0 col5\" >config</td>\n",
       "      <td id=\"T_a0e16_row0_col6\" class=\"data row0 col6\" ></td>\n",
       "      <td id=\"T_a0e16_row0_col7\" class=\"data row0 col7\" >1E:C2:9A:90:9D:8D</td>\n",
       "      <td id=\"T_a0e16_row0_col8\" class=\"data row0 col8\" >enp6s0</td>\n",
       "      <td id=\"T_a0e16_row0_col9\" class=\"data row0 col9\" >enp6s0</td>\n",
       "      <td id=\"T_a0e16_row0_col10\" class=\"data row0 col10\" >None</td>\n",
       "      <td id=\"T_a0e16_row0_col11\" class=\"data row0 col11\" >6</td>\n",
       "    </tr>\n",
       "    <tr>\n",
       "      <td id=\"T_a0e16_row1_col0\" class=\"data row1 col0\" >server2-None-p1</td>\n",
       "      <td id=\"T_a0e16_row1_col1\" class=\"data row1 col1\" >p1</td>\n",
       "      <td id=\"T_a0e16_row1_col2\" class=\"data row1 col2\" >server2</td>\n",
       "      <td id=\"T_a0e16_row1_col3\" class=\"data row1 col3\" >net2</td>\n",
       "      <td id=\"T_a0e16_row1_col4\" class=\"data row1 col4\" >100</td>\n",
       "      <td id=\"T_a0e16_row1_col5\" class=\"data row1 col5\" >config</td>\n",
       "      <td id=\"T_a0e16_row1_col6\" class=\"data row1 col6\" ></td>\n",
       "      <td id=\"T_a0e16_row1_col7\" class=\"data row1 col7\" >02:C4:1C:CB:C3:24</td>\n",
       "      <td id=\"T_a0e16_row1_col8\" class=\"data row1 col8\" >enp7s0</td>\n",
       "      <td id=\"T_a0e16_row1_col9\" class=\"data row1 col9\" >enp7s0</td>\n",
       "      <td id=\"T_a0e16_row1_col10\" class=\"data row1 col10\" >None</td>\n",
       "      <td id=\"T_a0e16_row1_col11\" class=\"data row1 col11\" >4</td>\n",
       "    </tr>\n",
       "    <tr>\n",
       "      <td id=\"T_a0e16_row2_col0\" class=\"data row2 col0\" >switch-net2_nic-p1</td>\n",
       "      <td id=\"T_a0e16_row2_col1\" class=\"data row2 col1\" >p1</td>\n",
       "      <td id=\"T_a0e16_row2_col2\" class=\"data row2 col2\" >switch</td>\n",
       "      <td id=\"T_a0e16_row2_col3\" class=\"data row2 col3\" >net2</td>\n",
       "      <td id=\"T_a0e16_row2_col4\" class=\"data row2 col4\" >100</td>\n",
       "      <td id=\"T_a0e16_row2_col5\" class=\"data row2 col5\" >config</td>\n",
       "      <td id=\"T_a0e16_row2_col6\" class=\"data row2 col6\" ></td>\n",
       "      <td id=\"T_a0e16_row2_col7\" class=\"data row2 col7\" >02:5C:96:36:FB:07</td>\n",
       "      <td id=\"T_a0e16_row2_col8\" class=\"data row2 col8\" >enp7s0</td>\n",
       "      <td id=\"T_a0e16_row2_col9\" class=\"data row2 col9\" >enp7s0</td>\n",
       "      <td id=\"T_a0e16_row2_col10\" class=\"data row2 col10\" >None</td>\n",
       "      <td id=\"T_a0e16_row2_col11\" class=\"data row2 col11\" >6</td>\n",
       "    </tr>\n",
       "    <tr>\n",
       "      <td id=\"T_a0e16_row3_col0\" class=\"data row3 col0\" >switch-net1_nic-p1</td>\n",
       "      <td id=\"T_a0e16_row3_col1\" class=\"data row3 col1\" >p1</td>\n",
       "      <td id=\"T_a0e16_row3_col2\" class=\"data row3 col2\" >switch</td>\n",
       "      <td id=\"T_a0e16_row3_col3\" class=\"data row3 col3\" >net1</td>\n",
       "      <td id=\"T_a0e16_row3_col4\" class=\"data row3 col4\" >100</td>\n",
       "      <td id=\"T_a0e16_row3_col5\" class=\"data row3 col5\" >config</td>\n",
       "      <td id=\"T_a0e16_row3_col6\" class=\"data row3 col6\" ></td>\n",
       "      <td id=\"T_a0e16_row3_col7\" class=\"data row3 col7\" >06:D3:3E:48:FE:3B</td>\n",
       "      <td id=\"T_a0e16_row3_col8\" class=\"data row3 col8\" >enp8s0</td>\n",
       "      <td id=\"T_a0e16_row3_col9\" class=\"data row3 col9\" >enp8s0</td>\n",
       "      <td id=\"T_a0e16_row3_col10\" class=\"data row3 col10\" >None</td>\n",
       "      <td id=\"T_a0e16_row3_col11\" class=\"data row3 col11\" >6</td>\n",
       "    </tr>\n",
       "  </tbody>\n",
       "</table>\n"
      ],
      "text/plain": [
       "<pandas.io.formats.style.Styler at 0x7f5a0c63a1d0>"
      ]
     },
     "metadata": {},
     "output_type": "display_data"
    },
    {
     "name": "stdout",
     "output_type": "stream",
     "text": [
      "\n",
      "Time to print interfaces 331 seconds\n"
     ]
    },
    {
     "data": {
      "text/plain": [
       "'85ef785d-9a47-4fba-989a-934230cf4207'"
      ]
     },
     "execution_count": 10,
     "metadata": {},
     "output_type": "execute_result"
    }
   ],
   "source": [
    "#Submit Slice Request\n",
    "slice.submit()"
   ]
  },
  {
   "cell_type": "markdown",
   "id": "865e6b9c-3e59-4eac-81f5-1674eebe3e24",
   "metadata": {},
   "source": [
    "# Step 4: Installing the required packages\n",
    "In this step, we will install the required packages to run the labs. Specifically, we will install the BMv2 software switch and its control plane, the P4 compiler (p4c), and net-tools.\n"
   ]
  },
  {
   "cell_type": "markdown",
   "id": "db92961c-369f-4e13-8921-b6ff6c974ad3",
   "metadata": {},
   "source": [
    "## Step 4.1 Installing BMv2\n",
    "The BMv2 software switch will be installed on the switch node. We will upload the script [scripts/install_bmv2.sh](./scripts/install_bmv2.sh) to the switch and execute it"
   ]
  },
  {
   "cell_type": "code",
   "execution_count": 11,
   "id": "3ba26943-2f8e-4c9f-8944-8ba7b3efdf85",
   "metadata": {},
   "outputs": [],
   "source": [
    "switch = slice.get_node(name=\"switch\")     \n",
    "switch.upload_file('scripts/install_bmv2.sh', 'install_bmv2.sh')\n",
    "stdout, stderr = switch.execute(f'chmod +x install_bmv2.sh &&  ./install_bmv2.sh',quiet=True)"
   ]
  },
  {
   "cell_type": "markdown",
   "id": "e2c7ebaa-aa9e-43a8-9292-593a85dd6dc3",
   "metadata": {
    "tags": []
   },
   "source": [
    "## Step 4.2 Installing net-tools\n",
    "The net-tools package will be installed on the switch, server1 and server2 nodes. This package will allow us to use the ifconfig and the arp commands "
   ]
  },
  {
   "cell_type": "code",
   "execution_count": 12,
   "id": "23cacc52-8185-40f1-8eaf-b391ce1b720e",
   "metadata": {},
   "outputs": [],
   "source": [
    "server1 = slice.get_node(name=\"server1\")\n",
    "server2 = slice.get_node(name=\"server2\")\n",
    "stdout, stderr = server1.execute(f'sudo apt-get install -y net-tools', quiet=True)\n",
    "stdout, stderr = server2.execute(f'sudo apt-get install -y net-tools', quiet=True)\n",
    "stdout, stderr = switch.execute(f'sudo apt-get install -y net-tools', quiet=True)"
   ]
  },
  {
   "cell_type": "markdown",
   "id": "8edae1d9-dc1b-4a34-a1f7-f2533d11c908",
   "metadata": {},
   "source": [
    "# Step 5: Assigning IP and MAC addresses\n",
    "In this step, we will assign IPv4 addresses to the interfaces of the servers and the switch. We will also hardcode the MAC addresses. "
   ]
  },
  {
   "cell_type": "markdown",
   "id": "956741f7-de30-4bdd-afd2-e4598b6cc808",
   "metadata": {},
   "source": [
    "## Step 5.1: Get interfaces names\n",
    "In this step we will get the interface names so that we can assign IP addresses to them. Map the printed interface names to those seen in this figure:\n",
    "\n",
    "<img src=\"./labs_files/lab1/figs/interfaces.PNG\" width=\"550px\"><br>"
   ]
  },
  {
   "cell_type": "code",
   "execution_count": 13,
   "id": "367b34bb-baef-4d39-9041-ed346b34d990",
   "metadata": {},
   "outputs": [
    {
     "name": "stdout",
     "output_type": "stream",
     "text": [
      "server1_iface: enp6s0\n",
      "server2_iface: enp7s0\n",
      "switch_iface1: enp8s0\n",
      "switch_iface2: enp7s0\n"
     ]
    }
   ],
   "source": [
    "node1_iface = server1.get_interface(network_name='net1') \n",
    "server1_iface_name = node1_iface.get_device_name()\n",
    "print(f'server1_iface: {server1_iface_name}')\n",
    "\n",
    "node2_iface = server2.get_interface(network_name='net2') \n",
    "server2_iface_name = node2_iface.get_device_name()\n",
    "print(f'server2_iface: {server2_iface_name}')\n",
    "\n",
    "switch_iface1 = switch.get_interface(network_name='net1') \n",
    "switch_iface1_name = switch_iface1.get_device_name()\n",
    "print(f'switch_iface1: {switch_iface1_name}')\n",
    "\n",
    "switch_iface2 = switch.get_interface(network_name='net2') \n",
    "switch_iface2_name = switch_iface2.get_device_name()\n",
    "print(f'switch_iface2: {switch_iface2_name}')"
   ]
  },
  {
   "cell_type": "markdown",
   "id": "42f0264f-7b70-4533-838e-a5671858da5f",
   "metadata": {
    "tags": []
   },
   "source": [
    "## Step 5.2: Turning all interfaces up\n",
    "In this step, we will use the ip link command to turn the interfaces up\n",
    "\n",
    "<img src=\"./labs_files/lab1/figs/interfaces_up.PNG\" width=\"550px\"><br>"
   ]
  },
  {
   "cell_type": "code",
   "execution_count": 14,
   "id": "21a2c265-a7ca-4a06-a8f0-b8023afaf779",
   "metadata": {
    "tags": []
   },
   "outputs": [],
   "source": [
    "stdout, stderr = server1.execute(f'sudo ip link set dev {server1_iface_name} up', quiet=True)\n",
    "stdout, stderr = server2.execute(f'sudo ip link set dev {server2_iface_name} up', quiet=True)\n",
    "stdout, stderr = switch.execute(f'sudo ip link set dev {switch_iface1_name} up', quiet=True)\n",
    "stdout, stderr = switch.execute(f'sudo ip link set dev {switch_iface2_name} up', quiet=True)"
   ]
  },
  {
   "cell_type": "markdown",
   "id": "5275dd72-a36b-4fc9-9c67-5948d465a332",
   "metadata": {
    "tags": []
   },
   "source": [
    "## Step 5.3: Hardcode MAC addresses\n",
    "For simplicity, we will use the following MAC addresses for the interfaces:\n",
    "<ul>\n",
    "    <li> server1_iface_MAC = '00:00:00:00:00:01' (shown as 00:01 in the figure below) </li>\n",
    "    <li>switch_iface1_MAC = '00:00:00:00:00:02' (shown as 00:02 in the figure below)</li>\n",
    "    <li>switch_iface2_MAC = '00:00:00:00:00:03' (shown as 00:03 in the figure below)</li>\n",
    "    <li>server2_iface_MAC = '00:00:00:00:00:04' (shown as 00:04 in the figure below)</li>\n",
    "</ul>\n",
    "\n",
    "<img src=\"./labs_files/lab1/figs/mac_addresses.PNG\" width=\"550px\"><br>"
   ]
  },
  {
   "cell_type": "code",
   "execution_count": 15,
   "id": "7d7f7870-b447-4fb9-adb9-c97fb8d8dc23",
   "metadata": {
    "tags": []
   },
   "outputs": [],
   "source": [
    "server1_iface_MAC = '00:00:00:00:00:01'\n",
    "switch_iface1_MAC = '00:00:00:00:00:02'\n",
    "switch_iface2_MAC = '00:00:00:00:00:03'\n",
    "server2_iface_MAC = '00:00:00:00:00:04'"
   ]
  },
  {
   "cell_type": "markdown",
   "id": "79d5bc5b-91f1-4097-a2b3-71c47259599e",
   "metadata": {},
   "source": [
    "## Step 5.4 Configuring the IP and MAC addresses on server1_iface and switch_iface1\n",
    "\n",
    "We will use the network 192.168.1.0/24 between Site1 and Site2. We will assign the IP address 192.168.1.10 to server1's interface and 192.168.1.1 to its neighboring interface on the switch.\n",
    "\n",
    "<img src=\"./labs_files/lab1/figs/IPs_1.PNG\" width=\"550px\"><br>"
   ]
  },
  {
   "cell_type": "code",
   "execution_count": 16,
   "id": "30979a1c-36b7-4a9b-9eb5-0d8964db1ce2",
   "metadata": {
    "tags": []
   },
   "outputs": [],
   "source": [
    "server1 = slice.get_node(name=\"server1\")     \n",
    "\n",
    "server1_switch_subnet = \"192.168.1.0/24\"\n",
    "server1_ip = '192.168.1.10/24'\n",
    "switch_ip1 = '192.168.1.1/24'\n",
    "\n",
    "stdout, stderr = server1.execute(f'sudo ifconfig {server1_iface_name} {server1_ip}')\n",
    "stdout, stderr = switch.execute(f'sudo ifconfig {switch_iface1_name} {switch_ip1}')\n",
    "\n",
    "stdout, stderr = server1.execute(f'sudo ifconfig {server1_iface_name} hw ether {server1_iface_MAC}')\n",
    "stdout, stderr = switch.execute(f'sudo ifconfig {switch_iface1_name} hw ether {switch_iface1_MAC}')"
   ]
  },
  {
   "cell_type": "markdown",
   "id": "371a4689-324a-4a1d-9473-096682eb63f7",
   "metadata": {},
   "source": [
    "## Step 5.5: Configuring the IP and MAC addresses on switch_iface2 and server2_iface\n",
    "\n",
    "We will use the network 192.168.2.0/24 between Site2 and Site3. We will assign the IP address 192.168.2.10 to server2's interface and 192.168.2.1 to its neighboring interface on the switch.\n",
    "\n",
    "<img src=\"./labs_files/lab1/figs/IPs_2.PNG\" width=\"550px\"><br>"
   ]
  },
  {
   "cell_type": "code",
   "execution_count": 17,
   "id": "bac1c500-6f71-4aa9-b8fa-99d608a0bff6",
   "metadata": {
    "tags": []
   },
   "outputs": [],
   "source": [
    "server2 = slice.get_node(name=\"server2\")     \n",
    "\n",
    "server2_switch_subnet = \"192.168.2.0/24\"\n",
    "server2_ip = '192.168.2.10/24'\n",
    "switch_ip2 = '192.168.2.1/24'\n",
    "\n",
    "stdout, stderr = server2.execute(f'sudo ifconfig {server2_iface_name} {server2_ip}')\n",
    "stdout, stderr = switch.execute(f'sudo ifconfig {switch_iface2_name} {switch_ip2}')\n",
    "\n",
    "stdout, stderr = server2.execute(f'sudo ifconfig {server2_iface_name} hw ether {server2_iface_MAC}')\n",
    "stdout, stderr = switch.execute(f'sudo ifconfig {switch_iface2_name} hw ether {switch_iface2_MAC}')"
   ]
  },
  {
   "cell_type": "markdown",
   "id": "ed199b6d-f341-4f24-9c0b-a64631ece324",
   "metadata": {},
   "source": [
    "# Step 6: Configure forwarding and routing"
   ]
  },
  {
   "cell_type": "markdown",
   "id": "c90a6594-ea6e-4d87-9925-3baf5571096c",
   "metadata": {},
   "source": [
    "## Step 6.1: Enable forwarding on the switch\n",
    "\n",
    "The command \"sudo sysctl -w net.ipv4.ip_forward=1\" is used to enable IP forwarding on a Linux system.\n",
    "\n",
    "IP forwarding is a feature that allows a system to act as a router by forwarding network packets from one network interface to another. By default, IP forwarding is usually disabled on Linux systems for security reasons. \n",
    "\n",
    "The command will be executed on the switch device."
   ]
  },
  {
   "cell_type": "code",
   "execution_count": 18,
   "id": "0b0b5f62-4ac8-486b-b0a6-e8e468161a31",
   "metadata": {},
   "outputs": [],
   "source": [
    "command = 'sudo sysctl -w net.ipv4.ip_forward=1' \n",
    "stdout, stderr = switch.execute(command, quiet=True)"
   ]
  },
  {
   "cell_type": "markdown",
   "id": "6a4e3170-f17f-495e-bd2c-1361bc1d2317",
   "metadata": {},
   "source": [
    "## Step 6.2: Delete routing entries for the routes to force traffic to go through the BMv2 switch\n",
    "\n",
    "In this step, we are deleting the routes on the switch's routing table in Linux. By deleting the routes, the packets will go through the BMv2 switch instead of being forwarded by the kernel"
   ]
  },
  {
   "cell_type": "code",
   "execution_count": 19,
   "id": "d32e28ee-d890-4ee0-bf1c-d6b6eedfb9c0",
   "metadata": {},
   "outputs": [],
   "source": [
    "stdout, stderr = switch.execute(f'sudo ip route del {server1_switch_subnet}', quiet=True)\n",
    "stdout, stderr = switch.execute(f'sudo ip route del {server2_switch_subnet}', quiet=True)"
   ]
  },
  {
   "cell_type": "markdown",
   "id": "c2dc3837-d493-48c0-92b8-244296e166ee",
   "metadata": {},
   "source": [
    "## Step 6.3: Configure routing\n",
    "\n",
    "In this step, we will configure static routes on server1 and server2. \n",
    "<ul>\n",
    "    <li> For server1, we will add a route to reach the network 192.168.2.0/24 via 192.168.1.1 </li>\n",
    "    <li> For server2, we will add a route to reach the network 192.168.1.0/24 via 192.168.2.1 </li>\n",
    "</ul>\n",
    "\n",
    "<img src=\"./labs_files/lab1/figs/routing.PNG\" width=\"550px\"><br>"
   ]
  },
  {
   "cell_type": "code",
   "execution_count": 20,
   "id": "69cdfdf5-011e-45c5-bab1-da388e4427a0",
   "metadata": {},
   "outputs": [],
   "source": [
    "gw1 = switch_ip1.split('/')[0]\n",
    "gw2 = switch_ip2.split('/')[0]\n",
    "stdout, stderr = server1.execute(f'sudo ip route add {server2_switch_subnet} via {gw1}')\n",
    "stdout, stderr = server2.execute(f'sudo ip route add {server1_switch_subnet} via {gw2}')"
   ]
  },
  {
   "cell_type": "markdown",
   "id": "15edef9d-f7a5-4994-9d97-1a4b036a97be",
   "metadata": {
    "tags": []
   },
   "source": [
    "## Step 6.4: Configure ARP\n",
    "\n",
    "In this step, we will configure static ARP entries on server1 and server2. The reason we are doing this is because the switch does not process ARP packets unless programmed to. To make sure that ARP packets are not sent towards the switch, we will hardcode the MACs on the servers.\n",
    "\n",
    "For each server, we will add an ARP entry to its switch's neighboring interface."
   ]
  },
  {
   "cell_type": "code",
   "execution_count": 21,
   "id": "7bbf2b87-f92b-47c6-a6a7-4bae0a0a52a6",
   "metadata": {},
   "outputs": [],
   "source": [
    "stdout, stderr = server1.execute(f'sudo arp -s {gw1} {switch_iface1_MAC}')\n",
    "stdout, stderr = server2.execute(f'sudo arp -s {gw2} {switch_iface2_MAC}')"
   ]
  },
  {
   "cell_type": "markdown",
   "id": "02919ce9-ab5f-4f75-a0e0-08335a8d3b93",
   "metadata": {
    "tags": []
   },
   "source": [
    "# Step 7: Navigating the switch’s CLI\n",
    "   \n",
    "This section demonstrates how to navigate the switch’s CLI using the simple_switch_CLI tool. This tool is used to manage P4 objects at runtime. This tool works with the BMv2 software switch. Other targets have their own tools (e.g., Intel Tofino targets use the Barefoot Runtime). \n"
   ]
  },
  {
   "cell_type": "markdown",
   "id": "d6e192e3-0755-4e4b-92fb-5ec5f2ba2b4e",
   "metadata": {
    "tags": []
   },
   "source": [
    "## Step 7.1: Uploading the P4 program to the switch\n",
    "\n",
    "In this step, we upload the P4 program to the switch, compile it, and start the switch daemon. "
   ]
  },
  {
   "cell_type": "markdown",
   "id": "0e9b626c-8ef1-4073-9c7b-2fdce832e3cd",
   "metadata": {
    "tags": []
   },
   "source": [
    "The P4 program [basic.p4](labs_files/lab5/src/basic.p4) is located under lab_files/lab5/src.\n",
    "\n",
    "We will be uploading the whole directory since it includes other P4 files. "
   ]
  },
  {
   "cell_type": "code",
   "execution_count": 22,
   "id": "929a0f19-cece-40cf-a474-6bb61d9a81c8",
   "metadata": {
    "tags": []
   },
   "outputs": [
    {
     "data": {
      "text/plain": [
       "'success'"
      ]
     },
     "execution_count": 22,
     "metadata": {},
     "output_type": "execute_result"
    }
   ],
   "source": [
    "switch = slice.get_node(name='switch')        \n",
    "switch.upload_directory('labs_files/lab5/src', '/home/ubuntu/lab5')"
   ]
  },
  {
   "cell_type": "markdown",
   "id": "01cdd329-9f46-43f9-9937-c17f9d5895e7",
   "metadata": {},
   "source": [
    "## Step 7.2: Compiling and running the P4 program\n",
    "\n",
    "In this step, we will use the p4c compiler to compile the program. Then, we will start the switch daemon.\n",
    "\n",
    "Launch a new terminal by clicking on \"File\" -> \"New\" -> \"Terminal\".\n",
    "\n",
    "<img src=\"./labs_files/lab5/figs/terminal.gif\" width=\"600px\"><br>\n",
    "\n",
    "Copy the output of the command below and paste into the terminal to enter to the switch."
   ]
  },
  {
   "cell_type": "code",
   "execution_count": 23,
   "id": "a15e7509-3f1f-4e1e-ac6e-114768ce10a8",
   "metadata": {},
   "outputs": [
    {
     "data": {
      "text/plain": [
       "'ssh -i /home/fabric/work/fabric_config/slice_key -F /home/fabric/work/fabric_config/ssh_config ubuntu@2001:400:a100:3030:f816:3eff:fe14:20bf'"
      ]
     },
     "execution_count": 23,
     "metadata": {},
     "output_type": "execute_result"
    }
   ],
   "source": [
    "switch.get_ssh_command()"
   ]
  },
  {
   "cell_type": "markdown",
   "id": "bc2209a4-ba1c-4bfb-8298-9ffb129ac8bf",
   "metadata": {},
   "source": [
    "Run the following commands in the terminal:\n",
    "    \n",
    "    sudo su\n",
    "    p4c lab5/src/basic.p4\n",
    "    simple_switch -i 0@ens8 -i 1@ens7 basic.json &\n",
    "    \n",
    "<img src=\"./labs_files/lab5/figs/daemon.png\" width=\"600px\"><br>"
   ]
  },
  {
   "cell_type": "markdown",
   "id": "c96a9dc5-4412-426a-bf66-6f7b30f54215",
   "metadata": {
    "tags": []
   },
   "source": [
    "## Step 7.3: Navigating the CLI\n",
    "\n",
    "In the terminal you started in the previous step, press Enter to return to the CLI, then write the following command to start the CLI.\n",
    "    \n",
    "    simple_switch_CLI\n",
    "    \n",
    "<img src=\"./labs_files/lab5/figs/switch_CLI.png\" width=\"650px\"><br>\n",
    "\n",
    "<hr>\n",
    "\n",
    "Type a question mark (?) to see the available commands in the tool\n",
    "\n",
    "    ?\n",
    "\n",
    "\n",
    "<img src=\"./labs_files/lab5/figs/question.png\" width=\"650px\"><br>\n",
    "\n",
    "You can use the TAB key to autocomplete a command.\n",
    "\n",
    "<hr>\n",
    "\n",
    "To get help on a specific command, type help <topic>, where <topic> is the command that you would like to explore. For example, to see the syntax of table_dump, type the following:\n",
    "    \n",
    "    help table_dump \n",
    "\n",
    "<img src=\"./labs_files/lab5/figs/help_table_dump.png\" width=\"480px\"><br>\n",
    "\n",
    "<hr>"
   ]
  },
  {
   "cell_type": "markdown",
   "id": "5e6e33c0-463a-4e1c-b5d5-18928bffb4c5",
   "metadata": {},
   "source": [
    "## Step 7.4: Displaying ports, tables, and actions\n",
    "\n",
    "To display the list of ports in our switch and their mapping to Linux interface names, type the following command:\n",
    "    \n",
    "    show_ports\n",
    "\n",
    "<img src=\"./labs_files/lab5/figs/show_ports.png\" width=\"550px\"><br>\n",
    "\n",
    "<hr>\n",
    "\n",
    "To display the list of tables defined in the P4 program, type the following command:\n",
    "\n",
    "    show_tables\n",
    "\n",
    "<img src=\"./labs_files/lab5/figs/show_tables.png\" width=\"600px\"><br>\n",
    "\n",
    "<hr>\n",
    "\n",
    "List the actions defined in the P4 program by issuing the command below:\n",
    "\n",
    "    show_actions\n",
    "\n",
    "<img src=\"./labs_files/lab5/figs/show_actions.png\" width=\"600px\"><br>\n",
    "\n",
    "Notice that the MyIngress.drop action does not have any action data whereas the action MyIngress.forward modifies the destination MAC address (i.e., dstAddr(48)) and the egress port (i.e., port(9)).\n",
    "\n",
    "<hr>\n",
    "\n",
    "To display basic information about the switch, type the following command:\n",
    "\n",
    "    switch_info\n",
    "\n",
    "<img src=\"./labs_files/lab5/figs/switch_info.png\" width=\"650px\"><br>\n",
    "\n",
    "<hr>\n",
    "\n",
    "To display the time since the switch was turned on, type the following command:\n",
    "\n",
    "    get_time_elapsed\n",
    "\n",
    "<img src=\"./labs_files/lab5/figs/get_time_elapsed.png\" width=\"580px\"><br>\n",
    "\n",
    "The command above displays the time since the switch was turned on in microseconds."
   ]
  },
  {
   "cell_type": "markdown",
   "id": "06b73f6b-0f89-4da7-ad3a-f74b210d8cc3",
   "metadata": {
    "tags": []
   },
   "source": [
    "## Step 7.5: Populating match-action tables using the switch’s CLI\n",
    "\n",
    "This section demonstrates how to manage and populate the tables using the switch CLI tool. \n",
    "\n",
    "To display information about a table in the P4 program, type the following command:\n",
    "\n",
    "    table_info MyIngress.ipv4_host\n",
    "    \n",
    "<img src=\"./labs_files/lab5/figs/table_info.png\" width=\"580px\"><br>\n",
    "\n",
    "<hr>\n",
    "\n",
    "Issue the following command to display the actions corresponding to a table. The output shows the actions contained in the table MyIngress.ipv4_host:\n",
    "\n",
    "    table_show_actions MyIngress.ipv4_host\n",
    " \n",
    "<img src=\"./labs_files/lab5/figs/table_show_action.png\" width=\"580px\"><br>\n",
    "\n",
    "<hr>\n",
    "\n",
    "Dump the entries of MyIngress.ipv4_host table by issuing the following command. \n",
    "\n",
    "    table_dump MyIngress.ipv4_host\n",
    "    \n",
    "<img src=\"./labs_files/lab5/figs/table_dump.png\" width=\"500px\"><br>\n",
    "\n",
    "The output above shows that the table has not been populated. \n",
    "\n",
    "<hr>\n",
    "\n",
    "Display the number of rules/entries in the MyIngress.ipv4_host table by issuing the following command. The output will show that there are no entries added so far.\n",
    "    \n",
    "    table_num_entries MyIngress.ipv4_host\n",
    "    \n",
    "<img src=\"./labs_files/lab5/figs/table_num_entries.png\" width=\"520px\"><br>\n",
    "\n",
    "<hr>\n",
    "\n",
    "Issue the following command to display the syntax of table_add. \n",
    "\n",
    "    help table_add\n",
    "    \n",
    "<img src=\"./labs_files/lab5/figs/help_table_add.png\" width=\"800px\"><br>\n",
    "\n",
    "The parameters of the table_add can be summarized as follows:\n",
    "\n",
    "<ul>\n",
    "    <li> &lt;table_name&gt;: name of the P4 table that we would like to add rules to. The list of tables can be displayed using the show_tables command.</li>\n",
    "    <li> &lt;action name&gt;: the action associated with the entry.</li>\n",
    "    <li> &lt;match fields&gt;: the key used to match against the incoming packet.</li>\n",
    "    <li> &lt;action parameters&gt;: the parameters associated with the entry.</li>\n",
    "    <li> [priority]: the priority of the entry. </li>\n",
    "</ul>\n",
    "    \n",
    "<hr>\n",
    "\n",
    "Add an entry/rule to the table MyIngress.ipv4_host by issuing the following command. \n",
    "\n",
    "    table_add MyIngress.ipv4_host MyIngress.forward 30.0.0.1 => 00:00:00:00:00:03 2\n",
    "    \n",
    "<img src=\"./labs_files/lab5/figs/table_add.png\" width=\"670px\"><br>\n",
    "\n",
    "The output shows the details of the new table entry. The match key is 0x1e:00:00:01 (i.e., the hexadecimal value of the IP address 30.0.0.1) and the lookup mechanism is exact. The action executed when this entry is hit will be the one defined in MyIngress.forward. The action data associated with the entry is the MAC address of the destination host (i.e., 00:00:00:00:00:03) and the egress port (i.e., 00:02).\n",
    "\n",
    "<hr>\n",
    "\n",
    "Issue the following command to show the entries in the table MyIngress.ipv4_host. \n",
    "\n",
    "    table_dump MyIngress.ipv4_host\n",
    "\n",
    "<img src=\"./labs_files/lab5/figs/table_dump2.png\" width=\"500px\"><br>\n",
    "\n",
    "<hr>\n",
    "\n",
    "Display the number of entries in the table MyIngress.ipv4_host by typing the following command.\n",
    "\n",
    "    table_num_entries MyIngress.ipv4_host\n",
    "\n",
    "<img src=\"./labs_files/lab5/figs/table_num_entries2.png\" width=\"500px\"><br>\n",
    "\n",
    "<hr>\n",
    "\n",
    "We can also display the entry in a table by using its match key as follows.\n",
    "\n",
    "    table_dump_entry_from_key MyIngress.ipv4_host 0x1e000001\n",
    "\n",
    "<img src=\"./labs_files/lab5/figs/table_dump_entry.png\" width=\"500px\"><br>\n",
    "\n",
    "Match-action tables can contain too many entries and dumping the whole table will produce a large output that is hard to read.\n",
    "\n",
    "<hr>\n",
    "\n",
    "Another way to display the entry in a table is by specifying the entry handle, which in this case is 0. Issue the following command to show the table entry using the handle of the entry.\n",
    "\n",
    "    table_dump_entry MyIngress.ipv4_host 0\n",
    "    \n",
    "<img src=\"./labs_files/lab5/figs/table_dump_entry_2.png\" width=\"500px\"><br>\n",
    "\n",
    "<hr>\n",
    "\n",
    "Issue the following command to modify an existing entry.\n",
    "\n",
    "    table_modify MyIngress.ipv4_host MyIngress.forward 0 00:00:00:00:00:05 5\n",
    " \n",
    "<img src=\"./labs_files/lab5/figs/table_modify.png\" width=\"600px\"><br>\n",
    "\n",
    "The parameters of table_modify are described as follows:\n",
    "\n",
    "<ul>\n",
    "    <li>MyIngress.ipv4_host: refers to the table that implements an exact lookup.</li>\n",
    "    <li>MyIngress.forward: specifies the action.</li>\n",
    "    <li>0: the table’s entry handle.</li>\n",
    "    <li>00:00:00:00:00:05: the new MAC address.</li>\n",
    "    <li>5: the new egress port.</li>\n",
    "</ul>\n",
    "\n",
    "<hr>\n",
    "\n",
    "Dump the content of the table MyIngress.ipv4_host by typing the following command.\n",
    "    \n",
    "    table_dump_entry MyIngress.ipv4_host 0\n",
    "    \n",
    "<img src=\"./labs_files/lab5/figs/table_dump_entry_3.png\" width=\"500px\"><br>\n",
    "\n",
    "The output shows the details of the modified entry. The match key is 0x1e:00:00:01 (i.e., the hexadecimal value of the IP address 30.0.0.1) and the lookup mechanism is exact. The action executed when this entry is hit will be the one defined in MyIngress.forward. The action data specifies 5 (i.e., the hexadecimal value 00:00:00:00:00:05) as the new destination MAC address and  port 5 as the egress.\n",
    "\n",
    "<hr>\n",
    "\n",
    "Add an entry/rule to the MyIngress.ipv4_lpm table by issuing the following command. \n",
    "\n",
    "    table_add MyIngress.ipv4_lpm MyIngress.forward 20.0.0.0/8 => 00:00:00:00:00:02 1\n",
    " \n",
    "<img src=\"./labs_files/lab5/figs/table_add_lpm.png\" width=\"670px\"><br>\n",
    "\n",
    "The parameters of table_add are described as follows:\n",
    "\n",
    "<ul>\n",
    "    <li>MyIngress.ipv4_lpm: refers to the table that implements LPM lookup.</li>\n",
    "    <li>MyIngress.forward: specifies the action.</li>\n",
    "    <li>20.0.0.0/8: is entry’s key.</li>\n",
    "    <li>00:00:00:00:00:02: the destination MAC address.</li>\n",
    "    <li>1: specifies the egress port.</li>\n",
    "</ul>\n",
    "\n",
    "<hr>\n",
    "\n",
    "To delete a specific entry in a P4 table, type the following command\n",
    "\n",
    "    table_delete MyIngress.ipv4_lpm 0\n",
    "\n",
    "<img src=\"./labs_files/lab5/figs/table_delete.png\" width=\"500px\"><br>\n",
    "\n",
    "This command deletes the entry with the handle 0 in the MyIngress.ipv4_lpm table.\n",
    "\n",
    "<hr>\n",
    "\n",
    "It is also possible to delete all entries from a match action table by issuing the following command.\n",
    "\n",
    "    table_clear MyIngress.ipv4_lpm\n",
    "\n",
    "<img src=\"./labs_files/lab5/figs/table_clear.png\" width=\"500px\"><br>\n",
    "\n",
    "<hr>\n",
    "\n",
    "Verify that the table MyIngress.ipv4_lpm is cleared by issuing the following command. The output will show that the table MyIngress.ipv4_lpm is empty.\n",
    "\n",
    "    table_num_entries MyIngress.ipv4_lpm\n",
    " \n",
    "<img src=\"./labs_files/lab5/figs/table_num_entries_3.png\" width=\"430px\"><br>\n"
   ]
  },
  {
   "cell_type": "markdown",
   "id": "fc8a39dc-661f-4a3f-a485-8a615b6ae3a7",
   "metadata": {
    "tags": []
   },
   "source": [
    "## Step 8: Delete the Slice\n",
    "\n",
    "This concludes Lab 5. Please delete your slice when you are done with your experiment."
   ]
  },
  {
   "cell_type": "code",
   "execution_count": 24,
   "id": "9a8a307b-3aa5-407b-9d8a-ab9133e04895",
   "metadata": {
    "tags": []
   },
   "outputs": [],
   "source": [
    "from fabrictestbed_extensions.fablib.fablib import FablibManager as fablib_manager\n",
    "fablib = fablib_manager()\n",
    "slice = fablib.get_slice(name=\"lab5\")\n",
    "slice.delete()"
   ]
  },
  {
   "cell_type": "code",
   "execution_count": null,
   "id": "8f840ebd-e5ed-4393-a8dd-818b21fc963b",
   "metadata": {},
   "outputs": [],
   "source": []
  }
 ],
 "metadata": {
  "kernelspec": {
   "display_name": "Python 3 (ipykernel)",
   "language": "python",
   "name": "python3"
  },
  "language_info": {
   "codemirror_mode": {
    "name": "ipython",
    "version": 3
   },
   "file_extension": ".py",
   "mimetype": "text/x-python",
   "name": "python",
   "nbconvert_exporter": "python",
   "pygments_lexer": "ipython3",
   "version": "3.10.6"
  }
 },
 "nbformat": 4,
 "nbformat_minor": 5
}
