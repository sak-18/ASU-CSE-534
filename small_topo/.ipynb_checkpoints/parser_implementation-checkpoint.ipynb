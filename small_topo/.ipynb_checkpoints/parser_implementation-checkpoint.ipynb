{
 "cells": [
  {
   "cell_type": "markdown",
   "id": "ab5adb1a-770d-446f-8c45-582248410587",
   "metadata": {},
   "source": [
    "# Lab 3 - Parser Implementation\n",
    "\n",
    "This lab starts by describing how to define custom headers in a P4 program. It then explains how to implement a simple parser that parses the defined headers. The lab further shows how to track the parsing states of a packet inside the software switch.\n",
    "\n",
    "<img src=\"./labs_files/lab1/figs/fabric_topology.png\" width=\"550px\"><br>"
   ]
  },
  {
   "cell_type": "markdown",
   "id": "54f01323-f1ec-4eb6-b165-d587bdef7391",
   "metadata": {},
   "source": [
    "# Background\n",
    "\n",
    "## Program headers and definitions\n",
    "\n",
    "For several decades, the networking industry operated in a bottom-up approach. At the bottom of the system are the fixed-function Application Specific Integrated Circuits (ASICs), which enforce protocols, features, and processes available in the switch. Programmers and operators are limited to these capabilities when building their systems. Consequently, systems have features defined by ASIC vendors that are rigid and may not fit the network operators’ needs. Programmable switches and P4 represent a disruption of the networking industry by enabling a top-down approach for the design of network applications. With this approach, the programmer or network operator can precisely describe features and how packets are processed in the ASIC, using a high-level language, P4.\n",
    "\n",
    "With the Protocol Independent Switch Architecture (PISA), the programmer defines the headers and corresponding parser as well as actions executed in the match-action pipeline and the deparser. The programmer has the flexibility of defining custom headers (i.e., a header not standardized). Such capability is not available in non-programmable devices.\n",
    "\n",
    "\n",
    "<img src=\"./labs_files/lab3/figs/ethernet.PNG\" width=\"400px\"><br>\n",
    "\n",
    "<img src=\"./labs_files/lab3/figs/ipv4.PNG\" width=\"600px\"><br>\n",
    "\n",
    "<img src=\"./labs_files/lab3/figs/ipv6.PNG\" width=\"600px\"><br>\n",
    "\n",
    "\n",
    "Figure below shows an excerpt of a P4 program where the headers are defined. This is typically written at the top of the program before the parsing starts. We can see that the programmer defined a header corresponding to Ethernet (lines 11-15). The Ethernet header fields are shown in the first figure above.\n",
    "\n",
    "<img src=\"./labs_files/lab3/figs/headers_defs.PNG\" width=\"500px\"><br>\n",
    "\n",
    "The programmer also defined an IPv4 header (lines 26-40). The IPv4 header format is shown in the second figure above and the IPv6 header is shown in the third figure above.\n",
    "\n",
    "The code starts by including the core.p4 file (line 1) which defines some common types and variables used in all P4 programs. For instance, the packet_in and packet_out extern types which represent incoming and outgoing packets, respectively, are declared in core.p4. Next, the v1model.p4 file is included (line 2) to define the V1Model architecture and all its externs used when writing P4 programs. Line 3 creates a 16-bit constant TYPE_IPV4 with the value 0x800. This means that TYPE_IPV4 can be used later in the P4 program to reference the value 0x800. The typedef declarations (lines 7 - 9) are used to assign alternative names to types. Subsequently, the headers and the metadata structs that will be used in the program are defined. These headers are customized depending on how the programmer wants the packets to be parsed. The program in Figure 4 defines the Ethernet header (lines 11-15) and the IPv4 header (lines 26-40). The declarations inside each header are usually written after referring to the standard specifications of the protocol. Note in the ethernet_t header the macAddr_t is used rather than using a 48-bit field. Lines 17 - 19 show how to declare user-defined metadata, which are passed from one block to another as the packet propagates through the architecture. For simplicity, this program does not require any user metadata. \n"
   ]
  },
  {
   "cell_type": "markdown",
   "id": "4b60588c-bafb-4b0d-a57e-9af675f7e917",
   "metadata": {},
   "source": [
    "## Programmable parser\n",
    "\n",
    "The programmable parser permits the programmer to describe how the switch will process the packet. The parser de-encapsulates the headers, converting the original packet into a parsed representation of the packet. The parser can be represented as a state machine without cycles (direct acyclic graph), with one initial state (start) and two final states (accept or reject).\n",
    "\n",
    "<img src=\"./labs_files/lab3/figs/parser1.PNG\" width=\"450px\"><br>\n",
    "\n",
    "<img src=\"./labs_files/lab3/figs/parser2.PNG\" width=\"500px\"><br>\n",
    "\n",
    "The first figure above shows the graphical representation of the parser and the second figure its corresponding P4 code. Note that packet is an instance of the packet_in extern (specific to V1Model) and is passed as a parameter to the parser. The extract method associated with the packet extracts N bits, where N is the total number of bits defined in the corresponding header (for example, 112 bits for Ethernet). Afterwards, the etherType field of the Ethernet header is examined using the select statement, and the program branches to the parse_ipv4 state if the etherType field corresponds to IPv4. The state transitions to the reject if it is not an IPv4 header, as shown in the figure above (Line 12). In the parse_ipv4 state, the IPv4 header is extracted, and the program unconditionally transitions to the accept state.\n"
   ]
  },
  {
   "cell_type": "markdown",
   "id": "a3b14494-a097-4a69-88a2-1e0baac727fb",
   "metadata": {
    "jp-MarkdownHeadingCollapsed": true,
    "tags": []
   },
   "source": [
    "# Step 1:  Configure the Environment\n",
    "\n",
    "Before running this notebook, you will need to configure your environment using the [Configure Environment](../../../configure.ipynb) notebook. Please stop here, open and run that notebook, then return to this notebook.\n",
    "\n",
    "If you are using the FABRIC JupyterHub many of the environment variables will be automatically configured for you.  You will still need to set your bastion username, upload your bastion private key, and set the path to where you put your bastion private key. Your bastion username and private key should already be in your possession.  \n",
    "\n",
    "If you are using the FABRIC API outside of the JupyterHub you will need to configure all of the environment variables. Defaults below will be correct in many situations but you will need to confirm your configuration.  If you have questions about this configuration, please contact the FABRIC admins using the [FABRIC User Forum](https://learn.fabric-testbed.net/forums/) \n",
    "\n",
    "More information about accessing your experiments through the FABRIC bastion hosts can be found [here](https://learn.fabric-testbed.net/knowledge-base/logging-into-fabric-vms/).\n",
    " "
   ]
  },
  {
   "cell_type": "markdown",
   "id": "a7944d6d-f5f9-40ae-badb-4dc2c90e373b",
   "metadata": {
    "tags": []
   },
   "source": [
    "# Step 2: Import the FABlib Library"
   ]
  },
  {
   "cell_type": "code",
   "execution_count": 1,
   "id": "6ae6b13d-afdf-422b-bf5d-63d06e526a10",
   "metadata": {},
   "outputs": [],
   "source": [
    "from fabrictestbed_extensions.fablib.fablib import FablibManager as fablib_manager\n",
    "fablib = fablib_manager()"
   ]
  },
  {
   "cell_type": "markdown",
   "id": "469d59b2-6d39-47b4-ac64-a68614cbb882",
   "metadata": {
    "tags": []
   },
   "source": [
    "# Step 3: Create the Experiment Slice\n",
    "\n",
    "The following creates three node with basic compute and networking capabilities. You build a slice by creating a new slice and adding resources to the slice. After you build the slice, you must submit a request for the slice to be instantiated.   "
   ]
  },
  {
   "cell_type": "markdown",
   "id": "441c7670-4221-4f7a-be6a-df49214141ff",
   "metadata": {
    "tags": []
   },
   "source": [
    "### Step 3.1: Create a slice\n",
    "The code below creates a new slice with the name \"lab3\""
   ]
  },
  {
   "cell_type": "code",
   "execution_count": 11,
   "id": "0202a524-b753-4859-9037-c49f410ee7d0",
   "metadata": {
    "tags": []
   },
   "outputs": [],
   "source": [
    "slice = fablib.new_slice(name=\"lab3_v1\")"
   ]
  },
  {
   "cell_type": "markdown",
   "id": "982b3587-a231-4fbe-ba36-8d1fa67176c2",
   "metadata": {
    "tags": []
   },
   "source": [
    "### Step 3.2: Define the sites\n",
    "The code below requests three sites from FABRIC: GATECH, STAR, and NCSA"
   ]
  },
  {
   "cell_type": "markdown",
   "id": "12eaa227-4a13-48d3-a744-2a7540a4b030",
   "metadata": {
    "tags": []
   },
   "source": [
    "<img src=\"./labs_files/lab1/figs/fabric_sites.png\" width=\"40%\"><br>"
   ]
  },
  {
   "cell_type": "code",
   "execution_count": 12,
   "id": "0fee3c44-13ce-4409-8cc2-b1799ad6eec3",
   "metadata": {
    "tags": []
   },
   "outputs": [
    {
     "name": "stdout",
     "output_type": "stream",
     "text": [
      "The selected sites are UCSD, STAR, NCSA\n"
     ]
    }
   ],
   "source": [
    "site1='UCSD'\n",
    "site2='STAR'\n",
    "site3='NCSA'\n",
    "\n",
    "print (f'The selected sites are {site1}, {site2}, {site3}') "
   ]
  },
  {
   "cell_type": "markdown",
   "id": "976bef7a-4b4d-4993-ad2d-254757b2b211",
   "metadata": {
    "tags": []
   },
   "source": [
    "### Step 3.3: Creating the nodes\n",
    "The code below creates three nodes: server1, switch, and server2. The servers (server1 and server2) use the following\n",
    "<ul>\n",
    "    <li> 4 CPU cores</li>\n",
    "    <li> 8GB RAM </li>\n",
    "    <li> 20GB disc size </li>\n",
    "    <li> Image: Ubuntu 20.04\n",
    "</ul>\n",
    "\n",
    "server1 will be created in site1 and server3 will be created in site3\n",
    "\n",
    "<img src=\"./labs_files/lab1/figs/creating_nodes.PNG\" width=\"550px\"><br>"
   ]
  },
  {
   "cell_type": "code",
   "execution_count": 13,
   "id": "f189fb51-7411-43e4-a28d-8f9c2f12ade4",
   "metadata": {
    "tags": []
   },
   "outputs": [],
   "source": [
    "server1 = slice.add_node(name=\"server1\", \n",
    "                      site=site1, \n",
    "                      cores=4, \n",
    "                      ram=8, \n",
    "                      disk=20, \n",
    "                      image='default_ubuntu_20')\n",
    "\n",
    "server2 = slice.add_node(name=\"server2\", \n",
    "                      site=site3, \n",
    "                      cores=4, \n",
    "                      ram=8, \n",
    "                      disk=20, \n",
    "                      image='default_ubuntu_20')"
   ]
  },
  {
   "cell_type": "markdown",
   "id": "d47e891a-1acc-47e7-87ab-121c05a7dca1",
   "metadata": {
    "tags": []
   },
   "source": [
    "### Step 3.4: Adding the interfaces to the servers\n",
    "The code below adds a Network Interface Card (NIC) to each server.\n",
    "\n",
    "<img src=\"./labs_files/lab1/figs/adding_nics.PNG\" width=\"550px\"><br>"
   ]
  },
  {
   "cell_type": "code",
   "execution_count": 14,
   "id": "57dc060a-c728-4c0c-aea5-097326c4384c",
   "metadata": {
    "tags": []
   },
   "outputs": [],
   "source": [
    "server1_iface = server1.add_component(model='NIC_Basic').get_interfaces()[0]\n",
    "server2_iface = server2.add_component(model='NIC_Basic').get_interfaces()[0]"
   ]
  },
  {
   "cell_type": "markdown",
   "id": "7c9c1468-abc9-4159-8a25-368d55a116d6",
   "metadata": {
    "tags": []
   },
   "source": [
    "### Step 3.5: Creating a node for the P4 switch\n",
    "The code below creates a node that will run the P4 switch. The node use the following\n",
    "<ul>\n",
    "    <li> 16 CPU cores</li>\n",
    "    <li> 8GB RAM </li>\n",
    "    <li> 40GB disc size </li>\n",
    "    <li> Image: Ubuntu 20.04\n",
    "</ul>\n",
    "\n",
    "The node will be created in site2\n",
    "\n",
    "<img src=\"./labs_files/lab1/figs/adding_switch.PNG\" width=\"550px\"><br>"
   ]
  },
  {
   "cell_type": "code",
   "execution_count": 15,
   "id": "925b125f-ddbe-4531-89ed-b9b0a3e3f58e",
   "metadata": {
    "tags": []
   },
   "outputs": [],
   "source": [
    "# Add a node\n",
    "switch = slice.add_node(name=\"switch\", \n",
    "                      site=site2, \n",
    "                      cores=32, \n",
    "                      ram=16, \n",
    "                      disk=40, \n",
    "                      image='default_ubuntu_20')"
   ]
  },
  {
   "cell_type": "markdown",
   "id": "130eaded-960d-49ed-bb47-641630e33598",
   "metadata": {},
   "source": [
    "### Step 3.6: Adding two interfaces to the switch\n",
    "The code below adds two Network Interface Cards (NICs) to the switch.\n",
    "\n",
    "<img src=\"./labs_files/lab1/figs/adding_switch_ports.PNG\" width=\"550px\"><br>"
   ]
  },
  {
   "cell_type": "code",
   "execution_count": 16,
   "id": "eb754ffc-1a51-4777-9cee-203c18d6ba90",
   "metadata": {},
   "outputs": [],
   "source": [
    "switch_iface1 = switch.add_component(model='NIC_Basic', name='net1_nic').get_interfaces()[0]\n",
    "switch_iface2 = switch.add_component(model='NIC_Basic', name='net2_nic').get_interfaces()[0]"
   ]
  },
  {
   "cell_type": "markdown",
   "id": "53baab9b-390d-4da8-8440-cd3356e56795",
   "metadata": {},
   "source": [
    "### Step 3.7: Connecting site1 and site2\n",
    "Create a site-to-site network between site1 and site2 connecting server1 and the P4 switch\n",
    "\n",
    "<img src=\"./labs_files/lab1/figs/connecting_nodes_server1_switch.PNG\" width=\"550px\"><br>"
   ]
  },
  {
   "cell_type": "code",
   "execution_count": 17,
   "id": "1c536c24-f44d-4e9c-952f-4f2cb3781126",
   "metadata": {},
   "outputs": [],
   "source": [
    "net1 = slice.add_l2network(name='net1', interfaces=[server1_iface, switch_iface1])"
   ]
  },
  {
   "cell_type": "markdown",
   "id": "190e029f-3f22-47b5-9840-d879905c0790",
   "metadata": {},
   "source": [
    "### Step 3.8: Connecting site2 and site3\n",
    "Create a site-to-site network between site2 and site3 connecting the P4 switch and server2\n",
    "\n",
    "<img src=\"./labs_files/lab1/figs/connecting_nodes_server2_switch.PNG\" width=\"550px\"><br>"
   ]
  },
  {
   "cell_type": "code",
   "execution_count": 18,
   "id": "5a3f7a4c-15c0-4ec6-b05f-67d61b063670",
   "metadata": {},
   "outputs": [],
   "source": [
    "net2 = slice.add_l2network(name='net2', interfaces=[switch_iface2, server2_iface])"
   ]
  },
  {
   "cell_type": "markdown",
   "id": "05d39e42-e051-43c7-aac1-79e01b758be6",
   "metadata": {},
   "source": [
    "### Step 3.9: Submitting the slice\n",
    "The code below submits the slice. \n",
    "By default, the submit function will block until the node is ready and will display the progress of your slice being built."
   ]
  },
  {
   "cell_type": "code",
   "execution_count": 19,
   "id": "20724788-d10c-4470-b7a9-5f28eac2f0d9",
   "metadata": {},
   "outputs": [
    {
     "name": "stdout",
     "output_type": "stream",
     "text": [
      "\n",
      "Retry: 10, Time: 304 sec\n"
     ]
    },
    {
     "data": {
      "text/html": [
       "<style type=\"text/css\">\n",
       "#T_cbcc1 tr:nth-child(even) {\n",
       "  background: #dbf3ff;\n",
       "  color: #231f20;\n",
       "}\n",
       "#T_cbcc1 tr:nth-child(odd) {\n",
       "  background: #ffffff;\n",
       "  color: #231f20;\n",
       "}\n",
       "#T_cbcc1 caption {\n",
       "  text-align: center;\n",
       "  font-size: 150%;\n",
       "}\n",
       "#T_cbcc1_row0_col0, #T_cbcc1_row0_col1, #T_cbcc1_row1_col0, #T_cbcc1_row1_col1, #T_cbcc1_row2_col0, #T_cbcc1_row2_col1, #T_cbcc1_row3_col0, #T_cbcc1_row3_col1, #T_cbcc1_row4_col0, #T_cbcc1_row4_col1, #T_cbcc1_row5_col0 {\n",
       "  text-align: left;\n",
       "  border: 1px #231f20 solid !important;\n",
       "  overwrite: False;\n",
       "  background-color: ;\n",
       "}\n",
       "#T_cbcc1_row5_col1 {\n",
       "  text-align: left;\n",
       "  border: 1px #231f20 solid !important;\n",
       "  overwrite: False;\n",
       "  background-color: #c3ffc4;\n",
       "}\n",
       "</style>\n",
       "<table id=\"T_cbcc1\">\n",
       "  <caption>Slice</caption>\n",
       "  <thead>\n",
       "  </thead>\n",
       "  <tbody>\n",
       "    <tr>\n",
       "      <td id=\"T_cbcc1_row0_col0\" class=\"data row0 col0\" >ID</td>\n",
       "      <td id=\"T_cbcc1_row0_col1\" class=\"data row0 col1\" >dbf3dbfe-63f0-478c-8aba-b17bcf6ed01d</td>\n",
       "    </tr>\n",
       "    <tr>\n",
       "      <td id=\"T_cbcc1_row1_col0\" class=\"data row1 col0\" >Name</td>\n",
       "      <td id=\"T_cbcc1_row1_col1\" class=\"data row1 col1\" >lab3_v1</td>\n",
       "    </tr>\n",
       "    <tr>\n",
       "      <td id=\"T_cbcc1_row2_col0\" class=\"data row2 col0\" >Lease Expiration (UTC)</td>\n",
       "      <td id=\"T_cbcc1_row2_col1\" class=\"data row2 col1\" >2023-10-18 20:18:26 +0000</td>\n",
       "    </tr>\n",
       "    <tr>\n",
       "      <td id=\"T_cbcc1_row3_col0\" class=\"data row3 col0\" >Lease Start (UTC)</td>\n",
       "      <td id=\"T_cbcc1_row3_col1\" class=\"data row3 col1\" >2023-10-17 20:18:26 +0000</td>\n",
       "    </tr>\n",
       "    <tr>\n",
       "      <td id=\"T_cbcc1_row4_col0\" class=\"data row4 col0\" >Project ID</td>\n",
       "      <td id=\"T_cbcc1_row4_col1\" class=\"data row4 col1\" >6ce270de-788d-4e07-8bae-3206860a6387</td>\n",
       "    </tr>\n",
       "    <tr>\n",
       "      <td id=\"T_cbcc1_row5_col0\" class=\"data row5 col0\" >State</td>\n",
       "      <td id=\"T_cbcc1_row5_col1\" class=\"data row5 col1\" >StableOK</td>\n",
       "    </tr>\n",
       "  </tbody>\n",
       "</table>\n"
      ],
      "text/plain": [
       "<pandas.io.formats.style.Styler at 0x7efd350389a0>"
      ]
     },
     "metadata": {},
     "output_type": "display_data"
    },
    {
     "data": {
      "text/html": [
       "<style type=\"text/css\">\n",
       "#T_02815 caption {\n",
       "  text-align: center;\n",
       "  font-size: 150%;\n",
       "  caption-side: top;\n",
       "}\n",
       "#T_02815 th {\n",
       "  text-align: left;\n",
       "}\n",
       "#T_02815 tr:nth-child(even) {\n",
       "  background: #ffffff;\n",
       "  color: #231f20;\n",
       "}\n",
       "#T_02815 tr:nth-child(odd) {\n",
       "  background: #dbf3ff;\n",
       "  color: #231f20;\n",
       "}\n",
       "#T_02815 .level0 {\n",
       "  border: 1px black solid !important;\n",
       "  background: #ffffff;\n",
       "  color: #231f20;\n",
       "}\n",
       "#T_02815_row0_col0, #T_02815_row0_col1, #T_02815_row0_col2, #T_02815_row0_col3, #T_02815_row0_col4, #T_02815_row0_col5, #T_02815_row0_col6, #T_02815_row0_col7, #T_02815_row0_col8, #T_02815_row0_col9, #T_02815_row0_col10, #T_02815_row0_col13, #T_02815_row0_col14, #T_02815_row0_col15, #T_02815_row1_col0, #T_02815_row1_col1, #T_02815_row1_col2, #T_02815_row1_col3, #T_02815_row1_col4, #T_02815_row1_col5, #T_02815_row1_col6, #T_02815_row1_col7, #T_02815_row1_col8, #T_02815_row1_col9, #T_02815_row1_col10, #T_02815_row1_col13, #T_02815_row1_col14, #T_02815_row1_col15, #T_02815_row2_col0, #T_02815_row2_col1, #T_02815_row2_col2, #T_02815_row2_col3, #T_02815_row2_col4, #T_02815_row2_col5, #T_02815_row2_col6, #T_02815_row2_col7, #T_02815_row2_col8, #T_02815_row2_col9, #T_02815_row2_col10, #T_02815_row2_col13, #T_02815_row2_col14, #T_02815_row2_col15 {\n",
       "  text-align: left;\n",
       "  border: 1px #231f20 solid !important;\n",
       "  overwrite: False;\n",
       "}\n",
       "#T_02815_row0_col11, #T_02815_row1_col11, #T_02815_row2_col11 {\n",
       "  text-align: left;\n",
       "  border: 1px #231f20 solid !important;\n",
       "  overwrite: False;\n",
       "  background-color: #c3ffc4;\n",
       "}\n",
       "#T_02815_row0_col12, #T_02815_row1_col12, #T_02815_row2_col12 {\n",
       "  text-align: left;\n",
       "  border: 1px #231f20 solid !important;\n",
       "  overwrite: False;\n",
       "  background-color: ;\n",
       "}\n",
       "</style>\n",
       "<table id=\"T_02815\">\n",
       "  <caption>Nodes</caption>\n",
       "  <thead>\n",
       "    <tr>\n",
       "      <th id=\"T_02815_level0_col0\" class=\"col_heading level0 col0\" >ID</th>\n",
       "      <th id=\"T_02815_level0_col1\" class=\"col_heading level0 col1\" >Name</th>\n",
       "      <th id=\"T_02815_level0_col2\" class=\"col_heading level0 col2\" >Cores</th>\n",
       "      <th id=\"T_02815_level0_col3\" class=\"col_heading level0 col3\" >RAM</th>\n",
       "      <th id=\"T_02815_level0_col4\" class=\"col_heading level0 col4\" >Disk</th>\n",
       "      <th id=\"T_02815_level0_col5\" class=\"col_heading level0 col5\" >Image</th>\n",
       "      <th id=\"T_02815_level0_col6\" class=\"col_heading level0 col6\" >Image Type</th>\n",
       "      <th id=\"T_02815_level0_col7\" class=\"col_heading level0 col7\" >Host</th>\n",
       "      <th id=\"T_02815_level0_col8\" class=\"col_heading level0 col8\" >Site</th>\n",
       "      <th id=\"T_02815_level0_col9\" class=\"col_heading level0 col9\" >Username</th>\n",
       "      <th id=\"T_02815_level0_col10\" class=\"col_heading level0 col10\" >Management IP</th>\n",
       "      <th id=\"T_02815_level0_col11\" class=\"col_heading level0 col11\" >State</th>\n",
       "      <th id=\"T_02815_level0_col12\" class=\"col_heading level0 col12\" >Error</th>\n",
       "      <th id=\"T_02815_level0_col13\" class=\"col_heading level0 col13\" >SSH Command</th>\n",
       "      <th id=\"T_02815_level0_col14\" class=\"col_heading level0 col14\" >Public SSH Key File</th>\n",
       "      <th id=\"T_02815_level0_col15\" class=\"col_heading level0 col15\" >Private SSH Key File</th>\n",
       "    </tr>\n",
       "  </thead>\n",
       "  <tbody>\n",
       "    <tr>\n",
       "      <td id=\"T_02815_row0_col0\" class=\"data row0 col0\" >e224d1a7-a20e-45f9-aefc-efdae7b29517</td>\n",
       "      <td id=\"T_02815_row0_col1\" class=\"data row0 col1\" >server1</td>\n",
       "      <td id=\"T_02815_row0_col2\" class=\"data row0 col2\" >4</td>\n",
       "      <td id=\"T_02815_row0_col3\" class=\"data row0 col3\" >8</td>\n",
       "      <td id=\"T_02815_row0_col4\" class=\"data row0 col4\" >100</td>\n",
       "      <td id=\"T_02815_row0_col5\" class=\"data row0 col5\" >default_ubuntu_20</td>\n",
       "      <td id=\"T_02815_row0_col6\" class=\"data row0 col6\" >qcow2</td>\n",
       "      <td id=\"T_02815_row0_col7\" class=\"data row0 col7\" >ucsd-w2.fabric-testbed.net</td>\n",
       "      <td id=\"T_02815_row0_col8\" class=\"data row0 col8\" >UCSD</td>\n",
       "      <td id=\"T_02815_row0_col9\" class=\"data row0 col9\" >ubuntu</td>\n",
       "      <td id=\"T_02815_row0_col10\" class=\"data row0 col10\" >132.249.252.179</td>\n",
       "      <td id=\"T_02815_row0_col11\" class=\"data row0 col11\" >Active</td>\n",
       "      <td id=\"T_02815_row0_col12\" class=\"data row0 col12\" ></td>\n",
       "      <td id=\"T_02815_row0_col13\" class=\"data row0 col13\" >ssh -i /home/fabric/work/fabric_config/slice_key -F /home/fabric/work/fabric_config/ssh_config ubuntu@132.249.252.179</td>\n",
       "      <td id=\"T_02815_row0_col14\" class=\"data row0 col14\" >/home/fabric/work/fabric_config/slice_key.pub</td>\n",
       "      <td id=\"T_02815_row0_col15\" class=\"data row0 col15\" >/home/fabric/work/fabric_config/slice_key</td>\n",
       "    </tr>\n",
       "    <tr>\n",
       "      <td id=\"T_02815_row1_col0\" class=\"data row1 col0\" >7f625dff-9a24-4f1f-a423-c502a1990c8d</td>\n",
       "      <td id=\"T_02815_row1_col1\" class=\"data row1 col1\" >server2</td>\n",
       "      <td id=\"T_02815_row1_col2\" class=\"data row1 col2\" >4</td>\n",
       "      <td id=\"T_02815_row1_col3\" class=\"data row1 col3\" >8</td>\n",
       "      <td id=\"T_02815_row1_col4\" class=\"data row1 col4\" >100</td>\n",
       "      <td id=\"T_02815_row1_col5\" class=\"data row1 col5\" >default_ubuntu_20</td>\n",
       "      <td id=\"T_02815_row1_col6\" class=\"data row1 col6\" >qcow2</td>\n",
       "      <td id=\"T_02815_row1_col7\" class=\"data row1 col7\" >ncsa-w3.fabric-testbed.net</td>\n",
       "      <td id=\"T_02815_row1_col8\" class=\"data row1 col8\" >NCSA</td>\n",
       "      <td id=\"T_02815_row1_col9\" class=\"data row1 col9\" >ubuntu</td>\n",
       "      <td id=\"T_02815_row1_col10\" class=\"data row1 col10\" >2620:0:c80:1001:f816:3eff:fed2:9d27</td>\n",
       "      <td id=\"T_02815_row1_col11\" class=\"data row1 col11\" >Active</td>\n",
       "      <td id=\"T_02815_row1_col12\" class=\"data row1 col12\" ></td>\n",
       "      <td id=\"T_02815_row1_col13\" class=\"data row1 col13\" >ssh -i /home/fabric/work/fabric_config/slice_key -F /home/fabric/work/fabric_config/ssh_config ubuntu@2620:0:c80:1001:f816:3eff:fed2:9d27</td>\n",
       "      <td id=\"T_02815_row1_col14\" class=\"data row1 col14\" >/home/fabric/work/fabric_config/slice_key.pub</td>\n",
       "      <td id=\"T_02815_row1_col15\" class=\"data row1 col15\" >/home/fabric/work/fabric_config/slice_key</td>\n",
       "    </tr>\n",
       "    <tr>\n",
       "      <td id=\"T_02815_row2_col0\" class=\"data row2 col0\" >b18a91eb-ace8-4090-adfa-fdd589373c03</td>\n",
       "      <td id=\"T_02815_row2_col1\" class=\"data row2 col1\" >switch</td>\n",
       "      <td id=\"T_02815_row2_col2\" class=\"data row2 col2\" >32</td>\n",
       "      <td id=\"T_02815_row2_col3\" class=\"data row2 col3\" >16</td>\n",
       "      <td id=\"T_02815_row2_col4\" class=\"data row2 col4\" >100</td>\n",
       "      <td id=\"T_02815_row2_col5\" class=\"data row2 col5\" >default_ubuntu_20</td>\n",
       "      <td id=\"T_02815_row2_col6\" class=\"data row2 col6\" >qcow2</td>\n",
       "      <td id=\"T_02815_row2_col7\" class=\"data row2 col7\" >star-w1.fabric-testbed.net</td>\n",
       "      <td id=\"T_02815_row2_col8\" class=\"data row2 col8\" >STAR</td>\n",
       "      <td id=\"T_02815_row2_col9\" class=\"data row2 col9\" >ubuntu</td>\n",
       "      <td id=\"T_02815_row2_col10\" class=\"data row2 col10\" >2001:400:a100:3030:f816:3eff:fea9:3707</td>\n",
       "      <td id=\"T_02815_row2_col11\" class=\"data row2 col11\" >Active</td>\n",
       "      <td id=\"T_02815_row2_col12\" class=\"data row2 col12\" ></td>\n",
       "      <td id=\"T_02815_row2_col13\" class=\"data row2 col13\" >ssh -i /home/fabric/work/fabric_config/slice_key -F /home/fabric/work/fabric_config/ssh_config ubuntu@2001:400:a100:3030:f816:3eff:fea9:3707</td>\n",
       "      <td id=\"T_02815_row2_col14\" class=\"data row2 col14\" >/home/fabric/work/fabric_config/slice_key.pub</td>\n",
       "      <td id=\"T_02815_row2_col15\" class=\"data row2 col15\" >/home/fabric/work/fabric_config/slice_key</td>\n",
       "    </tr>\n",
       "  </tbody>\n",
       "</table>\n"
      ],
      "text/plain": [
       "<pandas.io.formats.style.Styler at 0x7efd3514a980>"
      ]
     },
     "metadata": {},
     "output_type": "display_data"
    },
    {
     "data": {
      "text/html": [
       "<style type=\"text/css\">\n",
       "#T_a9f0f caption {\n",
       "  text-align: center;\n",
       "  font-size: 150%;\n",
       "  caption-side: top;\n",
       "}\n",
       "#T_a9f0f th {\n",
       "  text-align: left;\n",
       "}\n",
       "#T_a9f0f tr:nth-child(even) {\n",
       "  background: #ffffff;\n",
       "  color: #231f20;\n",
       "}\n",
       "#T_a9f0f tr:nth-child(odd) {\n",
       "  background: #dbf3ff;\n",
       "  color: #231f20;\n",
       "}\n",
       "#T_a9f0f .level0 {\n",
       "  border: 1px black solid !important;\n",
       "  background: #ffffff;\n",
       "  color: #231f20;\n",
       "}\n",
       "#T_a9f0f_row0_col0, #T_a9f0f_row0_col1, #T_a9f0f_row0_col2, #T_a9f0f_row0_col3, #T_a9f0f_row0_col4, #T_a9f0f_row0_col5, #T_a9f0f_row0_col6, #T_a9f0f_row1_col0, #T_a9f0f_row1_col1, #T_a9f0f_row1_col2, #T_a9f0f_row1_col3, #T_a9f0f_row1_col4, #T_a9f0f_row1_col5, #T_a9f0f_row1_col6 {\n",
       "  text-align: left;\n",
       "  border: 1px #231f20 solid !important;\n",
       "  overwrite: False;\n",
       "}\n",
       "#T_a9f0f_row0_col7, #T_a9f0f_row1_col7 {\n",
       "  text-align: left;\n",
       "  border: 1px #231f20 solid !important;\n",
       "  overwrite: False;\n",
       "  background-color: #c3ffc4;\n",
       "}\n",
       "#T_a9f0f_row0_col8, #T_a9f0f_row1_col8 {\n",
       "  text-align: left;\n",
       "  border: 1px #231f20 solid !important;\n",
       "  overwrite: False;\n",
       "  background-color: ;\n",
       "}\n",
       "</style>\n",
       "<table id=\"T_a9f0f\">\n",
       "  <caption>Networks</caption>\n",
       "  <thead>\n",
       "    <tr>\n",
       "      <th id=\"T_a9f0f_level0_col0\" class=\"col_heading level0 col0\" >ID</th>\n",
       "      <th id=\"T_a9f0f_level0_col1\" class=\"col_heading level0 col1\" >Name</th>\n",
       "      <th id=\"T_a9f0f_level0_col2\" class=\"col_heading level0 col2\" >Layer</th>\n",
       "      <th id=\"T_a9f0f_level0_col3\" class=\"col_heading level0 col3\" >Type</th>\n",
       "      <th id=\"T_a9f0f_level0_col4\" class=\"col_heading level0 col4\" >Site</th>\n",
       "      <th id=\"T_a9f0f_level0_col5\" class=\"col_heading level0 col5\" >Subnet</th>\n",
       "      <th id=\"T_a9f0f_level0_col6\" class=\"col_heading level0 col6\" >Gateway</th>\n",
       "      <th id=\"T_a9f0f_level0_col7\" class=\"col_heading level0 col7\" >State</th>\n",
       "      <th id=\"T_a9f0f_level0_col8\" class=\"col_heading level0 col8\" >Error</th>\n",
       "    </tr>\n",
       "  </thead>\n",
       "  <tbody>\n",
       "    <tr>\n",
       "      <td id=\"T_a9f0f_row0_col0\" class=\"data row0 col0\" >0cb5dd83-eff8-49f7-988b-3a76af3951c0</td>\n",
       "      <td id=\"T_a9f0f_row0_col1\" class=\"data row0 col1\" >net1</td>\n",
       "      <td id=\"T_a9f0f_row0_col2\" class=\"data row0 col2\" >L2</td>\n",
       "      <td id=\"T_a9f0f_row0_col3\" class=\"data row0 col3\" >L2STS</td>\n",
       "      <td id=\"T_a9f0f_row0_col4\" class=\"data row0 col4\" >None</td>\n",
       "      <td id=\"T_a9f0f_row0_col5\" class=\"data row0 col5\" >None</td>\n",
       "      <td id=\"T_a9f0f_row0_col6\" class=\"data row0 col6\" >None</td>\n",
       "      <td id=\"T_a9f0f_row0_col7\" class=\"data row0 col7\" >Active</td>\n",
       "      <td id=\"T_a9f0f_row0_col8\" class=\"data row0 col8\" ></td>\n",
       "    </tr>\n",
       "    <tr>\n",
       "      <td id=\"T_a9f0f_row1_col0\" class=\"data row1 col0\" >92e66b83-52bf-4071-be9a-f1948eb88c8b</td>\n",
       "      <td id=\"T_a9f0f_row1_col1\" class=\"data row1 col1\" >net2</td>\n",
       "      <td id=\"T_a9f0f_row1_col2\" class=\"data row1 col2\" >L2</td>\n",
       "      <td id=\"T_a9f0f_row1_col3\" class=\"data row1 col3\" >L2STS</td>\n",
       "      <td id=\"T_a9f0f_row1_col4\" class=\"data row1 col4\" >None</td>\n",
       "      <td id=\"T_a9f0f_row1_col5\" class=\"data row1 col5\" >None</td>\n",
       "      <td id=\"T_a9f0f_row1_col6\" class=\"data row1 col6\" >None</td>\n",
       "      <td id=\"T_a9f0f_row1_col7\" class=\"data row1 col7\" >Active</td>\n",
       "      <td id=\"T_a9f0f_row1_col8\" class=\"data row1 col8\" ></td>\n",
       "    </tr>\n",
       "  </tbody>\n",
       "</table>\n"
      ],
      "text/plain": [
       "<pandas.io.formats.style.Styler at 0x7efd34228fd0>"
      ]
     },
     "metadata": {},
     "output_type": "display_data"
    },
    {
     "data": {
      "text/html": [
       "<style type=\"text/css\">\n",
       "#T_8ab88 caption {\n",
       "  text-align: center;\n",
       "  font-size: 150%;\n",
       "  caption-side: top;\n",
       "}\n",
       "#T_8ab88 th {\n",
       "  text-align: left;\n",
       "}\n",
       "#T_8ab88 tr:nth-child(even) {\n",
       "  background: #ffffff;\n",
       "  color: #231f20;\n",
       "}\n",
       "#T_8ab88 tr:nth-child(odd) {\n",
       "  background: #dbf3ff;\n",
       "  color: #231f20;\n",
       "}\n",
       "#T_8ab88 .level0 {\n",
       "  border: 1px black solid !important;\n",
       "  background: #ffffff;\n",
       "  color: #231f20;\n",
       "}\n",
       "#T_8ab88_row0_col0, #T_8ab88_row0_col1, #T_8ab88_row0_col2, #T_8ab88_row0_col3, #T_8ab88_row0_col4, #T_8ab88_row0_col5, #T_8ab88_row0_col6, #T_8ab88_row0_col7, #T_8ab88_row0_col8, #T_8ab88_row0_col9, #T_8ab88_row0_col10, #T_8ab88_row0_col11, #T_8ab88_row1_col0, #T_8ab88_row1_col1, #T_8ab88_row1_col2, #T_8ab88_row1_col3, #T_8ab88_row1_col4, #T_8ab88_row1_col5, #T_8ab88_row1_col6, #T_8ab88_row1_col7, #T_8ab88_row1_col8, #T_8ab88_row1_col9, #T_8ab88_row1_col10, #T_8ab88_row1_col11, #T_8ab88_row2_col0, #T_8ab88_row2_col1, #T_8ab88_row2_col2, #T_8ab88_row2_col3, #T_8ab88_row2_col4, #T_8ab88_row2_col5, #T_8ab88_row2_col6, #T_8ab88_row2_col7, #T_8ab88_row2_col8, #T_8ab88_row2_col9, #T_8ab88_row2_col10, #T_8ab88_row2_col11, #T_8ab88_row3_col0, #T_8ab88_row3_col1, #T_8ab88_row3_col2, #T_8ab88_row3_col3, #T_8ab88_row3_col4, #T_8ab88_row3_col5, #T_8ab88_row3_col6, #T_8ab88_row3_col7, #T_8ab88_row3_col8, #T_8ab88_row3_col9, #T_8ab88_row3_col10, #T_8ab88_row3_col11 {\n",
       "  text-align: left;\n",
       "  border: 1px #231f20 solid !important;\n",
       "  overwrite: False;\n",
       "}\n",
       "</style>\n",
       "<table id=\"T_8ab88\">\n",
       "  <caption>Interfaces</caption>\n",
       "  <thead>\n",
       "    <tr>\n",
       "      <th id=\"T_8ab88_level0_col0\" class=\"col_heading level0 col0\" >Name</th>\n",
       "      <th id=\"T_8ab88_level0_col1\" class=\"col_heading level0 col1\" >Short Name</th>\n",
       "      <th id=\"T_8ab88_level0_col2\" class=\"col_heading level0 col2\" >Node</th>\n",
       "      <th id=\"T_8ab88_level0_col3\" class=\"col_heading level0 col3\" >Network</th>\n",
       "      <th id=\"T_8ab88_level0_col4\" class=\"col_heading level0 col4\" >Bandwidth</th>\n",
       "      <th id=\"T_8ab88_level0_col5\" class=\"col_heading level0 col5\" >Mode</th>\n",
       "      <th id=\"T_8ab88_level0_col6\" class=\"col_heading level0 col6\" >VLAN</th>\n",
       "      <th id=\"T_8ab88_level0_col7\" class=\"col_heading level0 col7\" >MAC</th>\n",
       "      <th id=\"T_8ab88_level0_col8\" class=\"col_heading level0 col8\" >Physical Device</th>\n",
       "      <th id=\"T_8ab88_level0_col9\" class=\"col_heading level0 col9\" >Device</th>\n",
       "      <th id=\"T_8ab88_level0_col10\" class=\"col_heading level0 col10\" >IP Address</th>\n",
       "      <th id=\"T_8ab88_level0_col11\" class=\"col_heading level0 col11\" >Numa Node</th>\n",
       "    </tr>\n",
       "  </thead>\n",
       "  <tbody>\n",
       "    <tr>\n",
       "      <td id=\"T_8ab88_row0_col0\" class=\"data row0 col0\" >server1-None-p1</td>\n",
       "      <td id=\"T_8ab88_row0_col1\" class=\"data row0 col1\" >p1</td>\n",
       "      <td id=\"T_8ab88_row0_col2\" class=\"data row0 col2\" >server1</td>\n",
       "      <td id=\"T_8ab88_row0_col3\" class=\"data row0 col3\" >net1</td>\n",
       "      <td id=\"T_8ab88_row0_col4\" class=\"data row0 col4\" >100</td>\n",
       "      <td id=\"T_8ab88_row0_col5\" class=\"data row0 col5\" >config</td>\n",
       "      <td id=\"T_8ab88_row0_col6\" class=\"data row0 col6\" ></td>\n",
       "      <td id=\"T_8ab88_row0_col7\" class=\"data row0 col7\" >1E:C2:9A:90:9D:8D</td>\n",
       "      <td id=\"T_8ab88_row0_col8\" class=\"data row0 col8\" >enp6s0</td>\n",
       "      <td id=\"T_8ab88_row0_col9\" class=\"data row0 col9\" >enp6s0</td>\n",
       "      <td id=\"T_8ab88_row0_col10\" class=\"data row0 col10\" >None</td>\n",
       "      <td id=\"T_8ab88_row0_col11\" class=\"data row0 col11\" >6</td>\n",
       "    </tr>\n",
       "    <tr>\n",
       "      <td id=\"T_8ab88_row1_col0\" class=\"data row1 col0\" >server2-None-p1</td>\n",
       "      <td id=\"T_8ab88_row1_col1\" class=\"data row1 col1\" >p1</td>\n",
       "      <td id=\"T_8ab88_row1_col2\" class=\"data row1 col2\" >server2</td>\n",
       "      <td id=\"T_8ab88_row1_col3\" class=\"data row1 col3\" >net2</td>\n",
       "      <td id=\"T_8ab88_row1_col4\" class=\"data row1 col4\" >100</td>\n",
       "      <td id=\"T_8ab88_row1_col5\" class=\"data row1 col5\" >config</td>\n",
       "      <td id=\"T_8ab88_row1_col6\" class=\"data row1 col6\" ></td>\n",
       "      <td id=\"T_8ab88_row1_col7\" class=\"data row1 col7\" >02:C4:1C:CB:C3:24</td>\n",
       "      <td id=\"T_8ab88_row1_col8\" class=\"data row1 col8\" >enp7s0</td>\n",
       "      <td id=\"T_8ab88_row1_col9\" class=\"data row1 col9\" >enp7s0</td>\n",
       "      <td id=\"T_8ab88_row1_col10\" class=\"data row1 col10\" >None</td>\n",
       "      <td id=\"T_8ab88_row1_col11\" class=\"data row1 col11\" >4</td>\n",
       "    </tr>\n",
       "    <tr>\n",
       "      <td id=\"T_8ab88_row2_col0\" class=\"data row2 col0\" >switch-net1_nic-p1</td>\n",
       "      <td id=\"T_8ab88_row2_col1\" class=\"data row2 col1\" >p1</td>\n",
       "      <td id=\"T_8ab88_row2_col2\" class=\"data row2 col2\" >switch</td>\n",
       "      <td id=\"T_8ab88_row2_col3\" class=\"data row2 col3\" >net1</td>\n",
       "      <td id=\"T_8ab88_row2_col4\" class=\"data row2 col4\" >100</td>\n",
       "      <td id=\"T_8ab88_row2_col5\" class=\"data row2 col5\" >config</td>\n",
       "      <td id=\"T_8ab88_row2_col6\" class=\"data row2 col6\" ></td>\n",
       "      <td id=\"T_8ab88_row2_col7\" class=\"data row2 col7\" >06:D3:3E:48:FE:3B</td>\n",
       "      <td id=\"T_8ab88_row2_col8\" class=\"data row2 col8\" >enp8s0</td>\n",
       "      <td id=\"T_8ab88_row2_col9\" class=\"data row2 col9\" >enp8s0</td>\n",
       "      <td id=\"T_8ab88_row2_col10\" class=\"data row2 col10\" >None</td>\n",
       "      <td id=\"T_8ab88_row2_col11\" class=\"data row2 col11\" >6</td>\n",
       "    </tr>\n",
       "    <tr>\n",
       "      <td id=\"T_8ab88_row3_col0\" class=\"data row3 col0\" >switch-net2_nic-p1</td>\n",
       "      <td id=\"T_8ab88_row3_col1\" class=\"data row3 col1\" >p1</td>\n",
       "      <td id=\"T_8ab88_row3_col2\" class=\"data row3 col2\" >switch</td>\n",
       "      <td id=\"T_8ab88_row3_col3\" class=\"data row3 col3\" >net2</td>\n",
       "      <td id=\"T_8ab88_row3_col4\" class=\"data row3 col4\" >100</td>\n",
       "      <td id=\"T_8ab88_row3_col5\" class=\"data row3 col5\" >config</td>\n",
       "      <td id=\"T_8ab88_row3_col6\" class=\"data row3 col6\" ></td>\n",
       "      <td id=\"T_8ab88_row3_col7\" class=\"data row3 col7\" >02:5C:96:36:FB:07</td>\n",
       "      <td id=\"T_8ab88_row3_col8\" class=\"data row3 col8\" >enp7s0</td>\n",
       "      <td id=\"T_8ab88_row3_col9\" class=\"data row3 col9\" >enp7s0</td>\n",
       "      <td id=\"T_8ab88_row3_col10\" class=\"data row3 col10\" >None</td>\n",
       "      <td id=\"T_8ab88_row3_col11\" class=\"data row3 col11\" >6</td>\n",
       "    </tr>\n",
       "  </tbody>\n",
       "</table>\n"
      ],
      "text/plain": [
       "<pandas.io.formats.style.Styler at 0x7efd3514b790>"
      ]
     },
     "metadata": {},
     "output_type": "display_data"
    },
    {
     "name": "stdout",
     "output_type": "stream",
     "text": [
      "\n",
      "Time to print interfaces 310 seconds\n"
     ]
    },
    {
     "data": {
      "text/plain": [
       "'dbf3dbfe-63f0-478c-8aba-b17bcf6ed01d'"
      ]
     },
     "execution_count": 19,
     "metadata": {},
     "output_type": "execute_result"
    }
   ],
   "source": [
    "#Submit Slice Request\n",
    "slice.submit()"
   ]
  },
  {
   "cell_type": "markdown",
   "id": "865e6b9c-3e59-4eac-81f5-1674eebe3e24",
   "metadata": {},
   "source": [
    "# Step 4: Installing the required packages\n",
    "In this step, we will install the required packages to run the labs. Specifically, we will install the BMv2 software switch and its control plane, the P4 compiler (p4c), and net-tools. "
   ]
  },
  {
   "cell_type": "markdown",
   "id": "db92961c-369f-4e13-8921-b6ff6c974ad3",
   "metadata": {},
   "source": [
    "## Step 4.1 Installing BMv2\n",
    "The BMv2 software switch will be installed on the switch node. We will upload the script [scripts/install_bmv2.sh](./scripts/install_bmv2.sh) to the switch and execute it"
   ]
  },
  {
   "cell_type": "code",
   "execution_count": 20,
   "id": "3ba26943-2f8e-4c9f-8944-8ba7b3efdf85",
   "metadata": {},
   "outputs": [],
   "source": [
    "switch = slice.get_node(name=\"switch\")     \n",
    "switch.upload_file('scripts/install_bmv2.sh', 'install_bmv2.sh')\n",
    "stdout, stderr = switch.execute(f'chmod +x install_bmv2.sh &&  ./install_bmv2.sh',quiet=True)"
   ]
  },
  {
   "cell_type": "markdown",
   "id": "e2c7ebaa-aa9e-43a8-9292-593a85dd6dc3",
   "metadata": {
    "tags": []
   },
   "source": [
    "## Step 4.2 Installing net-tools\n",
    "The net-tools package will be installed on the switch, server1 and server2 nodes. This package will allow us to use the ifconfig and the arp commands "
   ]
  },
  {
   "cell_type": "code",
   "execution_count": 21,
   "id": "23cacc52-8185-40f1-8eaf-b391ce1b720e",
   "metadata": {},
   "outputs": [],
   "source": [
    "server1 = slice.get_node(name=\"server1\")\n",
    "server2 = slice.get_node(name=\"server2\")\n",
    "stdout, stderr = server1.execute(f'sudo apt-get install -y net-tools', quiet=True)\n",
    "stdout, stderr = server2.execute(f'sudo apt-get install -y net-tools', quiet=True)\n",
    "stdout, stderr = switch.execute(f'sudo apt-get install -y net-tools', quiet=True)"
   ]
  },
  {
   "cell_type": "markdown",
   "id": "1c97b66b-0723-4bdd-9677-c02b430b5d44",
   "metadata": {},
   "source": [
    "## Step 4.3 Installing scapy\n",
    "Installing scapy to be able to craft and send raw packets on the servers\n"
   ]
  },
  {
   "cell_type": "code",
   "execution_count": 22,
   "id": "e0e47072-8f02-4285-8ea3-bf6fa5977d77",
   "metadata": {},
   "outputs": [],
   "source": [
    "stdout, stderr = server1.execute(f'sudo apt-get update && sudo apt-get install -y python3-scapy', quiet=True)\n",
    "stdout, stderr = server2.execute(f'sudo apt-get update && sudo apt-get install -y python3-scapy', quiet=True)"
   ]
  },
  {
   "cell_type": "markdown",
   "id": "8edae1d9-dc1b-4a34-a1f7-f2533d11c908",
   "metadata": {},
   "source": [
    "# Step 5: Assigning IP and MAC addresses\n",
    "In this step, we will assign IPv4 addresses to the interfaces of the servers and the switch. We will also hardcode the MAC addresses. "
   ]
  },
  {
   "cell_type": "markdown",
   "id": "956741f7-de30-4bdd-afd2-e4598b6cc808",
   "metadata": {},
   "source": [
    "## Step 5.1: Get interfaces names\n",
    "In this step we will get the interface names so that we can assign IP addresses to them. Map the printed interface names to those seen in this figure:\n",
    "\n",
    "<img src=\"./labs_files/lab1/figs/interfaces.PNG\" width=\"550px\"><br>"
   ]
  },
  {
   "cell_type": "code",
   "execution_count": 46,
   "id": "367b34bb-baef-4d39-9041-ed346b34d990",
   "metadata": {},
   "outputs": [
    {
     "name": "stdout",
     "output_type": "stream",
     "text": [
      "server1_iface: enp6s0\n",
      "server2_iface: enp7s0\n",
      "switch_iface1: enp8s0\n",
      "switch_iface2: enp7s0\n"
     ]
    }
   ],
   "source": [
    "node1_iface = server1.get_interface(network_name='net1') \n",
    "server1_iface_name = node1_iface.get_device_name()\n",
    "print(f'server1_iface: {server1_iface_name}')\n",
    "\n",
    "node2_iface = server2.get_interface(network_name='net2') \n",
    "server2_iface_name = node2_iface.get_device_name()\n",
    "print(f'server2_iface: {server2_iface_name}')\n",
    "\n",
    "switch_iface1 = switch.get_interface(network_name='net1') \n",
    "switch_iface1_name = switch_iface1.get_device_name()\n",
    "print(f'switch_iface1: {switch_iface1_name}')\n",
    "\n",
    "switch_iface2 = switch.get_interface(network_name='net2') \n",
    "switch_iface2_name = switch_iface2.get_device_name()\n",
    "print(f'switch_iface2: {switch_iface2_name}')"
   ]
  },
  {
   "cell_type": "markdown",
   "id": "42f0264f-7b70-4533-838e-a5671858da5f",
   "metadata": {
    "tags": []
   },
   "source": [
    "## Step 5.2: Turning all interfaces up\n",
    "In this step, we will use the ip link command to turn the interfaces up\n",
    "\n",
    "<img src=\"./labs_files/lab1/figs/interfaces_up.PNG\" width=\"550px\"><br>"
   ]
  },
  {
   "cell_type": "code",
   "execution_count": 47,
   "id": "21a2c265-a7ca-4a06-a8f0-b8023afaf779",
   "metadata": {
    "tags": []
   },
   "outputs": [],
   "source": [
    "stdout, stderr = server1.execute(f'sudo ip link set dev {server1_iface_name} up', quiet=True)\n",
    "stdout, stderr = server2.execute(f'sudo ip link set dev {server2_iface_name} up', quiet=True)\n",
    "stdout, stderr = switch.execute(f'sudo ip link set dev {switch_iface1_name} up', quiet=True)\n",
    "stdout, stderr = switch.execute(f'sudo ip link set dev {switch_iface2_name} up', quiet=True)"
   ]
  },
  {
   "cell_type": "markdown",
   "id": "5275dd72-a36b-4fc9-9c67-5948d465a332",
   "metadata": {
    "tags": []
   },
   "source": [
    "## Step 5.3: Hardcode MAC addresses\n",
    "For simplicity, we will use the following MAC addresses for the interfaces:\n",
    "<ul>\n",
    "    <li> server1_iface_MAC = '00:00:00:00:00:01' (shown as 00:01 in the figure below) </li>\n",
    "    <li>switch_iface1_MAC = '00:00:00:00:00:02' (shown as 00:02 in the figure below)</li>\n",
    "    <li>switch_iface2_MAC = '00:00:00:00:00:03' (shown as 00:03 in the figure below)</li>\n",
    "    <li>server2_iface_MAC = '00:00:00:00:00:04' (shown as 00:04 in the figure below)</li>\n",
    "</ul>\n",
    "\n",
    "<img src=\"./labs_files/lab1/figs/mac_addresses.PNG\" width=\"550px\"><br>"
   ]
  },
  {
   "cell_type": "code",
   "execution_count": 48,
   "id": "7d7f7870-b447-4fb9-adb9-c97fb8d8dc23",
   "metadata": {
    "tags": []
   },
   "outputs": [],
   "source": [
    "server1_iface_MAC = '00:00:00:00:00:01'\n",
    "switch_iface1_MAC = '00:00:00:00:00:02'\n",
    "switch_iface2_MAC = '00:00:00:00:00:03'\n",
    "server2_iface_MAC = '00:00:00:00:00:04'"
   ]
  },
  {
   "cell_type": "markdown",
   "id": "79d5bc5b-91f1-4097-a2b3-71c47259599e",
   "metadata": {},
   "source": [
    "## Step 5.4 Configuring the IP and MAC addresses on server1_iface and switch_iface1\n",
    "\n",
    "We will use the network 192.168.1.0/24 between Site1 and Site2. We will assign the IP address 192.168.1.10 to server1's interface and 192.168.1.1 to its neighboring interface on the switch.\n",
    "\n",
    "<img src=\"./labs_files/lab1/figs/IPs_1.PNG\" width=\"550px\"><br>"
   ]
  },
  {
   "cell_type": "code",
   "execution_count": 49,
   "id": "30979a1c-36b7-4a9b-9eb5-0d8964db1ce2",
   "metadata": {
    "tags": []
   },
   "outputs": [],
   "source": [
    "server1 = slice.get_node(name=\"server1\")     \n",
    "\n",
    "server1_switch_subnet = \"192.168.1.0/24\"\n",
    "server1_ip = '192.168.1.10/24'\n",
    "switch_ip1 = '192.168.1.1/24'\n",
    "\n",
    "stdout, stderr = server1.execute(f'sudo ifconfig {server1_iface_name} {server1_ip}')\n",
    "stdout, stderr = switch.execute(f'sudo ifconfig {switch_iface1_name} {switch_ip1}')\n",
    "\n",
    "stdout, stderr = server1.execute(f'sudo ifconfig {server1_iface_name} hw ether {server1_iface_MAC}')\n",
    "stdout, stderr = switch.execute(f'sudo ifconfig {switch_iface1_name} hw ether {switch_iface1_MAC}')"
   ]
  },
  {
   "cell_type": "markdown",
   "id": "371a4689-324a-4a1d-9473-096682eb63f7",
   "metadata": {},
   "source": [
    "## Step 5.5: Configuring the IP and MAC addresses on switch_iface2 and server2_iface\n",
    "\n",
    "We will use the network 192.168.2.0/24 between Site2 and Site3. We will assign the IP address 192.168.2.10 to server2's interface and 192.168.2.1 to its neighboring interface on the switch.\n",
    "\n",
    "<img src=\"./labs_files/lab1/figs/IPs_2.PNG\" width=\"550px\"><br>"
   ]
  },
  {
   "cell_type": "code",
   "execution_count": 50,
   "id": "bac1c500-6f71-4aa9-b8fa-99d608a0bff6",
   "metadata": {
    "tags": []
   },
   "outputs": [],
   "source": [
    "server2 = slice.get_node(name=\"server2\")     \n",
    "\n",
    "server2_switch_subnet = \"192.168.2.0/24\"\n",
    "server2_ip = '192.168.2.10/24'\n",
    "switch_ip2 = '192.168.2.1/24'\n",
    "\n",
    "stdout, stderr = server2.execute(f'sudo ifconfig {server2_iface_name} {server2_ip}')\n",
    "stdout, stderr = switch.execute(f'sudo ifconfig {switch_iface2_name} {switch_ip2}')\n",
    "\n",
    "stdout, stderr = server2.execute(f'sudo ifconfig {server2_iface_name} hw ether {server2_iface_MAC}')\n",
    "stdout, stderr = switch.execute(f'sudo ifconfig {switch_iface2_name} hw ether {switch_iface2_MAC}')"
   ]
  },
  {
   "cell_type": "markdown",
   "id": "ed199b6d-f341-4f24-9c0b-a64631ece324",
   "metadata": {},
   "source": [
    "# Step 6: Configure forwarding and routing"
   ]
  },
  {
   "cell_type": "markdown",
   "id": "c90a6594-ea6e-4d87-9925-3baf5571096c",
   "metadata": {},
   "source": [
    "## Step 6.1: Enable forwarding on the switch\n",
    "\n",
    "The command \"sudo sysctl -w net.ipv4.ip_forward=1\" is used to enable IP forwarding on a Linux system.\n",
    "\n",
    "IP forwarding is a feature that allows a system to act as a router by forwarding network packets from one network interface to another. By default, IP forwarding is usually disabled on Linux systems for security reasons. \n",
    "\n",
    "The command will be executed on the switch device."
   ]
  },
  {
   "cell_type": "code",
   "execution_count": 51,
   "id": "0b0b5f62-4ac8-486b-b0a6-e8e468161a31",
   "metadata": {},
   "outputs": [],
   "source": [
    "command = 'sudo sysctl -w net.ipv4.ip_forward=1' \n",
    "stdout, stderr = switch.execute(command, quiet=True)"
   ]
  },
  {
   "cell_type": "markdown",
   "id": "6a4e3170-f17f-495e-bd2c-1361bc1d2317",
   "metadata": {},
   "source": [
    "## Step 6.2: Delete routing entries for the routes to force traffic to go through the BMv2 switch\n",
    "\n",
    "In this step, we are deleting the routes on the switch's routing table in Linux. By deleting the routes, the packets will go through the BMv2 switch instead of being forwarded by the kernel"
   ]
  },
  {
   "cell_type": "code",
   "execution_count": 54,
   "id": "d32e28ee-d890-4ee0-bf1c-d6b6eedfb9c0",
   "metadata": {},
   "outputs": [],
   "source": [
    "stdout, stderr = switch.execute(f'sudo ip route del {server1_switch_subnet}', quiet=True)\n",
    "stdout, stderr = switch.execute(f'sudo ip route del {server2_switch_subnet}', quiet=True)"
   ]
  },
  {
   "cell_type": "markdown",
   "id": "c2dc3837-d493-48c0-92b8-244296e166ee",
   "metadata": {},
   "source": [
    "## Step 6.3: Configure routing\n",
    "\n",
    "In this step, we will configure static routes on server1 and server2. \n",
    "<ul>\n",
    "    <li> For server1, we will add a route to reach the network 192.168.2.0/24 via 192.168.1.1 </li>\n",
    "    <li> For server2, we will add a route to reach the network 192.168.1.0/24 via 192.168.2.1 </li>\n",
    "</ul>\n",
    "\n",
    "<img src=\"./labs_files/lab1/figs/routing.PNG\" width=\"550px\"><br>"
   ]
  },
  {
   "cell_type": "code",
   "execution_count": 55,
   "id": "69cdfdf5-011e-45c5-bab1-da388e4427a0",
   "metadata": {},
   "outputs": [
    {
     "name": "stdout",
     "output_type": "stream",
     "text": [
      "\u001b[31m RTNETLINK answers: File exists\n",
      " \u001b[0m\u001b[31m RTNETLINK answers: File exists\n",
      " \u001b[0m"
     ]
    }
   ],
   "source": [
    "gw1 = switch_ip1.split('/')[0]\n",
    "gw2 = switch_ip2.split('/')[0]\n",
    "stdout, stderr = server1.execute(f'sudo ip route add {server2_switch_subnet} via {gw1}')\n",
    "stdout, stderr = server2.execute(f'sudo ip route add {server1_switch_subnet} via {gw2}')"
   ]
  },
  {
   "cell_type": "markdown",
   "id": "15edef9d-f7a5-4994-9d97-1a4b036a97be",
   "metadata": {
    "tags": []
   },
   "source": [
    "## Step 6.4: Configure ARP\n",
    "\n",
    "In this step, we will configure static ARP entries on server1 and server2. The reason we are doing this is because the switch does not process ARP packets unless programmed to. To make sure that ARP packets are not sent towards the switch, we will hardcode the MACs on the servers.\n",
    "\n",
    "For each server, we will add an ARP entry to its switch's neighboring interface."
   ]
  },
  {
   "cell_type": "code",
   "execution_count": 56,
   "id": "7bbf2b87-f92b-47c6-a6a7-4bae0a0a52a6",
   "metadata": {},
   "outputs": [],
   "source": [
    "stdout, stderr = server1.execute(f'sudo arp -s {gw1} {switch_iface1_MAC}')\n",
    "stdout, stderr = server2.execute(f'sudo arp -s {gw2} {switch_iface2_MAC}')"
   ]
  },
  {
   "cell_type": "markdown",
   "id": "02919ce9-ab5f-4f75-a0e0-08335a8d3b93",
   "metadata": {},
   "source": [
    "# Step 7: Describing the headers\n",
    "   \n",
    "This section demonstrates how to define custom headers in a P4 program. It also shows how to use constants and typedefs to make the program more readable.\n"
   ]
  },
  {
   "cell_type": "markdown",
   "id": "2b571c06-bfd5-464a-acf4-d28845c8e840",
   "metadata": {
    "jp-MarkdownHeadingCollapsed": true,
    "tags": []
   },
   "source": [
    "# Step 7.1: Listing header’s definitions into the headers.p4 file\n",
    "\n",
    "Click on [headers.p4](./labs_files/lab3/src/headers.p4) to open the file in the editor.\n",
    "\n",
    "<img src=\"./labs_files/lab3/figs/headers_prog.PNG\" width=\"550px\"><br>\n",
    "\n",
    "We can see that the headers.p4 is empty and we have to fill it.\n",
    "\n",
    "<hr>\n",
    "\n",
    "We will start by defining some typedefs and constants. Write the following in the headers.p4 file\n",
    "\n",
    "    typedef bit<48> macAddr_t;\n",
    "    typedef bit<32> ip4Addr_t;\n",
    "    const bit<16> TYPE_IPV4 = 0x800;\n",
    "\n",
    "<img src=\"./labs_files/lab3/figs/headersp4.png\" width=\"550px\"><br>\n",
    "\n",
    "In the figure above the typedef declarations used (lines 2 - 3) are used to assign alternative names to types. Here we are saying that macAddr_t can be used instead of bit<48>, and ip4Addr_t instead of bit<32>. We will use those typedefs when defining the headers. Line 4 shows how to define a constant with the name TYPE_IPV4 and a value of 0x800. We will use this value in the parser implementation. \n",
    "\n",
    "<hr>\n",
    "\n",
    "Now we will define the Ethernet header. Add the following code to the headers.p4 file\n",
    "\n",
    "    header ethernet_t {\n",
    "        macAddr_t dstAddr;\n",
    "        macAddr_t srcAddr;\n",
    "        bit<16> etherType;\n",
    "    }\n",
    "\n",
    "<img src=\"./labs_files/lab3/figs/headersethernet.png\" width=\"550px\"><br>\n",
    "\n",
    "Note how we used the typedef macAddr_t which corresponds to bit<48> when defining the destination MAC address field (dstAddr) and the source MAC address field (srcAddr). \n",
    "\n",
    "<hr>\n",
    "\n",
    "Now we will define the IPv4 header. Add the following to the headers.p4 file\n",
    "\n",
    "<img src=\"./labs_files/lab3/figs/headersipv4.png\" width=\"550px\"><br>\n",
    "\n",
    "Consider the figure above. Note how we used the typedef ip4Addr_t which corresponds to bit<32> when defining the source IP address field (srcAddr) and the destination IP address field (dstAddr). Also, note how we are mapping the fields to those defined in the standard IPv4 header.\n",
    "\n",
    "<hr>\n",
    "\n",
    "Now we will create a struct to represent our metadata. Metadata are passed from one block to another as the packet propagates through the architecture. For simplicity, this program does not require any user metadata, and hence we will define it as empty with no fields. Add the following to the headers.p4 file:\n",
    "\n",
    "    struct metadata {\n",
    "    /* empty */\n",
    "    }\n",
    "\n",
    "<img src=\"./labs_files/lab3/figs/headersmetadata.png\" width=\"550px\"><br>\n",
    "\n",
    "<hr>\n",
    "\n",
    "Now we will create a struct to contain our headers (Ethernet and IPv4). Append the following code to the headers.p4 file\n",
    "\n",
    "    struct headers {\n",
    "        ethernet_t   ethernet;\n",
    "        ipv4_t       ipv4;\n",
    "    }\n",
    "\n",
    "<img src=\"./labs_files/lab3/figs/headerscombined.png\" width=\"550px\"><br>\n",
    "\n",
    "<hr>\n",
    "\n",
    "**Save the changes by pressing Ctrl+s**."
   ]
  },
  {
   "cell_type": "markdown",
   "id": "2490bcce-4327-4762-ab59-4975138bc50c",
   "metadata": {
    "jp-MarkdownHeadingCollapsed": true,
    "tags": []
   },
   "source": [
    "# Step 8: Parser Implementation\n",
    "\n",
    "Now it is time to define how the parser works. \n",
    "\n",
    "Click on [parser.p4](./labs_files/lab3/src/parser.p4) to open the file in the editor.\n",
    "  \n",
    "<img src=\"./labs_files/lab3/figs/parserempty.png\" width=\"550px\"><br>\n",
    "\n",
    "We can see that the headers.p4 file that we just filled is included here in the parser. The file also includes a starter code which declares a parser named MyParser. Note how the headers and the metadata structs that we defined previously are passed as parameters to the parser. \n",
    "\n",
    "<hr>\n",
    "\n",
    "Add the start state inside the parser by inserting the following code:\n",
    "\n",
    "    state start {\n",
    "         transition parse_ethernet;\n",
    "    }\n",
    "\n",
    "<img src=\"./labs_files/lab3/figs/parserstart.png\" width=\"550px\"><br>\n",
    "\n",
    "The start state is the state where the parser begins parsing the packet. Here we are transitioning unconditionally to the parse_ethernet state.\n",
    "\n",
    "<hr>\n",
    "\n",
    "Add the parse_ethernet state inside the parser by inserting the following code:\n",
    "\n",
    "  state parse_ethernet {\n",
    "       packet.extract(hdr.ethernet);\n",
    "       transition select(hdr.ethernet.etherType) {\n",
    "          TYPE_IPV4: parse_ipv4;\n",
    "          default: accept;\n",
    "       }\n",
    "  }\n",
    "  \n",
    "<img src=\"./labs_files/lab3/figs/parserethernet.png\" width=\"550px\"><br>\n",
    "\n",
    "The parse_ethernet state extracts the Ethernet header and checks for the value of the header field etherType. Note how we reference a header field by specifying the header to which that field belongs (i.e., hdr.ethernet.etherType). If the value of etherType is TYPE_IPV4 (which corresponds to 0x800 as defined previously), the parser transitions to the parse_ipv4 state. Otherwise, the execution of the parser terminates.\n",
    "\n",
    "<hr>\n",
    "\n",
    "Add the parse_ipv4 state inside the parser by inserting the following code.\n",
    "\n",
    "    state parse_ipv4 {\n",
    "        packet.extract(hdr.ipv4);\n",
    "        transition accept;\n",
    "    }\n",
    "<img src=\"./labs_files/lab3/figs/parseripv4.png\" width=\"550px\"><br>\n",
    "\n",
    "The parse_ipv4 state extracts the IPv4 header and terminates the execution of the parser.\n",
    "\n",
    "**Save the changes by pressing Ctrl+s**."
   ]
  },
  {
   "cell_type": "markdown",
   "id": "d6e192e3-0755-4e4b-92fb-5ec5f2ba2b4e",
   "metadata": {
    "tags": []
   },
   "source": [
    "# Step 9: Uploading and running the P4 program on the switch\n",
    "\n",
    "In this step, we upload the P4 program to the switch, compile it, and start the switch daemon. "
   ]
  },
  {
   "cell_type": "markdown",
   "id": "0e9b626c-8ef1-4073-9c7b-2fdce832e3cd",
   "metadata": {
    "tags": []
   },
   "source": [
    "## Step 9.1: Uploading the P4 program\n",
    "\n",
    "The P4 program [basic.p4](labs_files/lab3/src/basic.p4) is located under lab_files/lab3/src.\n",
    "\n",
    "We will be uploading the whole directory since it includes other P4 files. "
   ]
  },
  {
   "cell_type": "code",
   "execution_count": 57,
   "id": "929a0f19-cece-40cf-a474-6bb61d9a81c8",
   "metadata": {
    "tags": []
   },
   "outputs": [
    {
     "data": {
      "text/plain": [
       "'success'"
      ]
     },
     "execution_count": 57,
     "metadata": {},
     "output_type": "execute_result"
    }
   ],
   "source": [
    "switch = slice.get_node(name='switch')        \n",
    "switch.upload_directory('labs_files/lab3/src', '/home/ubuntu/lab3')"
   ]
  },
  {
   "cell_type": "markdown",
   "id": "01cdd329-9f46-43f9-9937-c17f9d5895e7",
   "metadata": {},
   "source": [
    "## Step 9.2: Compiling the P4 program\n",
    "\n",
    "In this step, we will use the p4c compiler to compile the program.\n",
    "\n",
    "Launch a new terminal by clicking on \"File\" -> \"New\" -> \"Terminal\".\n",
    "\n",
    "<img src=\"./labs_files/lab3/figs/terminal.gif\" width=\"600px\"><br>\n",
    "\n",
    "Copy the output of the command below and paste into the terminal to enter to the switch."
   ]
  },
  {
   "cell_type": "code",
   "execution_count": 58,
   "id": "a15e7509-3f1f-4e1e-ac6e-114768ce10a8",
   "metadata": {},
   "outputs": [
    {
     "data": {
      "text/plain": [
       "'ssh -i /home/fabric/work/fabric_config/slice_key -F /home/fabric/work/fabric_config/ssh_config ubuntu@2001:400:a100:3030:f816:3eff:fea9:3707'"
      ]
     },
     "execution_count": 58,
     "metadata": {},
     "output_type": "execute_result"
    }
   ],
   "source": [
    "switch.get_ssh_command()"
   ]
  },
  {
   "cell_type": "markdown",
   "id": "bc2209a4-ba1c-4bfb-8298-9ffb129ac8bf",
   "metadata": {},
   "source": [
    "Run the following commands in the terminal:\n",
    "    \n",
    "    sudo su\n",
    "    p4c lab3/src/basic.p4\n",
    "    simple_switch -i 0@ens8 -i 1@ens7 basic.json --log-console\n",
    "    \n",
    "<img src=\"./labs_files/lab3/figs/daemon.png\" width=\"70%\"><br>"
   ]
  },
  {
   "cell_type": "markdown",
   "id": "c96a9dc5-4412-426a-bf66-6f7b30f54215",
   "metadata": {
    "tags": []
   },
   "source": [
    "## Step 9.3: Populating table from the control plane\n",
    "\n",
    "In this step we will populate the forwarding table by executing a script. We will learn how to populate the tables manually in another lab."
   ]
  },
  {
   "cell_type": "code",
   "execution_count": 59,
   "id": "359e7d84-5089-4611-8c10-e29dbe4c74a6",
   "metadata": {
    "tags": []
   },
   "outputs": [
    {
     "name": "stdout",
     "output_type": "stream",
     "text": [
      "Obtaining JSON from switch...\n",
      "Done\n",
      "Control utility for runtime P4 table manipulation\n",
      "RuntimeCmd: Adding entry to exact match table MyIngress.forwarding\n",
      "match key:           EXACT-00:00\n",
      "action:              MyIngress.forward\n",
      "runtime data:        00:01\n",
      "Entry has been added with handle 0\n",
      "RuntimeCmd: \n",
      "Obtaining JSON from switch...\n",
      "Done\n",
      "Control utility for runtime P4 table manipulation\n",
      "RuntimeCmd: Adding entry to exact match table MyIngress.forwarding\n",
      "match key:           EXACT-00:01\n",
      "action:              MyIngress.forward\n",
      "runtime data:        00:00\n",
      "Entry has been added with handle 1\n",
      "RuntimeCmd: \n"
     ]
    }
   ],
   "source": [
    "switch.upload_file('labs_files/lab3/rules.sh', 'rules.sh')\n",
    "stdout, stderr = switch.execute('chmod +x rules.sh && ./rules.sh')"
   ]
  },
  {
   "cell_type": "markdown",
   "id": "1eac9af2-c54d-4c64-a38e-239b7f1e0cc4",
   "metadata": {},
   "source": [
    "## Step 9.4: Sending a packet from server1 to the switch\n",
    "\n",
    "In this step, we will send a packet from server1 to server2. The packet will be processed in the switch. "
   ]
  },
  {
   "cell_type": "code",
   "execution_count": 61,
   "id": "2cac1cf0-ef99-4df0-9972-d771c45264dd",
   "metadata": {},
   "outputs": [
    {
     "name": "stdout",
     "output_type": "stream",
     "text": [
      "sending on interface enp6s0 to 192.168.2.10\n",
      "###[ Ethernet ]### \n",
      "  dst       = 00:00:00:00:00:02\n",
      "  src       = 00:00:00:00:00:01\n",
      "  type      = IPv4\n",
      "###[ IP ]### \n",
      "     version   = 4\n",
      "     ihl       = 5\n",
      "     tos       = 0x0\n",
      "     len       = 52\n",
      "     id        = 1\n",
      "     flags     = \n",
      "     frag      = 0\n",
      "     ttl       = 64\n",
      "     proto     = tcp\n",
      "     chksum    = 0xf65e\n",
      "     src       = 192.168.1.10\n",
      "     dst       = 192.168.2.10\n",
      "     \\options   \\\n",
      "###[ TCP ]### \n",
      "        sport     = 55558\n",
      "        dport     = 1234\n",
      "        seq       = 0\n",
      "        ack       = 0\n",
      "        dataofs   = 5\n",
      "        reserved  = 0\n",
      "        flags     = S\n",
      "        window    = 8192\n",
      "        chksum    = 0xfe6e\n",
      "        urgptr    = 0\n",
      "        options   = []\n",
      "###[ Raw ]### \n",
      "           load      = '192.168.1.10'\n",
      "\n"
     ]
    }
   ],
   "source": [
    "server1.upload_file('labs_files/lab3/src/send.py', 'send.py')\n",
    "#server1.execute(f'sudo python3 send.py {server1_iface} 192.168.1.10 192.168.2.10 HelloWorld')\n",
    "stdout, stderr = server1.execute(f'sudo python3 send.py enp6s0 192.168.1.10 192.168.2.10 HelloWorld')"
   ]
  },
  {
   "cell_type": "markdown",
   "id": "1cb0a50d-dbeb-441e-8aaa-7fe141833569",
   "metadata": {},
   "source": [
    "## Step 9.5: Inspect the logs on the switch\n",
    "\n",
    "Go back to the switch terminal and inspect the logs.\n",
    "\n",
    "<img src=\"./labs_files/lab3/figs/parserlogipv4.png\" width=\"750px\"><br>\n",
    "\n",
    "The figure above shows that the Ethernet and IPv4 header are extracted."
   ]
  },
  {
   "cell_type": "markdown",
   "id": "51265fc6-6281-4e4f-a38f-9abc7b63802d",
   "metadata": {
    "tags": []
   },
   "source": [
    "# Step 10: Augmenting the P4 program to parse IPv6\n",
    "\n",
    "Now we will augment the program to parse IPv6 packets. \n",
    "\n",
    "Go back to the [headers.p4](./labs_files/lab3/src/headers.p4) file and add the following constant definition:\n",
    "    \n",
    "    const bit<16> TYPE_IPV6 = 0x86dd;\n",
    "\n",
    "<img src=\"./labs_files/lab3/figs/constipv6.png\" width=\"550px\"><br>\n",
    "\n",
    "<hr>\n",
    "\n",
    "Add the IPv6 header definition as shown below:\n",
    "    \n",
    "    header ipv6_t{\n",
    "        bit<4> version;\n",
    "        bit<8> trafficClass;\n",
    "        bit<20> flowLabel;\n",
    "        bit<16> payloadLen;\n",
    "        bit<8> nextHdr;\n",
    "        bit<8> hopLimit;\n",
    "        bit<128> srcAddr;\n",
    "        bit<128> dstAddr;\n",
    "    }\n",
    "    \n",
    "<img src=\"./labs_files/lab3/figs/headeripv6.png\" width=\"550px\"><br>\n",
    "\n",
    "<hr>\n",
    "\n",
    "Append the IPv6 header to the header’s data structure:\n",
    "    \n",
    "    ipv6_t ipv6;\n",
    "\n",
    "<img src=\"./labs_files/lab3/figs/headeripv6struct.png\" width=\"550px\"><br>\n",
    "\n",
    "<hr>\n",
    "\n",
    "Go to the [parser.p4](./labs_files/lab3/src/parser.p4) file and add the following line to the parse_ethernet state.\n",
    "\n",
    "<img src=\"./labs_files/lab3/figs/typeipv6.png\" width=\"550px\"><br>\n",
    "\n",
    "<hr>\n",
    "\n",
    "Add the parse_ipv6 state inside the parser by inserting the following code:\n",
    "    \n",
    "    state parse_ipv6 {\n",
    "        packet.extract(hdr.ipv6);\n",
    "        transition accept;\n",
    "    }\n",
    "\n",
    "<img src=\"./labs_files/lab3/figs/parseripv6.png\" width=\"550px\"><br>\n",
    "\n",
    "**Save the changes by pressing Ctrl+s.**\n"
   ]
  },
  {
   "cell_type": "markdown",
   "id": "799da429-44bc-4190-8dce-4e0cb2665627",
   "metadata": {
    "tags": []
   },
   "source": [
    "## Step 10.1: Uploading the P4 program\n",
    "\n",
    "The P4 program [basic.p4](labs_files/lab3/src/basic.p4) is located under lab_files/lab3/src.\n",
    "\n",
    "We will be uploading the whole directory since it includes other P4 files. "
   ]
  },
  {
   "cell_type": "code",
   "execution_count": 62,
   "id": "da24c574-9e30-4576-ac37-d6f6e6b3d13f",
   "metadata": {
    "tags": []
   },
   "outputs": [
    {
     "data": {
      "text/plain": [
       "'success'"
      ]
     },
     "execution_count": 62,
     "metadata": {},
     "output_type": "execute_result"
    }
   ],
   "source": [
    "switch = slice.get_node(name='switch')        \n",
    "switch.upload_directory('labs_files/lab3/src', '/home/ubuntu/lab3')"
   ]
  },
  {
   "cell_type": "markdown",
   "id": "9981612e-d43a-421b-bdae-2fff7f916e8f",
   "metadata": {},
   "source": [
    "In the switch's terminal, press Ctrl+C to terminate the execution of the previous instance of the switch, then run the following commands:\n",
    "    \n",
    "    p4c lab3/src/basic.p4\n",
    "    simple_switch -i 0@ens8 -i 1@ens7 basic.json --log-console\n",
    "    \n",
    "<img src=\"./labs_files/lab3/figs/daemon2.png\" width=\"750px\"><br>"
   ]
  },
  {
   "cell_type": "markdown",
   "id": "011db56e-d3f4-44b0-b6ef-ab4095f8400a",
   "metadata": {
    "tags": []
   },
   "source": [
    "## Step 10.2: Populating table from the control plane\n",
    "\n",
    "In this step we will populate the forwarding table by executing a script. We will learn how to populate the tables manually in another lab."
   ]
  },
  {
   "cell_type": "code",
   "execution_count": 63,
   "id": "cfbb9cb3-44cd-4ab3-93a1-0286087c0c60",
   "metadata": {
    "tags": []
   },
   "outputs": [
    {
     "name": "stdout",
     "output_type": "stream",
     "text": [
      "Obtaining JSON from switch...\n",
      "Done\n",
      "Control utility for runtime P4 table manipulation\n",
      "RuntimeCmd: Adding entry to exact match table MyIngress.forwarding\n",
      "match key:           EXACT-00:00\n",
      "action:              MyIngress.forward\n",
      "runtime data:        00:01\n",
      "Entry has been added with handle 0\n",
      "RuntimeCmd: \n",
      "Obtaining JSON from switch...\n",
      "Done\n",
      "Control utility for runtime P4 table manipulation\n",
      "RuntimeCmd: Adding entry to exact match table MyIngress.forwarding\n",
      "match key:           EXACT-00:01\n",
      "action:              MyIngress.forward\n",
      "runtime data:        00:00\n",
      "Entry has been added with handle 1\n",
      "RuntimeCmd: \n"
     ]
    }
   ],
   "source": [
    "stdout, stderr = switch.execute('chmod +x rules.sh && ./rules.sh')"
   ]
  },
  {
   "cell_type": "markdown",
   "id": "b85cc7ad-6961-4f33-8491-c1fe0147c4ad",
   "metadata": {},
   "source": [
    "## Step 10.3: Sending an IPv6 packet from the host\n",
    "\n",
    "In this step, we will send an IPv6 packet from server1 to server2. The packet will be processed in the switch. "
   ]
  },
  {
   "cell_type": "code",
   "execution_count": 66,
   "id": "4848e07b-a252-4457-bafa-bcc9592d4d1b",
   "metadata": {},
   "outputs": [
    {
     "name": "stdout",
     "output_type": "stream",
     "text": [
      "sending on interface enp6s0\n",
      "###[ Ethernet ]### \n",
      "  dst       = 00:00:00:00:00:02\n",
      "  src       = 00:00:00:00:00:01\n",
      "  type      = IPv6\n",
      "###[ IPv6 ]### \n",
      "     version   = 6\n",
      "     tc        = 0\n",
      "     fl        = 0\n",
      "     plen      = 0\n",
      "     nh        = No Next Header\n",
      "     hlim      = 64\n",
      "     src       = ::1\n",
      "     dst       = ::1\n",
      "\n"
     ]
    }
   ],
   "source": [
    "server1.upload_file('labs_files/lab3/src/send_ipv6.py', 'send.py')\n",
    "#server1.execute('sudo python3 send.py {server1_iface} 192.168.1.10 192.168.2.10 HelloWorld')\n",
    "stdout, stderr = server1.execute(f'sudo python3 send.py enp6s0 192.168.1.10 192.168.2.10 HelloWorld')"
   ]
  },
  {
   "cell_type": "markdown",
   "id": "1b5243ed-e6d0-4fbe-968b-91e60288427d",
   "metadata": {},
   "source": [
    "## Step 10.4: Inspect the logs on the switch\n",
    "\n",
    "Go back to the switch terminal and inspect the logs.\n",
    "\n",
    "<img src=\"./labs_files/lab3/figs/parserlogipv6.png\" width=\"750px\"><br>\n",
    "\n",
    "The figure above shows that the Ethernet and IPv6 headers are extracted."
   ]
  },
  {
   "cell_type": "markdown",
   "id": "73e0af6d-2a3a-47c5-b685-ddca6cb84eff",
   "metadata": {
    "tags": []
   },
   "source": [
    "## Step 11: Delete the Slice\n",
    "\n",
    "This concludes Lab 3. Please delete your slice when you are done with your experiment."
   ]
  },
  {
   "cell_type": "code",
   "execution_count": 67,
   "id": "476ad724-6584-492b-9f03-e7bbd8f4ae1a",
   "metadata": {
    "tags": []
   },
   "outputs": [],
   "source": [
    "from fabrictestbed_extensions.fablib.fablib import FablibManager as fablib_manager\n",
    "fablib = fablib_manager()\n",
    "slice = fablib.get_slice(name=\"lab3\")\n",
    "slice.delete()"
   ]
  },
  {
   "cell_type": "code",
   "execution_count": null,
   "id": "b8484124-f2a8-4393-860b-590b1063860d",
   "metadata": {},
   "outputs": [],
   "source": []
  }
 ],
 "metadata": {
  "kernelspec": {
   "display_name": "Python 3 (ipykernel)",
   "language": "python",
   "name": "python3"
  },
  "language_info": {
   "codemirror_mode": {
    "name": "ipython",
    "version": 3
   },
   "file_extension": ".py",
   "mimetype": "text/x-python",
   "name": "python",
   "nbconvert_exporter": "python",
   "pygments_lexer": "ipython3",
   "version": "3.10.6"
  }
 },
 "nbformat": 4,
 "nbformat_minor": 5
}
