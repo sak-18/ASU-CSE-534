{
 "cells": [
  {
   "cell_type": "markdown",
   "id": "ab5adb1a-770d-446f-8c45-582248410587",
   "metadata": {},
   "source": [
    "# Match-action Tables\n",
    "\n",
    "This lab describes match-action tables and how to define them in a P4 program. It then explains the different types of matching that can be performed on keys. The lab further shows how to track the misses/hits of a table key while a packet is received on the switch.\n",
    "\n",
    "<img src=\"./labs_files/lab1/figs/fabric_topology.png\" width=\"550px\"><br>"
   ]
  },
  {
   "cell_type": "markdown",
   "id": "54f01323-f1ec-4eb6-b165-d587bdef7391",
   "metadata": {
    "jp-MarkdownHeadingCollapsed": true,
    "tags": []
   },
   "source": [
    "# Background\n",
    "\n",
    "## Introduction to control blocks\n",
    "\n",
    "Control blocks are essential for processing a packet. For example, a control block for layer-3 forwarding may require a forwarding table that is indexed by the destination IP address. The control block may include actions to forward a packet when a hit occurs, and to drop the packet otherwise. To forward a packet, a switch must perform routing lookup on the destination IP address. Figure below shows the basic structure of a control block.\n",
    "\n",
    "<img src=\"./labs_files/lab4/figs/control_blocks.PNG\" width=\"450px\"><br>\n",
    "\n",
    "## Tables\n",
    "\n",
    "Tables are essential components that define the processing behavior of a packet inside the switch. A table is specified in the P4 program and has one or more entries (rows) which are populated by the control plane. An entry contains a key, an action, and action data.  \n",
    "\n",
    "<ul>\n",
    "<li>Key: it is used for lookup operations. The switch builds a key for the incoming packet using one or more header fields (e.g., destination IP address) and then lookups for that value in the table.  </li>\n",
    "\n",
    "<li>Action: once a match occurs, the action specified in the entry is performed by the arithmetic logic unit. Actions are simple operations such as modify a header field, forward the packet to an egress port, and drop the packet. The P4 program contains the possible actions.  </li>\n",
    "\n",
    "<li>Action data: it can be considered as parameter/s used along with the action. For example, the action data may represent the port number the switch must use to forward the packet. Action data is populated by the control plane.  </li>\n",
    "</ul>\n",
    "\n",
    "## Match types\n",
    "\n",
    "There are three types of matching: exact match, Longest Prefix match (LPM), and ternary match. They are defined in the standard library (core.p41). Note that architectures may define and implement additional match types. For example, the V1Model2 also has matching based on ranges and selectors. In this lab we will discuss exact match.\n",
    "\n",
    "## Exact match\n",
    "\n",
    "Assume that the exact match lookup is used to search for a specific value of an entry in a table. Assume that Table 2 matches on the destination IP address. If an incoming packet has 10.0.0.2 as the destination IP address, then it will match against the second entry and the P4 program will forward the packet using port 2 as the egress port.\n",
    "\n",
    "<img src=\"./labs_files/lab4/figs/exact_table.PNG\" width=\"550px\"><br>\n",
    "\n",
    "Figure 2 shows the ingress control block portion of a P4 program. Two actions are defined, drop and forward. The drop action (lines 5 - 7) invokes the mark_to_drop primitive, causing the packet to be dropped at the end of the ingress processing. The forward action (lines 8 - 10) accepts as input (i.e., action data) the destination port. This parameter is inserted by the control plane and updated in the packet during the ingress processing. In line 9, the P4 program assigns the egress port defined by the control plane to the standard_metadata egress specification field (i.e., the field that the traffic manager looks at to determine which port the packet will be sent to). Lines 11-21 implement a table named ipv4_exact. The match is against the destination IP address using the exact lookup method. The actions associated with the table are forward and drop. The default action which is invoked when there is a miss is drop. The maximum number of entries a table can support is configured manually by the programmer (i.e., 1024 entries, see line 19). Note, however, that the number of entries is limited by the amount of memory in the switch.Figure 2 shows the ingress control block portion of a P4 program. Two actions are defined, drop and forward. The drop action (lines 5 - 7) invokes the mark_to_drop primitive, causing the packet to be dropped at the end of the ingress processing. The forward action (lines 8 - 10) accepts as input (i.e., action data) the destination port. This parameter is inserted by the control plane and updated in the packet during the ingress processing. In line 9, the P4 program assigns the egress port defined by the control plane to the standard_metadata egress specification field (i.e., the field that the traffic manager looks at to determine which port the packet will be sent to). Lines 11-21 implement a table named ipv4_exact. The match is against the destination IP address using the exact lookup method. The actions associated with the table are forward and drop. The default action which is invoked when there is a miss is drop. The maximum number of entries a table can support is configured manually by the programmer (i.e., 1024 entries, see line 19). Note, however, that the number of entries is limited by the amount of memory in the switch.\n",
    "\n",
    "<img src=\"./labs_files/lab4/figs/ingress_code.PNG\" width=\"500px\"><br>\n",
    "\n",
    "\n",
    "The control block starts executing from the apply statement (see lines 22-26) which contains the control logic. In this program, the ipv4_exact table is enabled when the incoming packet has a valid IPv4 header.\n",
    "\n",
    "## Longest prefix match (LPM)\n",
    "\n",
    "Table 2 is an example of a match-action table that uses LPM. Assume that the key is formed with the destination IP address. If an incoming packet has the destination IP address 172.168.3.5, two entries match. The first entry matches because the first 29 bits in the entry are the same as the first 29 bits of the destination IP. The second entry also matches because the first 16 bits in the entry are the same as the first 16 bits of the destination IP. The LPM algorithm will select 172.168.3.0/29 because of the longest prefix preference.\n",
    "\n",
    "<img src=\"./labs_files/lab4/figs/lpm_table.PNG\" width=\"550px\"><br>\n",
    "\n",
    "Figure 3 shows the ingress control block portion of a P4 program. Two actions are defined, drop and forward. The drop action (lines 5 - 7) invokes the mark_to_drop primitive, causing the packet to be dropped at the end of the ingress processing. The forward action (lines 8 - 11) accepts as input (action data) the port and the destination MAC address. These parameters are inserted by the control plane and updated in the packet during the ingress processing. \n",
    "\n",
    "In line 9, the P4 program assigns the new egress port to the standard_metadata egress port field (i.e., the field that the traffic manager looks at to determine which port the packet must be sent to). Line 10 assigns the destination MAC address passed as parameter to the packet's new destination address. \n",
    "\n",
    "Lines 12-22 implement a table named ipv4_lpm. The table is matching against the destination IP address using the LPM type. The actions associated with the table are forward and drop. The default action is invoked when there is a miss. The maximum number of entries is defined by the programmer (i.e., 1024 entries, see line 20). \n",
    "\n",
    "The control block starts executing from the apply statement (see lines 23-27) which contains the control logic. In this program, the ipv4_lpm table is activated in case the incoming packet has a valid IPv4 header.\n",
    "\n",
    "<img src=\"./labs_files/lab4/figs/ingress_code_lpm.PNG\" width=\"500px\"><br>\n",
    "\n"
   ]
  },
  {
   "cell_type": "markdown",
   "id": "a3b14494-a097-4a69-88a2-1e0baac727fb",
   "metadata": {
    "jp-MarkdownHeadingCollapsed": true,
    "tags": []
   },
   "source": [
    "# Step 1:  Configure the Environment\n",
    "\n",
    "Before running this notebook, you will need to configure your environment using the [Configure Environment](../../../configure.ipynb) notebook. Please stop here, open and run that notebook, then return to this notebook.\n",
    "\n",
    "If you are using the FABRIC JupyterHub many of the environment variables will be automatically configured for you.  You will still need to set your bastion username, upload your bastion private key, and set the path to where you put your bastion private key. Your bastion username and private key should already be in your possession.  \n",
    "\n",
    "If you are using the FABRIC API outside of the JupyterHub you will need to configure all of the environment variables. Defaults below will be correct in many situations but you will need to confirm your configuration.  If you have questions about this configuration, please contact the FABRIC admins using the [FABRIC User Forum](https://learn.fabric-testbed.net/forums/) \n",
    "\n",
    "More information about accessing your experiments through the FABRIC bastion hosts can be found [here](https://learn.fabric-testbed.net/knowledge-base/logging-into-fabric-vms/).\n",
    " "
   ]
  },
  {
   "cell_type": "markdown",
   "id": "a7944d6d-f5f9-40ae-badb-4dc2c90e373b",
   "metadata": {
    "tags": []
   },
   "source": [
    "# Step 2: Import the FABlib Library"
   ]
  },
  {
   "cell_type": "code",
   "execution_count": 1,
   "id": "6ae6b13d-afdf-422b-bf5d-63d06e526a10",
   "metadata": {},
   "outputs": [],
   "source": [
    "from fabrictestbed_extensions.fablib.fablib import FablibManager as fablib_manager\n",
    "fablib = fablib_manager()"
   ]
  },
  {
   "cell_type": "markdown",
   "id": "469d59b2-6d39-47b4-ac64-a68614cbb882",
   "metadata": {
    "tags": []
   },
   "source": [
    "# Step 3: Create the Experiment Slice\n",
    "\n",
    "The following creates three node with basic compute and networking capabilities. You build a slice by creating a new slice and adding resources to the slice. After you build the slice, you must submit a request for the slice to be instantiated.   "
   ]
  },
  {
   "cell_type": "markdown",
   "id": "441c7670-4221-4f7a-be6a-df49214141ff",
   "metadata": {
    "tags": []
   },
   "source": [
    "### Step 3.1: Create a slice\n",
    "The code below creates a new slice with the name \"lab4\""
   ]
  },
  {
   "cell_type": "code",
   "execution_count": 2,
   "id": "0202a524-b753-4859-9037-c49f410ee7d0",
   "metadata": {
    "tags": []
   },
   "outputs": [],
   "source": [
    "#slice = fablib.new_slice(name=\"lab4\")\n",
    "slice = fablib.get_slice(name=\"lab4\")"
   ]
  },
  {
   "cell_type": "markdown",
   "id": "982b3587-a231-4fbe-ba36-8d1fa67176c2",
   "metadata": {
    "tags": []
   },
   "source": [
    "### Step 3.2: Define the sites\n",
    "The code below requests three sites from FABRIC: MICH, STAR, and NCSA"
   ]
  },
  {
   "cell_type": "markdown",
   "id": "12eaa227-4a13-48d3-a744-2a7540a4b030",
   "metadata": {
    "tags": []
   },
   "source": [
    "<img src=\"./labs_files/lab1/figs/fabric_sites.png\" width=\"550px\"><br>"
   ]
  },
  {
   "cell_type": "code",
   "execution_count": 3,
   "id": "0fee3c44-13ce-4409-8cc2-b1799ad6eec3",
   "metadata": {
    "tags": []
   },
   "outputs": [
    {
     "name": "stdout",
     "output_type": "stream",
     "text": [
      "The selected sites are UCSD, STAR, NCSA\n"
     ]
    }
   ],
   "source": [
    "site1='UCSD'\n",
    "site2='STAR'\n",
    "site3='NCSA'\n",
    "\n",
    "print (f'The selected sites are {site1}, {site2}, {site3}') "
   ]
  },
  {
   "cell_type": "markdown",
   "id": "976bef7a-4b4d-4993-ad2d-254757b2b211",
   "metadata": {
    "tags": []
   },
   "source": [
    "### Step 3.3: Creating the nodes\n",
    "The code below creates three nodes: server1, switch, and server2. The servers (server1 and server2) use the following\n",
    "<ul>\n",
    "    <li> 4 CPU cores</li>\n",
    "    <li> 8GB RAM </li>\n",
    "    <li> 20GB disc size </li>\n",
    "    <li> Image: Ubuntu 20.04\n",
    "</ul>\n",
    "\n",
    "server1 will be created in site1 and server3 will be created in site3\n",
    "\n",
    "<img src=\"./labs_files/lab1/figs/creating_nodes.PNG\" width=\"550px\"><br>"
   ]
  },
  {
   "cell_type": "code",
   "execution_count": 5,
   "id": "f189fb51-7411-43e4-a28d-8f9c2f12ade4",
   "metadata": {
    "tags": []
   },
   "outputs": [],
   "source": [
    "server1 = slice.add_node(name=\"server1\", \n",
    "                      site=site1, \n",
    "                      cores=4, \n",
    "                      ram=8, \n",
    "                      disk=20, \n",
    "                      image='default_ubuntu_20')\n",
    "\n",
    "server2 = slice.add_node(name=\"server2\", \n",
    "                      site=site3, \n",
    "                      cores=4, \n",
    "                      ram=8, \n",
    "                      disk=20, \n",
    "                      image='default_ubuntu_20')"
   ]
  },
  {
   "cell_type": "markdown",
   "id": "d47e891a-1acc-47e7-87ab-121c05a7dca1",
   "metadata": {
    "tags": []
   },
   "source": [
    "### Step 3.4: Adding the interfaces to the servers\n",
    "The code below adds a Network Interface Card (NIC) to each server.\n",
    "\n",
    "<img src=\"./labs_files/lab1/figs/adding_nics.PNG\" width=\"550px\"><br>"
   ]
  },
  {
   "cell_type": "code",
   "execution_count": 6,
   "id": "57dc060a-c728-4c0c-aea5-097326c4384c",
   "metadata": {
    "tags": []
   },
   "outputs": [],
   "source": [
    "server1_iface = server1.add_component(model='NIC_Basic').get_interfaces()[0]\n",
    "server2_iface = server2.add_component(model='NIC_Basic').get_interfaces()[0]"
   ]
  },
  {
   "cell_type": "markdown",
   "id": "7c9c1468-abc9-4159-8a25-368d55a116d6",
   "metadata": {
    "tags": []
   },
   "source": [
    "### Step 3.5: Creating a node for the P4 switch\n",
    "The code below creates a node that will run the P4 switch. The node use the following\n",
    "<ul>\n",
    "    <li> 16 CPU cores</li>\n",
    "    <li> 8GB RAM </li>\n",
    "    <li> 40GB disc size </li>\n",
    "    <li> Image: Ubuntu 20.04\n",
    "</ul>\n",
    "\n",
    "The node will be created in site2\n",
    "\n",
    "<img src=\"./labs_files/lab1/figs/adding_switch.PNG\" width=\"550px\"><br>"
   ]
  },
  {
   "cell_type": "code",
   "execution_count": 7,
   "id": "925b125f-ddbe-4531-89ed-b9b0a3e3f58e",
   "metadata": {
    "tags": []
   },
   "outputs": [],
   "source": [
    "# Add a node\n",
    "switch = slice.add_node(name=\"switch\", \n",
    "                      site=site2, \n",
    "                      cores=32, \n",
    "                      ram=16, \n",
    "                      disk=40, \n",
    "                      image='default_ubuntu_20')"
   ]
  },
  {
   "cell_type": "markdown",
   "id": "130eaded-960d-49ed-bb47-641630e33598",
   "metadata": {},
   "source": [
    "### Step 3.6: Adding two interfaces to the switch\n",
    "The code below adds two Network Interface Cards (NICs) to the switch.\n",
    "\n",
    "<img src=\"./labs_files/lab1/figs/adding_switch_ports.PNG\" width=\"550px\"><br>"
   ]
  },
  {
   "cell_type": "code",
   "execution_count": 8,
   "id": "eb754ffc-1a51-4777-9cee-203c18d6ba90",
   "metadata": {},
   "outputs": [],
   "source": [
    "switch_iface1 = switch.add_component(model='NIC_Basic', name='net1_nic').get_interfaces()[0]\n",
    "switch_iface2 = switch.add_component(model='NIC_Basic', name='net2_nic').get_interfaces()[0]"
   ]
  },
  {
   "cell_type": "markdown",
   "id": "53baab9b-390d-4da8-8440-cd3356e56795",
   "metadata": {},
   "source": [
    "### Step 3.7: Connecting site1 and site2\n",
    "Create a site-to-site network between site1 and site2 connecting server1 and the P4 switch\n",
    "\n",
    "<img src=\"./labs_files/lab1/figs/connecting_nodes_server1_switch.PNG\" width=\"550px\"><br>"
   ]
  },
  {
   "cell_type": "code",
   "execution_count": 9,
   "id": "1c536c24-f44d-4e9c-952f-4f2cb3781126",
   "metadata": {},
   "outputs": [],
   "source": [
    "net1 = slice.add_l2network(name='net1', interfaces=[server1_iface, switch_iface1])"
   ]
  },
  {
   "cell_type": "markdown",
   "id": "190e029f-3f22-47b5-9840-d879905c0790",
   "metadata": {},
   "source": [
    "### Step 3.8: Connecting site2 and site3\n",
    "Create a site-to-site network between site2 and site3 connecting the P4 switch and server2\n",
    "\n",
    "<img src=\"./labs_files/lab1/figs/connecting_nodes_server2_switch.PNG\" width=\"550px\"><br>"
   ]
  },
  {
   "cell_type": "code",
   "execution_count": 10,
   "id": "5a3f7a4c-15c0-4ec6-b05f-67d61b063670",
   "metadata": {},
   "outputs": [],
   "source": [
    "net2 = slice.add_l2network(name='net2', interfaces=[switch_iface2, server2_iface])"
   ]
  },
  {
   "cell_type": "markdown",
   "id": "05d39e42-e051-43c7-aac1-79e01b758be6",
   "metadata": {},
   "source": [
    "### Step 3.9: Submitting the slice\n",
    "The code below submits the slice. \n",
    "By default, the submit function will block until the node is ready and will display the progress of your slice being built."
   ]
  },
  {
   "cell_type": "code",
   "execution_count": 11,
   "id": "20724788-d10c-4470-b7a9-5f28eac2f0d9",
   "metadata": {},
   "outputs": [
    {
     "name": "stdout",
     "output_type": "stream",
     "text": [
      "\n",
      "Retry: 12, Time: 338 sec\n"
     ]
    },
    {
     "data": {
      "text/html": [
       "<style type=\"text/css\">\n",
       "#T_62c4d tr:nth-child(even) {\n",
       "  background: #dbf3ff;\n",
       "  color: #231f20;\n",
       "}\n",
       "#T_62c4d tr:nth-child(odd) {\n",
       "  background: #ffffff;\n",
       "  color: #231f20;\n",
       "}\n",
       "#T_62c4d caption {\n",
       "  text-align: center;\n",
       "  font-size: 150%;\n",
       "}\n",
       "#T_62c4d_row0_col0, #T_62c4d_row0_col1, #T_62c4d_row1_col0, #T_62c4d_row1_col1, #T_62c4d_row2_col0, #T_62c4d_row2_col1, #T_62c4d_row3_col0, #T_62c4d_row3_col1, #T_62c4d_row4_col0, #T_62c4d_row4_col1, #T_62c4d_row5_col0 {\n",
       "  text-align: left;\n",
       "  border: 1px #231f20 solid !important;\n",
       "  overwrite: False;\n",
       "  background-color: ;\n",
       "}\n",
       "#T_62c4d_row5_col1 {\n",
       "  text-align: left;\n",
       "  border: 1px #231f20 solid !important;\n",
       "  overwrite: False;\n",
       "  background-color: #c3ffc4;\n",
       "}\n",
       "</style>\n",
       "<table id=\"T_62c4d\">\n",
       "  <caption>Slice</caption>\n",
       "  <thead>\n",
       "  </thead>\n",
       "  <tbody>\n",
       "    <tr>\n",
       "      <td id=\"T_62c4d_row0_col0\" class=\"data row0 col0\" >ID</td>\n",
       "      <td id=\"T_62c4d_row0_col1\" class=\"data row0 col1\" >db7a25ba-ec38-4c95-84dd-aa34880eac59</td>\n",
       "    </tr>\n",
       "    <tr>\n",
       "      <td id=\"T_62c4d_row1_col0\" class=\"data row1 col0\" >Name</td>\n",
       "      <td id=\"T_62c4d_row1_col1\" class=\"data row1 col1\" >lab4</td>\n",
       "    </tr>\n",
       "    <tr>\n",
       "      <td id=\"T_62c4d_row2_col0\" class=\"data row2 col0\" >Lease Expiration (UTC)</td>\n",
       "      <td id=\"T_62c4d_row2_col1\" class=\"data row2 col1\" >2023-11-15 04:22:44 +0000</td>\n",
       "    </tr>\n",
       "    <tr>\n",
       "      <td id=\"T_62c4d_row3_col0\" class=\"data row3 col0\" >Lease Start (UTC)</td>\n",
       "      <td id=\"T_62c4d_row3_col1\" class=\"data row3 col1\" >2023-11-14 04:22:44 +0000</td>\n",
       "    </tr>\n",
       "    <tr>\n",
       "      <td id=\"T_62c4d_row4_col0\" class=\"data row4 col0\" >Project ID</td>\n",
       "      <td id=\"T_62c4d_row4_col1\" class=\"data row4 col1\" >6ce270de-788d-4e07-8bae-3206860a6387</td>\n",
       "    </tr>\n",
       "    <tr>\n",
       "      <td id=\"T_62c4d_row5_col0\" class=\"data row5 col0\" >State</td>\n",
       "      <td id=\"T_62c4d_row5_col1\" class=\"data row5 col1\" >StableOK</td>\n",
       "    </tr>\n",
       "  </tbody>\n",
       "</table>\n"
      ],
      "text/plain": [
       "<pandas.io.formats.style.Styler at 0x7f4ce3e1e5c0>"
      ]
     },
     "metadata": {},
     "output_type": "display_data"
    },
    {
     "data": {
      "text/html": [
       "<style type=\"text/css\">\n",
       "#T_23cc1 caption {\n",
       "  text-align: center;\n",
       "  font-size: 150%;\n",
       "  caption-side: top;\n",
       "}\n",
       "#T_23cc1 th {\n",
       "  text-align: left;\n",
       "}\n",
       "#T_23cc1 tr:nth-child(even) {\n",
       "  background: #ffffff;\n",
       "  color: #231f20;\n",
       "}\n",
       "#T_23cc1 tr:nth-child(odd) {\n",
       "  background: #dbf3ff;\n",
       "  color: #231f20;\n",
       "}\n",
       "#T_23cc1 .level0 {\n",
       "  border: 1px black solid !important;\n",
       "  background: #ffffff;\n",
       "  color: #231f20;\n",
       "}\n",
       "#T_23cc1_row0_col0, #T_23cc1_row0_col1, #T_23cc1_row0_col2, #T_23cc1_row0_col3, #T_23cc1_row0_col4, #T_23cc1_row0_col5, #T_23cc1_row0_col6, #T_23cc1_row0_col7, #T_23cc1_row0_col8, #T_23cc1_row0_col9, #T_23cc1_row0_col10, #T_23cc1_row0_col13, #T_23cc1_row0_col14, #T_23cc1_row0_col15, #T_23cc1_row1_col0, #T_23cc1_row1_col1, #T_23cc1_row1_col2, #T_23cc1_row1_col3, #T_23cc1_row1_col4, #T_23cc1_row1_col5, #T_23cc1_row1_col6, #T_23cc1_row1_col7, #T_23cc1_row1_col8, #T_23cc1_row1_col9, #T_23cc1_row1_col10, #T_23cc1_row1_col13, #T_23cc1_row1_col14, #T_23cc1_row1_col15, #T_23cc1_row2_col0, #T_23cc1_row2_col1, #T_23cc1_row2_col2, #T_23cc1_row2_col3, #T_23cc1_row2_col4, #T_23cc1_row2_col5, #T_23cc1_row2_col6, #T_23cc1_row2_col7, #T_23cc1_row2_col8, #T_23cc1_row2_col9, #T_23cc1_row2_col10, #T_23cc1_row2_col13, #T_23cc1_row2_col14, #T_23cc1_row2_col15 {\n",
       "  text-align: left;\n",
       "  border: 1px #231f20 solid !important;\n",
       "  overwrite: False;\n",
       "}\n",
       "#T_23cc1_row0_col11, #T_23cc1_row1_col11, #T_23cc1_row2_col11 {\n",
       "  text-align: left;\n",
       "  border: 1px #231f20 solid !important;\n",
       "  overwrite: False;\n",
       "  background-color: #c3ffc4;\n",
       "}\n",
       "#T_23cc1_row0_col12, #T_23cc1_row1_col12, #T_23cc1_row2_col12 {\n",
       "  text-align: left;\n",
       "  border: 1px #231f20 solid !important;\n",
       "  overwrite: False;\n",
       "  background-color: ;\n",
       "}\n",
       "</style>\n",
       "<table id=\"T_23cc1\">\n",
       "  <caption>Nodes</caption>\n",
       "  <thead>\n",
       "    <tr>\n",
       "      <th id=\"T_23cc1_level0_col0\" class=\"col_heading level0 col0\" >ID</th>\n",
       "      <th id=\"T_23cc1_level0_col1\" class=\"col_heading level0 col1\" >Name</th>\n",
       "      <th id=\"T_23cc1_level0_col2\" class=\"col_heading level0 col2\" >Cores</th>\n",
       "      <th id=\"T_23cc1_level0_col3\" class=\"col_heading level0 col3\" >RAM</th>\n",
       "      <th id=\"T_23cc1_level0_col4\" class=\"col_heading level0 col4\" >Disk</th>\n",
       "      <th id=\"T_23cc1_level0_col5\" class=\"col_heading level0 col5\" >Image</th>\n",
       "      <th id=\"T_23cc1_level0_col6\" class=\"col_heading level0 col6\" >Image Type</th>\n",
       "      <th id=\"T_23cc1_level0_col7\" class=\"col_heading level0 col7\" >Host</th>\n",
       "      <th id=\"T_23cc1_level0_col8\" class=\"col_heading level0 col8\" >Site</th>\n",
       "      <th id=\"T_23cc1_level0_col9\" class=\"col_heading level0 col9\" >Username</th>\n",
       "      <th id=\"T_23cc1_level0_col10\" class=\"col_heading level0 col10\" >Management IP</th>\n",
       "      <th id=\"T_23cc1_level0_col11\" class=\"col_heading level0 col11\" >State</th>\n",
       "      <th id=\"T_23cc1_level0_col12\" class=\"col_heading level0 col12\" >Error</th>\n",
       "      <th id=\"T_23cc1_level0_col13\" class=\"col_heading level0 col13\" >SSH Command</th>\n",
       "      <th id=\"T_23cc1_level0_col14\" class=\"col_heading level0 col14\" >Public SSH Key File</th>\n",
       "      <th id=\"T_23cc1_level0_col15\" class=\"col_heading level0 col15\" >Private SSH Key File</th>\n",
       "    </tr>\n",
       "  </thead>\n",
       "  <tbody>\n",
       "    <tr>\n",
       "      <td id=\"T_23cc1_row0_col0\" class=\"data row0 col0\" >d6b93b54-d438-4a96-8b6b-127a6ccc48ae</td>\n",
       "      <td id=\"T_23cc1_row0_col1\" class=\"data row0 col1\" >server1</td>\n",
       "      <td id=\"T_23cc1_row0_col2\" class=\"data row0 col2\" >4</td>\n",
       "      <td id=\"T_23cc1_row0_col3\" class=\"data row0 col3\" >8</td>\n",
       "      <td id=\"T_23cc1_row0_col4\" class=\"data row0 col4\" >100</td>\n",
       "      <td id=\"T_23cc1_row0_col5\" class=\"data row0 col5\" >default_ubuntu_20</td>\n",
       "      <td id=\"T_23cc1_row0_col6\" class=\"data row0 col6\" >qcow2</td>\n",
       "      <td id=\"T_23cc1_row0_col7\" class=\"data row0 col7\" >ucsd-w4.fabric-testbed.net</td>\n",
       "      <td id=\"T_23cc1_row0_col8\" class=\"data row0 col8\" >UCSD</td>\n",
       "      <td id=\"T_23cc1_row0_col9\" class=\"data row0 col9\" >ubuntu</td>\n",
       "      <td id=\"T_23cc1_row0_col10\" class=\"data row0 col10\" >132.249.252.144</td>\n",
       "      <td id=\"T_23cc1_row0_col11\" class=\"data row0 col11\" >Active</td>\n",
       "      <td id=\"T_23cc1_row0_col12\" class=\"data row0 col12\" ></td>\n",
       "      <td id=\"T_23cc1_row0_col13\" class=\"data row0 col13\" >ssh -i /home/fabric/work/fabric_config/slice_key -F /home/fabric/work/fabric_config/ssh_config ubuntu@132.249.252.144</td>\n",
       "      <td id=\"T_23cc1_row0_col14\" class=\"data row0 col14\" >/home/fabric/work/fabric_config/slice_key.pub</td>\n",
       "      <td id=\"T_23cc1_row0_col15\" class=\"data row0 col15\" >/home/fabric/work/fabric_config/slice_key</td>\n",
       "    </tr>\n",
       "    <tr>\n",
       "      <td id=\"T_23cc1_row1_col0\" class=\"data row1 col0\" >d1226df4-5563-4a02-8206-b870e038ac92</td>\n",
       "      <td id=\"T_23cc1_row1_col1\" class=\"data row1 col1\" >server2</td>\n",
       "      <td id=\"T_23cc1_row1_col2\" class=\"data row1 col2\" >4</td>\n",
       "      <td id=\"T_23cc1_row1_col3\" class=\"data row1 col3\" >8</td>\n",
       "      <td id=\"T_23cc1_row1_col4\" class=\"data row1 col4\" >100</td>\n",
       "      <td id=\"T_23cc1_row1_col5\" class=\"data row1 col5\" >default_ubuntu_20</td>\n",
       "      <td id=\"T_23cc1_row1_col6\" class=\"data row1 col6\" >qcow2</td>\n",
       "      <td id=\"T_23cc1_row1_col7\" class=\"data row1 col7\" >ncsa-w1.fabric-testbed.net</td>\n",
       "      <td id=\"T_23cc1_row1_col8\" class=\"data row1 col8\" >NCSA</td>\n",
       "      <td id=\"T_23cc1_row1_col9\" class=\"data row1 col9\" >ubuntu</td>\n",
       "      <td id=\"T_23cc1_row1_col10\" class=\"data row1 col10\" >2620:0:c80:1001:f816:3eff:fe1c:9aa6</td>\n",
       "      <td id=\"T_23cc1_row1_col11\" class=\"data row1 col11\" >Active</td>\n",
       "      <td id=\"T_23cc1_row1_col12\" class=\"data row1 col12\" ></td>\n",
       "      <td id=\"T_23cc1_row1_col13\" class=\"data row1 col13\" >ssh -i /home/fabric/work/fabric_config/slice_key -F /home/fabric/work/fabric_config/ssh_config ubuntu@2620:0:c80:1001:f816:3eff:fe1c:9aa6</td>\n",
       "      <td id=\"T_23cc1_row1_col14\" class=\"data row1 col14\" >/home/fabric/work/fabric_config/slice_key.pub</td>\n",
       "      <td id=\"T_23cc1_row1_col15\" class=\"data row1 col15\" >/home/fabric/work/fabric_config/slice_key</td>\n",
       "    </tr>\n",
       "    <tr>\n",
       "      <td id=\"T_23cc1_row2_col0\" class=\"data row2 col0\" >d55e80cb-899a-41c5-8718-d4fb4e619751</td>\n",
       "      <td id=\"T_23cc1_row2_col1\" class=\"data row2 col1\" >switch</td>\n",
       "      <td id=\"T_23cc1_row2_col2\" class=\"data row2 col2\" >32</td>\n",
       "      <td id=\"T_23cc1_row2_col3\" class=\"data row2 col3\" >16</td>\n",
       "      <td id=\"T_23cc1_row2_col4\" class=\"data row2 col4\" >100</td>\n",
       "      <td id=\"T_23cc1_row2_col5\" class=\"data row2 col5\" >default_ubuntu_20</td>\n",
       "      <td id=\"T_23cc1_row2_col6\" class=\"data row2 col6\" >qcow2</td>\n",
       "      <td id=\"T_23cc1_row2_col7\" class=\"data row2 col7\" >star-w3.fabric-testbed.net</td>\n",
       "      <td id=\"T_23cc1_row2_col8\" class=\"data row2 col8\" >STAR</td>\n",
       "      <td id=\"T_23cc1_row2_col9\" class=\"data row2 col9\" >ubuntu</td>\n",
       "      <td id=\"T_23cc1_row2_col10\" class=\"data row2 col10\" >2001:400:a100:3030:f816:3eff:fee6:11fc</td>\n",
       "      <td id=\"T_23cc1_row2_col11\" class=\"data row2 col11\" >Active</td>\n",
       "      <td id=\"T_23cc1_row2_col12\" class=\"data row2 col12\" ></td>\n",
       "      <td id=\"T_23cc1_row2_col13\" class=\"data row2 col13\" >ssh -i /home/fabric/work/fabric_config/slice_key -F /home/fabric/work/fabric_config/ssh_config ubuntu@2001:400:a100:3030:f816:3eff:fee6:11fc</td>\n",
       "      <td id=\"T_23cc1_row2_col14\" class=\"data row2 col14\" >/home/fabric/work/fabric_config/slice_key.pub</td>\n",
       "      <td id=\"T_23cc1_row2_col15\" class=\"data row2 col15\" >/home/fabric/work/fabric_config/slice_key</td>\n",
       "    </tr>\n",
       "  </tbody>\n",
       "</table>\n"
      ],
      "text/plain": [
       "<pandas.io.formats.style.Styler at 0x7f4ce28bc340>"
      ]
     },
     "metadata": {},
     "output_type": "display_data"
    },
    {
     "data": {
      "text/html": [
       "<style type=\"text/css\">\n",
       "#T_f1be8 caption {\n",
       "  text-align: center;\n",
       "  font-size: 150%;\n",
       "  caption-side: top;\n",
       "}\n",
       "#T_f1be8 th {\n",
       "  text-align: left;\n",
       "}\n",
       "#T_f1be8 tr:nth-child(even) {\n",
       "  background: #ffffff;\n",
       "  color: #231f20;\n",
       "}\n",
       "#T_f1be8 tr:nth-child(odd) {\n",
       "  background: #dbf3ff;\n",
       "  color: #231f20;\n",
       "}\n",
       "#T_f1be8 .level0 {\n",
       "  border: 1px black solid !important;\n",
       "  background: #ffffff;\n",
       "  color: #231f20;\n",
       "}\n",
       "#T_f1be8_row0_col0, #T_f1be8_row0_col1, #T_f1be8_row0_col2, #T_f1be8_row0_col3, #T_f1be8_row0_col4, #T_f1be8_row0_col5, #T_f1be8_row0_col6, #T_f1be8_row1_col0, #T_f1be8_row1_col1, #T_f1be8_row1_col2, #T_f1be8_row1_col3, #T_f1be8_row1_col4, #T_f1be8_row1_col5, #T_f1be8_row1_col6 {\n",
       "  text-align: left;\n",
       "  border: 1px #231f20 solid !important;\n",
       "  overwrite: False;\n",
       "}\n",
       "#T_f1be8_row0_col7, #T_f1be8_row1_col7 {\n",
       "  text-align: left;\n",
       "  border: 1px #231f20 solid !important;\n",
       "  overwrite: False;\n",
       "  background-color: #c3ffc4;\n",
       "}\n",
       "#T_f1be8_row0_col8, #T_f1be8_row1_col8 {\n",
       "  text-align: left;\n",
       "  border: 1px #231f20 solid !important;\n",
       "  overwrite: False;\n",
       "  background-color: ;\n",
       "}\n",
       "</style>\n",
       "<table id=\"T_f1be8\">\n",
       "  <caption>Networks</caption>\n",
       "  <thead>\n",
       "    <tr>\n",
       "      <th id=\"T_f1be8_level0_col0\" class=\"col_heading level0 col0\" >ID</th>\n",
       "      <th id=\"T_f1be8_level0_col1\" class=\"col_heading level0 col1\" >Name</th>\n",
       "      <th id=\"T_f1be8_level0_col2\" class=\"col_heading level0 col2\" >Layer</th>\n",
       "      <th id=\"T_f1be8_level0_col3\" class=\"col_heading level0 col3\" >Type</th>\n",
       "      <th id=\"T_f1be8_level0_col4\" class=\"col_heading level0 col4\" >Site</th>\n",
       "      <th id=\"T_f1be8_level0_col5\" class=\"col_heading level0 col5\" >Subnet</th>\n",
       "      <th id=\"T_f1be8_level0_col6\" class=\"col_heading level0 col6\" >Gateway</th>\n",
       "      <th id=\"T_f1be8_level0_col7\" class=\"col_heading level0 col7\" >State</th>\n",
       "      <th id=\"T_f1be8_level0_col8\" class=\"col_heading level0 col8\" >Error</th>\n",
       "    </tr>\n",
       "  </thead>\n",
       "  <tbody>\n",
       "    <tr>\n",
       "      <td id=\"T_f1be8_row0_col0\" class=\"data row0 col0\" >f82abf94-8bf7-46b1-b560-e09bb2c64147</td>\n",
       "      <td id=\"T_f1be8_row0_col1\" class=\"data row0 col1\" >net1</td>\n",
       "      <td id=\"T_f1be8_row0_col2\" class=\"data row0 col2\" >L2</td>\n",
       "      <td id=\"T_f1be8_row0_col3\" class=\"data row0 col3\" >L2STS</td>\n",
       "      <td id=\"T_f1be8_row0_col4\" class=\"data row0 col4\" >None</td>\n",
       "      <td id=\"T_f1be8_row0_col5\" class=\"data row0 col5\" >None</td>\n",
       "      <td id=\"T_f1be8_row0_col6\" class=\"data row0 col6\" >None</td>\n",
       "      <td id=\"T_f1be8_row0_col7\" class=\"data row0 col7\" >Active</td>\n",
       "      <td id=\"T_f1be8_row0_col8\" class=\"data row0 col8\" ></td>\n",
       "    </tr>\n",
       "    <tr>\n",
       "      <td id=\"T_f1be8_row1_col0\" class=\"data row1 col0\" >53d4a168-4b58-45af-b61b-76922f634300</td>\n",
       "      <td id=\"T_f1be8_row1_col1\" class=\"data row1 col1\" >net2</td>\n",
       "      <td id=\"T_f1be8_row1_col2\" class=\"data row1 col2\" >L2</td>\n",
       "      <td id=\"T_f1be8_row1_col3\" class=\"data row1 col3\" >L2STS</td>\n",
       "      <td id=\"T_f1be8_row1_col4\" class=\"data row1 col4\" >None</td>\n",
       "      <td id=\"T_f1be8_row1_col5\" class=\"data row1 col5\" >None</td>\n",
       "      <td id=\"T_f1be8_row1_col6\" class=\"data row1 col6\" >None</td>\n",
       "      <td id=\"T_f1be8_row1_col7\" class=\"data row1 col7\" >Active</td>\n",
       "      <td id=\"T_f1be8_row1_col8\" class=\"data row1 col8\" ></td>\n",
       "    </tr>\n",
       "  </tbody>\n",
       "</table>\n"
      ],
      "text/plain": [
       "<pandas.io.formats.style.Styler at 0x7f4ce3f28040>"
      ]
     },
     "metadata": {},
     "output_type": "display_data"
    },
    {
     "data": {
      "text/html": [
       "<style type=\"text/css\">\n",
       "#T_1000e caption {\n",
       "  text-align: center;\n",
       "  font-size: 150%;\n",
       "  caption-side: top;\n",
       "}\n",
       "#T_1000e th {\n",
       "  text-align: left;\n",
       "}\n",
       "#T_1000e tr:nth-child(even) {\n",
       "  background: #ffffff;\n",
       "  color: #231f20;\n",
       "}\n",
       "#T_1000e tr:nth-child(odd) {\n",
       "  background: #dbf3ff;\n",
       "  color: #231f20;\n",
       "}\n",
       "#T_1000e .level0 {\n",
       "  border: 1px black solid !important;\n",
       "  background: #ffffff;\n",
       "  color: #231f20;\n",
       "}\n",
       "#T_1000e_row0_col0, #T_1000e_row0_col1, #T_1000e_row0_col2, #T_1000e_row0_col3, #T_1000e_row0_col4, #T_1000e_row0_col5, #T_1000e_row0_col6, #T_1000e_row0_col7, #T_1000e_row0_col8, #T_1000e_row0_col9, #T_1000e_row0_col10, #T_1000e_row0_col11, #T_1000e_row1_col0, #T_1000e_row1_col1, #T_1000e_row1_col2, #T_1000e_row1_col3, #T_1000e_row1_col4, #T_1000e_row1_col5, #T_1000e_row1_col6, #T_1000e_row1_col7, #T_1000e_row1_col8, #T_1000e_row1_col9, #T_1000e_row1_col10, #T_1000e_row1_col11, #T_1000e_row2_col0, #T_1000e_row2_col1, #T_1000e_row2_col2, #T_1000e_row2_col3, #T_1000e_row2_col4, #T_1000e_row2_col5, #T_1000e_row2_col6, #T_1000e_row2_col7, #T_1000e_row2_col8, #T_1000e_row2_col9, #T_1000e_row2_col10, #T_1000e_row2_col11, #T_1000e_row3_col0, #T_1000e_row3_col1, #T_1000e_row3_col2, #T_1000e_row3_col3, #T_1000e_row3_col4, #T_1000e_row3_col5, #T_1000e_row3_col6, #T_1000e_row3_col7, #T_1000e_row3_col8, #T_1000e_row3_col9, #T_1000e_row3_col10, #T_1000e_row3_col11 {\n",
       "  text-align: left;\n",
       "  border: 1px #231f20 solid !important;\n",
       "  overwrite: False;\n",
       "}\n",
       "</style>\n",
       "<table id=\"T_1000e\">\n",
       "  <caption>Interfaces</caption>\n",
       "  <thead>\n",
       "    <tr>\n",
       "      <th id=\"T_1000e_level0_col0\" class=\"col_heading level0 col0\" >Name</th>\n",
       "      <th id=\"T_1000e_level0_col1\" class=\"col_heading level0 col1\" >Short Name</th>\n",
       "      <th id=\"T_1000e_level0_col2\" class=\"col_heading level0 col2\" >Node</th>\n",
       "      <th id=\"T_1000e_level0_col3\" class=\"col_heading level0 col3\" >Network</th>\n",
       "      <th id=\"T_1000e_level0_col4\" class=\"col_heading level0 col4\" >Bandwidth</th>\n",
       "      <th id=\"T_1000e_level0_col5\" class=\"col_heading level0 col5\" >Mode</th>\n",
       "      <th id=\"T_1000e_level0_col6\" class=\"col_heading level0 col6\" >VLAN</th>\n",
       "      <th id=\"T_1000e_level0_col7\" class=\"col_heading level0 col7\" >MAC</th>\n",
       "      <th id=\"T_1000e_level0_col8\" class=\"col_heading level0 col8\" >Physical Device</th>\n",
       "      <th id=\"T_1000e_level0_col9\" class=\"col_heading level0 col9\" >Device</th>\n",
       "      <th id=\"T_1000e_level0_col10\" class=\"col_heading level0 col10\" >IP Address</th>\n",
       "      <th id=\"T_1000e_level0_col11\" class=\"col_heading level0 col11\" >Numa Node</th>\n",
       "    </tr>\n",
       "  </thead>\n",
       "  <tbody>\n",
       "    <tr>\n",
       "      <td id=\"T_1000e_row0_col0\" class=\"data row0 col0\" >server1-None-p1</td>\n",
       "      <td id=\"T_1000e_row0_col1\" class=\"data row0 col1\" >p1</td>\n",
       "      <td id=\"T_1000e_row0_col2\" class=\"data row0 col2\" >server1</td>\n",
       "      <td id=\"T_1000e_row0_col3\" class=\"data row0 col3\" >net1</td>\n",
       "      <td id=\"T_1000e_row0_col4\" class=\"data row0 col4\" >100</td>\n",
       "      <td id=\"T_1000e_row0_col5\" class=\"data row0 col5\" >config</td>\n",
       "      <td id=\"T_1000e_row0_col6\" class=\"data row0 col6\" ></td>\n",
       "      <td id=\"T_1000e_row0_col7\" class=\"data row0 col7\" >06:36:11:A0:05:CA</td>\n",
       "      <td id=\"T_1000e_row0_col8\" class=\"data row0 col8\" >enp6s0</td>\n",
       "      <td id=\"T_1000e_row0_col9\" class=\"data row0 col9\" >enp6s0</td>\n",
       "      <td id=\"T_1000e_row0_col10\" class=\"data row0 col10\" >None</td>\n",
       "      <td id=\"T_1000e_row0_col11\" class=\"data row0 col11\" >4</td>\n",
       "    </tr>\n",
       "    <tr>\n",
       "      <td id=\"T_1000e_row1_col0\" class=\"data row1 col0\" >server2-None-p1</td>\n",
       "      <td id=\"T_1000e_row1_col1\" class=\"data row1 col1\" >p1</td>\n",
       "      <td id=\"T_1000e_row1_col2\" class=\"data row1 col2\" >server2</td>\n",
       "      <td id=\"T_1000e_row1_col3\" class=\"data row1 col3\" >net2</td>\n",
       "      <td id=\"T_1000e_row1_col4\" class=\"data row1 col4\" >100</td>\n",
       "      <td id=\"T_1000e_row1_col5\" class=\"data row1 col5\" >config</td>\n",
       "      <td id=\"T_1000e_row1_col6\" class=\"data row1 col6\" ></td>\n",
       "      <td id=\"T_1000e_row1_col7\" class=\"data row1 col7\" >02:2A:F7:36:F2:49</td>\n",
       "      <td id=\"T_1000e_row1_col8\" class=\"data row1 col8\" >enp7s0</td>\n",
       "      <td id=\"T_1000e_row1_col9\" class=\"data row1 col9\" >enp7s0</td>\n",
       "      <td id=\"T_1000e_row1_col10\" class=\"data row1 col10\" >None</td>\n",
       "      <td id=\"T_1000e_row1_col11\" class=\"data row1 col11\" >6</td>\n",
       "    </tr>\n",
       "    <tr>\n",
       "      <td id=\"T_1000e_row2_col0\" class=\"data row2 col0\" >switch-net2_nic-p1</td>\n",
       "      <td id=\"T_1000e_row2_col1\" class=\"data row2 col1\" >p1</td>\n",
       "      <td id=\"T_1000e_row2_col2\" class=\"data row2 col2\" >switch</td>\n",
       "      <td id=\"T_1000e_row2_col3\" class=\"data row2 col3\" >net2</td>\n",
       "      <td id=\"T_1000e_row2_col4\" class=\"data row2 col4\" >100</td>\n",
       "      <td id=\"T_1000e_row2_col5\" class=\"data row2 col5\" >config</td>\n",
       "      <td id=\"T_1000e_row2_col6\" class=\"data row2 col6\" ></td>\n",
       "      <td id=\"T_1000e_row2_col7\" class=\"data row2 col7\" >2A:E2:7E:C1:38:4C</td>\n",
       "      <td id=\"T_1000e_row2_col8\" class=\"data row2 col8\" >enp8s0</td>\n",
       "      <td id=\"T_1000e_row2_col9\" class=\"data row2 col9\" >enp8s0</td>\n",
       "      <td id=\"T_1000e_row2_col10\" class=\"data row2 col10\" >None</td>\n",
       "      <td id=\"T_1000e_row2_col11\" class=\"data row2 col11\" >4</td>\n",
       "    </tr>\n",
       "    <tr>\n",
       "      <td id=\"T_1000e_row3_col0\" class=\"data row3 col0\" >switch-net1_nic-p1</td>\n",
       "      <td id=\"T_1000e_row3_col1\" class=\"data row3 col1\" >p1</td>\n",
       "      <td id=\"T_1000e_row3_col2\" class=\"data row3 col2\" >switch</td>\n",
       "      <td id=\"T_1000e_row3_col3\" class=\"data row3 col3\" >net1</td>\n",
       "      <td id=\"T_1000e_row3_col4\" class=\"data row3 col4\" >100</td>\n",
       "      <td id=\"T_1000e_row3_col5\" class=\"data row3 col5\" >config</td>\n",
       "      <td id=\"T_1000e_row3_col6\" class=\"data row3 col6\" ></td>\n",
       "      <td id=\"T_1000e_row3_col7\" class=\"data row3 col7\" >2A:77:C8:60:D3:BF</td>\n",
       "      <td id=\"T_1000e_row3_col8\" class=\"data row3 col8\" >enp7s0</td>\n",
       "      <td id=\"T_1000e_row3_col9\" class=\"data row3 col9\" >enp7s0</td>\n",
       "      <td id=\"T_1000e_row3_col10\" class=\"data row3 col10\" >None</td>\n",
       "      <td id=\"T_1000e_row3_col11\" class=\"data row3 col11\" >4</td>\n",
       "    </tr>\n",
       "  </tbody>\n",
       "</table>\n"
      ],
      "text/plain": [
       "<pandas.io.formats.style.Styler at 0x7f4ce2897190>"
      ]
     },
     "metadata": {},
     "output_type": "display_data"
    },
    {
     "name": "stdout",
     "output_type": "stream",
     "text": [
      "\n",
      "Time to print interfaces 344 seconds\n"
     ]
    },
    {
     "data": {
      "text/plain": [
       "'db7a25ba-ec38-4c95-84dd-aa34880eac59'"
      ]
     },
     "execution_count": 11,
     "metadata": {},
     "output_type": "execute_result"
    }
   ],
   "source": [
    "#Submit Slice Request\n",
    "slice.submit()"
   ]
  },
  {
   "cell_type": "markdown",
   "id": "865e6b9c-3e59-4eac-81f5-1674eebe3e24",
   "metadata": {},
   "source": [
    "# Step 4: Installing the required packages\n",
    "In this step, we will install the required packages to run the labs. Specifically, we will install the BMv2 software switch and its control plane, the P4 compiler (p4c), and net-tools.\n"
   ]
  },
  {
   "cell_type": "markdown",
   "id": "db92961c-369f-4e13-8921-b6ff6c974ad3",
   "metadata": {},
   "source": [
    "## Step 4.1 Installing BMv2\n",
    "The BMv2 software switch will be installed on the switch node. We will upload the script [scripts/install_bmv2.sh](./scripts/install_bmv2.sh) to the switch and execute it"
   ]
  },
  {
   "cell_type": "code",
   "execution_count": 4,
   "id": "3ba26943-2f8e-4c9f-8944-8ba7b3efdf85",
   "metadata": {},
   "outputs": [],
   "source": [
    "switch = slice.get_node(name=\"switch\")     \n",
    "switch.upload_file('scripts/install_bmv2.sh', 'install_bmv2.sh')\n",
    "stdout, stderr = switch.execute(f'chmod +x install_bmv2.sh &&  ./install_bmv2.sh',quiet=True)"
   ]
  },
  {
   "cell_type": "markdown",
   "id": "e2c7ebaa-aa9e-43a8-9292-593a85dd6dc3",
   "metadata": {
    "tags": []
   },
   "source": [
    "## Step 4.2 Installing net-tools\n",
    "The net-tools package will be installed on the switch, server1 and server2 nodes. This package will allow us to use the ifconfig and the arp commands "
   ]
  },
  {
   "cell_type": "code",
   "execution_count": 7,
   "id": "23cacc52-8185-40f1-8eaf-b391ce1b720e",
   "metadata": {},
   "outputs": [],
   "source": [
    "server1 = slice.get_node(name=\"server1\")\n",
    "server2 = slice.get_node(name=\"server2\")\n",
    "stdout, stderr = server1.execute(f'sudo apt-get install -y net-tools', quiet=True)\n",
    "stdout, stderr = server2.execute(f'sudo apt-get install -y net-tools', quiet=True)\n",
    "stdout, stderr = switch.execute(f'sudo apt-get install -y net-tools', quiet=True)"
   ]
  },
  {
   "cell_type": "markdown",
   "id": "1c97b66b-0723-4bdd-9677-c02b430b5d44",
   "metadata": {},
   "source": [
    "## Step 4.3 Installing scapy\n",
    "Installing scapy to be able to craft and send raw packets on the servers\n"
   ]
  },
  {
   "cell_type": "code",
   "execution_count": 14,
   "id": "e0e47072-8f02-4285-8ea3-bf6fa5977d77",
   "metadata": {},
   "outputs": [],
   "source": [
    "stdout, stderr = server1.execute(f'sudo apt-get update && sudo apt-get install -y python3-scapy', quiet=True)\n",
    "stdout, stderr = server2.execute(f'sudo apt-get update && sudo apt-get install -y python3-scapy', quiet=True)"
   ]
  },
  {
   "cell_type": "markdown",
   "id": "8edae1d9-dc1b-4a34-a1f7-f2533d11c908",
   "metadata": {},
   "source": [
    "# Step 5: Assigning IP and MAC addresses\n",
    "In this step, we will assign IPv4 addresses to the interfaces of the servers and the switch. We will also hardcode the MAC addresses. "
   ]
  },
  {
   "cell_type": "markdown",
   "id": "956741f7-de30-4bdd-afd2-e4598b6cc808",
   "metadata": {
    "tags": []
   },
   "source": [
    "## Step 5.1: Get interfaces names\n",
    "In this step we will get the interface names so that we can assign IP addresses to them. Map the printed interface names to those seen in this figure:\n",
    "\n",
    "<img src=\"./labs_files/lab1/figs/interfaces.PNG\" width=\"550px\"><br>"
   ]
  },
  {
   "cell_type": "code",
   "execution_count": 15,
   "id": "367b34bb-baef-4d39-9041-ed346b34d990",
   "metadata": {},
   "outputs": [
    {
     "name": "stdout",
     "output_type": "stream",
     "text": [
      "server1_iface: enp6s0\n",
      "server2_iface: enp7s0\n",
      "switch_iface1: enp7s0\n",
      "switch_iface2: enp8s0\n"
     ]
    }
   ],
   "source": [
    "node1_iface = server1.get_interface(network_name='net1') \n",
    "server1_iface_name = node1_iface.get_device_name()\n",
    "print(f'server1_iface: {server1_iface_name}')\n",
    "\n",
    "node2_iface = server2.get_interface(network_name='net2') \n",
    "server2_iface_name = node2_iface.get_device_name()\n",
    "print(f'server2_iface: {server2_iface_name}')\n",
    "\n",
    "switch_iface1 = switch.get_interface(network_name='net1') \n",
    "switch_iface1_name = switch_iface1.get_device_name()\n",
    "print(f'switch_iface1: {switch_iface1_name}')\n",
    "\n",
    "switch_iface2 = switch.get_interface(network_name='net2') \n",
    "switch_iface2_name = switch_iface2.get_device_name()\n",
    "print(f'switch_iface2: {switch_iface2_name}')"
   ]
  },
  {
   "cell_type": "markdown",
   "id": "42f0264f-7b70-4533-838e-a5671858da5f",
   "metadata": {
    "tags": []
   },
   "source": [
    "## Step 5.2: Turning all interfaces up\n",
    "In this step, we will use the ip link command to turn the interfaces up\n",
    "\n",
    "<img src=\"./labs_files/lab1/figs/interfaces_up.PNG\" width=\"550px\"><br>"
   ]
  },
  {
   "cell_type": "code",
   "execution_count": 16,
   "id": "21a2c265-a7ca-4a06-a8f0-b8023afaf779",
   "metadata": {
    "tags": []
   },
   "outputs": [],
   "source": [
    "stdout, stderr = server1.execute(f'sudo ip link set dev {server1_iface_name} up', quiet=True)\n",
    "stdout, stderr = server2.execute(f'sudo ip link set dev {server2_iface_name} up', quiet=True)\n",
    "stdout, stderr = switch.execute(f'sudo ip link set dev {switch_iface1_name} up', quiet=True)\n",
    "stdout, stderr = switch.execute(f'sudo ip link set dev {switch_iface2_name} up', quiet=True)"
   ]
  },
  {
   "cell_type": "markdown",
   "id": "5275dd72-a36b-4fc9-9c67-5948d465a332",
   "metadata": {
    "tags": []
   },
   "source": [
    "## Step 5.3: Hardcode MAC addresses\n",
    "For simplicity, we will use the following MAC addresses for the interfaces:\n",
    "<ul>\n",
    "    <li> server1_iface_MAC = '00:00:00:00:00:01' (shown as 00:01 in the figure below) </li>\n",
    "    <li>switch_iface1_MAC = '00:00:00:00:00:02' (shown as 00:02 in the figure below)</li>\n",
    "    <li>switch_iface2_MAC = '00:00:00:00:00:03' (shown as 00:03 in the figure below)</li>\n",
    "    <li>server2_iface_MAC = '00:00:00:00:00:04' (shown as 00:04 in the figure below)</li>\n",
    "</ul>\n",
    "\n",
    "<img src=\"./labs_files/lab1/figs/mac_addresses.PNG\" width=\"550px\"><br>"
   ]
  },
  {
   "cell_type": "code",
   "execution_count": 17,
   "id": "7d7f7870-b447-4fb9-adb9-c97fb8d8dc23",
   "metadata": {
    "tags": []
   },
   "outputs": [],
   "source": [
    "server1_iface_MAC = '00:00:00:00:00:01'\n",
    "switch_iface1_MAC = '00:00:00:00:00:02'\n",
    "switch_iface2_MAC = '00:00:00:00:00:03'\n",
    "server2_iface_MAC = '00:00:00:00:00:04'"
   ]
  },
  {
   "cell_type": "markdown",
   "id": "79d5bc5b-91f1-4097-a2b3-71c47259599e",
   "metadata": {},
   "source": [
    "## Step 5.4 Configuring the IP and MAC addresses on server1_iface and switch_iface1\n",
    "\n",
    "We will use the network 192.168.1.0/24 between Site1 and Site2. We will assign the IP address 192.168.1.10 to server1's interface and 192.168.1.1 to its neighboring interface on the switch.\n",
    "\n",
    "<img src=\"./labs_files/lab1/figs/IPs_1.PNG\" width=\"550px\"><br>"
   ]
  },
  {
   "cell_type": "code",
   "execution_count": 18,
   "id": "30979a1c-36b7-4a9b-9eb5-0d8964db1ce2",
   "metadata": {
    "tags": []
   },
   "outputs": [],
   "source": [
    "server1 = slice.get_node(name=\"server1\")     \n",
    "\n",
    "server1_switch_subnet = \"192.168.1.0/24\"\n",
    "server1_ip = '192.168.1.10/24'\n",
    "switch_ip1 = '192.168.1.1/24'\n",
    "\n",
    "stdout, stderr = server1.execute(f'sudo ifconfig {server1_iface_name} {server1_ip}')\n",
    "stdout, stderr = switch.execute(f'sudo ifconfig {switch_iface1_name} {switch_ip1}')\n",
    "\n",
    "stdout, stderr = server1.execute(f'sudo ifconfig {server1_iface_name} hw ether {server1_iface_MAC}')\n",
    "stdout, stderr = switch.execute(f'sudo ifconfig {switch_iface1_name} hw ether {switch_iface1_MAC}')"
   ]
  },
  {
   "cell_type": "markdown",
   "id": "371a4689-324a-4a1d-9473-096682eb63f7",
   "metadata": {},
   "source": [
    "## Step 5.5: Configuring the IP and MAC addresses on switch_iface2 and server2_iface\n",
    "\n",
    "We will use the network 192.168.2.0/24 between Site2 and Site3. We will assign the IP address 192.168.2.10 to server2's interface and 192.168.2.1 to its neighboring interface on the switch.\n",
    "\n",
    "<img src=\"./labs_files/lab1/figs/IPs_2.PNG\" width=\"550px\"><br>"
   ]
  },
  {
   "cell_type": "code",
   "execution_count": 19,
   "id": "bac1c500-6f71-4aa9-b8fa-99d608a0bff6",
   "metadata": {
    "tags": []
   },
   "outputs": [],
   "source": [
    "server2 = slice.get_node(name=\"server2\")     \n",
    "\n",
    "server2_switch_subnet = \"192.168.2.0/24\"\n",
    "server2_ip = '192.168.2.10/24'\n",
    "switch_ip2 = '192.168.2.1/24'\n",
    "\n",
    "stdout, stderr = server2.execute(f'sudo ifconfig {server2_iface_name} {server2_ip}')\n",
    "stdout, stderr = switch.execute(f'sudo ifconfig {switch_iface2_name} {switch_ip2}')\n",
    "\n",
    "stdout, stderr = server2.execute(f'sudo ifconfig {server2_iface_name} hw ether {server2_iface_MAC}')\n",
    "stdout, stderr = switch.execute(f'sudo ifconfig {switch_iface2_name} hw ether {switch_iface2_MAC}')"
   ]
  },
  {
   "cell_type": "markdown",
   "id": "ed199b6d-f341-4f24-9c0b-a64631ece324",
   "metadata": {},
   "source": [
    "# Step 6: Configure forwarding and routing"
   ]
  },
  {
   "cell_type": "markdown",
   "id": "c90a6594-ea6e-4d87-9925-3baf5571096c",
   "metadata": {},
   "source": [
    "## Step 6.1: Enable forwarding on the switch\n",
    "\n",
    "The command \"sudo sysctl -w net.ipv4.ip_forward=1\" is used to enable IP forwarding on a Linux system.\n",
    "\n",
    "IP forwarding is a feature that allows a system to act as a router by forwarding network packets from one network interface to another. By default, IP forwarding is usually disabled on Linux systems for security reasons. \n",
    "\n",
    "The command will be executed on the switch device."
   ]
  },
  {
   "cell_type": "code",
   "execution_count": 38,
   "id": "0b0b5f62-4ac8-486b-b0a6-e8e468161a31",
   "metadata": {},
   "outputs": [],
   "source": [
    "command = 'sudo sysctl -w net.ipv4.ip_forward=1' \n",
    "stdout, stderr = switch.execute(command, quiet=True)"
   ]
  },
  {
   "cell_type": "markdown",
   "id": "6a4e3170-f17f-495e-bd2c-1361bc1d2317",
   "metadata": {},
   "source": [
    "## Step 6.2: Delete routing entries for the routes to force traffic to go through the BMv2 switch\n",
    "\n",
    "In this step, we are deleting the routes on the switch's routing table in Linux. By deleting the routes, the packets will go through the BMv2 switch instead of being forwarded by the kernel"
   ]
  },
  {
   "cell_type": "code",
   "execution_count": 21,
   "id": "d32e28ee-d890-4ee0-bf1c-d6b6eedfb9c0",
   "metadata": {},
   "outputs": [],
   "source": [
    "stdout, stderr = switch.execute(f'sudo ip route del {server1_switch_subnet}', quiet=True)\n",
    "stdout, stderr = switch.execute(f'sudo ip route del {server2_switch_subnet}', quiet=True)"
   ]
  },
  {
   "cell_type": "markdown",
   "id": "c2dc3837-d493-48c0-92b8-244296e166ee",
   "metadata": {},
   "source": [
    "## Step 6.3: Configure routing\n",
    "\n",
    "In this step, we will configure static routes on server1 and server2. \n",
    "<ul>\n",
    "    <li> For server1, we will add a route to reach the network 192.168.2.0/24 via 192.168.1.1 </li>\n",
    "    <li> For server2, we will add a route to reach the network 192.168.1.0/24 via 192.168.2.1 </li>\n",
    "</ul>\n",
    "\n",
    "<img src=\"./labs_files/lab1/figs/routing.PNG\" width=\"550px\"><br>"
   ]
  },
  {
   "cell_type": "code",
   "execution_count": 22,
   "id": "69cdfdf5-011e-45c5-bab1-da388e4427a0",
   "metadata": {},
   "outputs": [],
   "source": [
    "gw1 = switch_ip1.split('/')[0]\n",
    "gw2 = switch_ip2.split('/')[0]\n",
    "stdout, stderr = server1.execute(f'sudo ip route add {server2_switch_subnet} via {gw1}')\n",
    "stdout, stderr = server2.execute(f'sudo ip route add {server1_switch_subnet} via {gw2}')"
   ]
  },
  {
   "cell_type": "markdown",
   "id": "15edef9d-f7a5-4994-9d97-1a4b036a97be",
   "metadata": {
    "tags": []
   },
   "source": [
    "## Step 6.4: Configure ARP\n",
    "\n",
    "In this step, we will configure static ARP entries on server1 and server2. The reason we are doing this is because the switch does not process ARP packets unless programmed to. To make sure that ARP packets are not sent towards the switch, we will hardcode the MACs on the servers.\n",
    "\n",
    "For each server, we will add an ARP entry to its switch's neighboring interface."
   ]
  },
  {
   "cell_type": "code",
   "execution_count": 23,
   "id": "7bbf2b87-f92b-47c6-a6a7-4bae0a0a52a6",
   "metadata": {},
   "outputs": [],
   "source": [
    "stdout, stderr = server1.execute(f'sudo arp -s {gw1} {switch_iface1_MAC}')\n",
    "stdout, stderr = server2.execute(f'sudo arp -s {gw2} {switch_iface2_MAC}')"
   ]
  },
  {
   "cell_type": "markdown",
   "id": "02919ce9-ab5f-4f75-a0e0-08335a8d3b93",
   "metadata": {},
   "source": [
    "# Step 7: Defining a table with exact match lookup\n",
    "   \n",
    "This section demonstrates how to implement a simple table in P4 that uses exact matching on the destination IP address of the packet. When there is a match, the switch forwards the packet from a certain port. Otherwise, the switch drops the packet.\n"
   ]
  },
  {
   "cell_type": "markdown",
   "id": "2b571c06-bfd5-464a-acf4-d28845c8e840",
   "metadata": {
    "tags": []
   },
   "source": [
    "# Step 7.1: Programming the exact table in the ingress block\n",
    "\n",
    "Click on [ingress.p4](./labs_files/lab4/src/ingress.p4) to open the file in the editor.\n",
    "\n",
    "<img src=\"./labs_files/lab4/figs/ingress_empty.PNG\" width=\"550px\"><br>\n",
    "\n",
    "We can see that the ingress.p4 declares a control block named MyIngress. Note that the body of the control block is empty. Our objective is to define a P4 table, its actions, and then invoke them inside the block.\n",
    "\n",
    "\n",
    "We will start by defining the possible actions that a table will call. In this simple forwarding program, we have two actions:\n",
    "\n",
    "<ul>\n",
    "        <li> forward: This action defines a set of basic operations on a packet header. Such operations are defined as follows: 1) Updating the egress port so the packet is forwarded to its destination through the correct port. 2) Updating the source MAC address with the packet’s previous destination MAC address. 3) Changing the destination MAC address of the packet with the one corresponding to the next hop. 4) Decrementing the time-to-live (TTL) field in the IPv4 header. </li>\n",
    "        <li> drop: this action will be used to drop the packet. </li>\n",
    "</ul>\n",
    "\n",
    "<hr>\n",
    "\n",
    "The following code fragment describes the behavior of the forward action. Insert the code below inside the MyIngress control block\n",
    "\n",
    "    action forward(macAddr_t dstAddr, egressSpec_t port){\n",
    "        standard_metadata.egress_spec = port;\n",
    "        hdr.ethernet.srcAddr = hdr.ethernet.dstAddr;\n",
    "        hdr.ethernet.dstAddr = dstAddr;\n",
    "        hdr.ipv4.ttl = hdr.ipv4.ttl - 1;\n",
    "    }\n",
    "\n",
    "<img src=\"./labs_files/lab4/figs/forward.png\" width=\"550px\"><br>\n",
    "\n",
    "The action forward accepts as parameters the next hop’s MAC address (i.e., macAddr_t dstAddr) and the port number (i.e., egressSpec_t port) to be used by the switch to forward the packet. Note that egressSpec_t is just a typedef that corresponds to bit<9> and macAddr_t is a typedef that corresponds to bit<48>. These types are defined in the headers.p4 file. \n",
    "\n",
    "The standard_metadata is an instance of the standard_metadata_t struct provided by the V1Model1. This struct contains intrinsic metadata used in packet processing and in more advanced features. For example, to determine the port on which a packet arrives, we can use the ingress_port field in the standard_metadata (i.e., standard_metadata.ingress_port). Similarly, the egress port egress_spec field of the standard_metadata defines the egress port. Line 12 shows how to assign the egress port to forward an incoming packet to its destination.\n",
    "\n",
    "To modify header fields inside the packet, we refer to the field name based on where it exists inside the headers. Recall that the names of the headers and the fields are defined by the programmer. The file headers.p4 defines the program’s headers. Line 13 shows how we are assigning the destination MAC address of the packet (i.e., hdr.ethernet.dstAddr) to be the new source MAC of the packet (i.e., hdr.ethernet.srcAddr). Line 14 shows how we are assigning the destination MAC address which is provided as a parameter (assigned later in the control plane) to be the new destination MAC of the packet. \n",
    "\n",
    "It is possible in P4 to perform basic arithmetic operations on header fields and other variables. In line 15, we are decrementing the TTL value of the header field. \n",
    "\n",
    "<hr>\n",
    "\n",
    "Now we will define the drop action. Insert the code below inside the MyIngress control block\n",
    "\n",
    "    action drop() {\n",
    "        mark_to_drop(standard_metadata);\n",
    "    }\n",
    "\n",
    "<img src=\"./labs_files/lab4/figs/drop.png\" width=\"550px\"><br>\n",
    "\n",
    "The drop() action invokes a primitive action mark_to_drop() that modifies the standard_metadata.egress_spec to an implementation-specific special value that causes the packet to be dropped.\n",
    "\n",
    "<hr>\n",
    "\n",
    "Now we will define the table named ipv4_exact. Write the following piece of code inside the body of the MyIngress control block\n",
    "\n",
    "    table ipv4_exact {\n",
    "\n",
    "    }\n",
    "\n",
    "<img src=\"./labs_files/lab4/figs/table_ipv4_exact.png\" width=\"550px\"><br>\n",
    "\n",
    "Tables require keys and actions. In the next step we will define a key.\n",
    "\n",
    "<hr>\n",
    "\n",
    "Add the following code inside the forwarding table. \n",
    "\n",
    "    key = {\n",
    "        hdr.ipv4.dstAddr: exact;\n",
    "    }\n",
    "\n",
    "<img src=\"./labs_files/lab4/figs/ipv4_exact_key.png\" width=\"550px\"><br>\n",
    "\n",
    "The inserted code specifies that the destination IPv4 address of a packet (hdr.ipv4.dstAddr) will be used as a key in the table. Also, the match type is exact, denoting that the value of the destination IP address will be matched as is against a value specified later in the control plane.\n",
    "\n",
    "<hr>\n",
    "\n",
    "Add the following code inside the forwarding table to list the possible actions that will be used in this table.\n",
    "\n",
    "    actions = {\n",
    "        forward;\n",
    "        drop;\n",
    "    }\n",
    "\n",
    "<img src=\"./labs_files/lab4/figs/actions_list.png\" width=\"550px\"><br>\n",
    "\n",
    "The code above defines the possible actions.\n",
    "\n",
    "<hr>\n",
    "\n",
    "Add the following code inside the forwarding table. The size keyword specifies the maximum number of entries that can be inserted into this table from the control plane. The default_action keyword specifies which default action to be invoked whenever there is a miss.\n",
    "\n",
    "    size = 1024;\n",
    "    default_action = drop();\n",
    "\n",
    "<img src=\"./labs_files/lab4/figs/size_def_action.png\" width=\"550px\"><br>\n",
    "\n",
    "The code above denotes that a maximum of 1024 rules can be inserted into the table, and the default action to take whenever we have a miss is the drop() action. \n",
    "\n",
    "**Save the changes by pressing Ctrl+s**."
   ]
  },
  {
   "cell_type": "markdown",
   "id": "2490bcce-4327-4762-ab59-4975138bc50c",
   "metadata": {
    "tags": []
   },
   "source": [
    "# Step 8: Defining a table with LPM matching\n",
    "\n",
    "This section demonstrates how to implement a simple table in P4 that uses LPM matching on the packet’s destination IP address. When there is a match, the switch forwards the packet from a certain port. Otherwise, the switch drops the packet.\n",
    "\n",
    "## Step 8.1 Programming the ingress block\n",
    "\n",
    "Now we will define a table that performs a LPM on the destination IP address of the packet. The table will be invoking the forward and the drop actions, and hence, those actions will be listed inside the table definition\n",
    "\n",
    "    table ipv4_lpm {\n",
    "        key = {\n",
    "            hdr.ipv4.dstAddr: lpm;\n",
    "        }\n",
    "        actions = {\n",
    "            forward;\n",
    "            drop;\n",
    "        }\n",
    "        size = 1024;\n",
    "        default_action = drop();\n",
    "    }\n",
    "\n",
    "<img src=\"./labs_files/lab4/figs/ipv4_lpm.png\" width=\"550px\"><br>\n",
    "\n",
    "<hr>\n",
    "\n",
    "Add the following code at the end of the MyIngress block. The apply block defines the sequential flow of packet processing. It is required in every control block, otherwise the program will not compile. It describes the sequence of tables to be invoked, in addition to other packet processing instructions\n",
    "\n",
    "    apply {\n",
    "        if(hdr.ipv4.isValid()) {\n",
    "            if(ipv4_exact.apply().miss) {\n",
    "                ipv4_lpm.apply();\n",
    "            }\n",
    "        }\n",
    "    }\n",
    "<img src=\"./labs_files/lab4/figs/apply.png\" width=\"550px\"><br>\n",
    "\n",
    "\n",
    "The logic of the code above is as follows: if the packet has an IPv4 header, apply the ipv4_exact table which performs an exact match lookup on the destination IP address. If there is no hit (i.e., the table does not contain a rule that corresponds to this IPv4 address, denoted by the miss keyword), apply the ipv4_lpm table, which matches the destination IP address of the packet against a network address. \n",
    "\n",
    "**Save the changes by pressing Ctrl+s**."
   ]
  },
  {
   "cell_type": "markdown",
   "id": "d6e192e3-0755-4e4b-92fb-5ec5f2ba2b4e",
   "metadata": {
    "tags": []
   },
   "source": [
    "# Step 9: Uploading and running the P4 program on the switch\n",
    "\n",
    "In this step, we upload the P4 program to the switch, compile it, and start the switch daemon. "
   ]
  },
  {
   "cell_type": "markdown",
   "id": "0e9b626c-8ef1-4073-9c7b-2fdce832e3cd",
   "metadata": {
    "tags": []
   },
   "source": [
    "## Step 9.1: Uploading the P4 program\n",
    "\n",
    "The P4 program [basic.p4](labs_files/lab4/src/basic.p4) is located under lab_files/lab4/src.\n",
    "\n",
    "We will be uploading the whole directory since it includes other P4 files. "
   ]
  },
  {
   "cell_type": "code",
   "execution_count": 95,
   "id": "929a0f19-cece-40cf-a474-6bb61d9a81c8",
   "metadata": {
    "tags": []
   },
   "outputs": [
    {
     "data": {
      "text/plain": [
       "'success'"
      ]
     },
     "execution_count": 95,
     "metadata": {},
     "output_type": "execute_result"
    }
   ],
   "source": [
    "switch = slice.get_node(name='switch')        \n",
    "switch.upload_directory('labs_files/lab4/src', '/home/ubuntu/lab4')"
   ]
  },
  {
   "cell_type": "markdown",
   "id": "01cdd329-9f46-43f9-9937-c17f9d5895e7",
   "metadata": {},
   "source": [
    "## Step 9.2: Compiling the P4 program\n",
    "\n",
    "In this step, we will use the p4c compiler to compile the program.\n",
    "\n",
    "Launch a new terminal by clicking on \"File\" -> \"New\" -> \"Terminal\".\n",
    "\n",
    "<img src=\"./labs_files/lab4/figs/terminal.gif\" width=\"600px\"><br>\n",
    "\n",
    "Copy the output of the command below and paste into the terminal to enter to the switch."
   ]
  },
  {
   "cell_type": "code",
   "execution_count": 25,
   "id": "a15e7509-3f1f-4e1e-ac6e-114768ce10a8",
   "metadata": {},
   "outputs": [
    {
     "data": {
      "text/plain": [
       "'ssh -i /home/fabric/work/fabric_config/slice_key -F /home/fabric/work/fabric_config/ssh_config ubuntu@2001:400:a100:3030:f816:3eff:fee6:11fc'"
      ]
     },
     "execution_count": 25,
     "metadata": {},
     "output_type": "execute_result"
    }
   ],
   "source": [
    "switch.get_ssh_command()"
   ]
  },
  {
   "cell_type": "code",
   "execution_count": 11,
   "id": "e93b5bd0-066b-4ff7-8f72-c05a77c863b6",
   "metadata": {},
   "outputs": [
    {
     "data": {
      "text/plain": [
       "'ssh -i /home/fabric/work/fabric_config/slice_key -F /home/fabric/work/fabric_config/ssh_config ubuntu@132.249.252.144'"
      ]
     },
     "execution_count": 11,
     "metadata": {},
     "output_type": "execute_result"
    }
   ],
   "source": [
    "server1.get_ssh_command()"
   ]
  },
  {
   "cell_type": "code",
   "execution_count": 12,
   "id": "6edc76ab-e375-491d-9040-9d36ba3c6090",
   "metadata": {},
   "outputs": [
    {
     "data": {
      "text/plain": [
       "'ssh -i /home/fabric/work/fabric_config/slice_key -F /home/fabric/work/fabric_config/ssh_config ubuntu@2620:0:c80:1001:f816:3eff:fe1c:9aa6'"
      ]
     },
     "execution_count": 12,
     "metadata": {},
     "output_type": "execute_result"
    }
   ],
   "source": [
    "server2.get_ssh_command()"
   ]
  },
  {
   "cell_type": "markdown",
   "id": "bc2209a4-ba1c-4bfb-8298-9ffb129ac8bf",
   "metadata": {},
   "source": [
    "Run the following commands in the terminal:\n",
    "    \n",
    "    sudo su\n",
    "    p4c lab4/src/basic.p4\n",
    "    simple_switch -i 0@ens8 -i 1@ens7 basic.json --log-console\n",
    "    \n",
    "<img src=\"./labs_files/lab4/figs/daemon.png\" width=\"750px\"><br>"
   ]
  },
  {
   "cell_type": "markdown",
   "id": "c96a9dc5-4412-426a-bf66-6f7b30f54215",
   "metadata": {
    "tags": []
   },
   "source": [
    "## Step 9.3: Populating table from the control plane\n",
    "\n",
    "In this step we will populate the forwarding table by executing a script. We will learn how to populate the tables manually in another lab.\n",
    "\n",
    "The following rules will be added:\n",
    "\n",
    "<ul>\n",
    "    <li>Exact match: 192.168.2.20   => Output port 1\"</li>\n",
    "    <li>LPM match  : 192.168.1.0/24 => Output port 0\"</li>\n",
    "    <li>LPM match  : 192.168.2.0/24 => Output port 1\"</li>\n",
    "</ul>"
   ]
  },
  {
   "cell_type": "code",
   "execution_count": 96,
   "id": "359e7d84-5089-4611-8c10-e29dbe4c74a6",
   "metadata": {
    "tags": []
   },
   "outputs": [
    {
     "name": "stdout",
     "output_type": "stream",
     "text": [
      "Obtaining JSON from switch...\n",
      "Done\n",
      "Control utility for runtime P4 table manipulation\n",
      "RuntimeCmd: Adding entry to exact match table MyIngress.ipv4_exact\n",
      "match key:           EXACT-c0:a8:02:0a\n",
      "action:              MyIngress.forward\n",
      "runtime data:        00:00:00:00:00:04\t00:01\n",
      "Entry has been added with handle 0\n",
      "RuntimeCmd: \n",
      "Obtaining JSON from switch...\n",
      "Done\n",
      "Control utility for runtime P4 table manipulation\n",
      "RuntimeCmd: Adding entry to lpm match table MyIngress.ipv4_lpm\n",
      "match key:           LPM-c0:a8:01:00/24\n",
      "action:              MyIngress.forward\n",
      "runtime data:        00:00:00:00:00:01\t00:00\n",
      "Entry has been added with handle 0\n",
      "RuntimeCmd: \n",
      "Obtaining JSON from switch...\n",
      "Done\n",
      "Control utility for runtime P4 table manipulation\n",
      "RuntimeCmd: Adding entry to lpm match table MyIngress.ipv4_lpm\n",
      "match key:           LPM-c0:a8:02:00/24\n",
      "action:              MyIngress.forward\n",
      "runtime data:        00:00:00:00:00:04\t00:01\n",
      "Entry has been added with handle 1\n",
      "RuntimeCmd: \n"
     ]
    }
   ],
   "source": [
    "switch.upload_file('labs_files/lab4/rules.sh', 'rules.sh')\n",
    "stdout, stderr = switch.execute('chmod +x rules.sh && ./rules.sh')"
   ]
  },
  {
   "cell_type": "markdown",
   "id": "1eac9af2-c54d-4c64-a38e-239b7f1e0cc4",
   "metadata": {},
   "source": [
    "## Step 9.4: Sending a packet from server1 to the switch\n",
    "\n",
    "In this step, we will send a packet to 192.168.2.10. Based on our rules in the previous step, the exact match table will hit. "
   ]
  },
  {
   "cell_type": "code",
   "execution_count": 97,
   "id": "2cac1cf0-ef99-4df0-9972-d771c45264dd",
   "metadata": {},
   "outputs": [
    {
     "name": "stdout",
     "output_type": "stream",
     "text": [
      "sending on interface enp6s0 to 192.168.2.10\n",
      "###[ Ethernet ]### \n",
      "  dst       = 00:00:00:00:00:02\n",
      "  src       = 00:00:00:00:00:01\n",
      "  type      = IPv4\n",
      "###[ IP ]### \n",
      "     version   = 4\n",
      "     ihl       = 6\n",
      "     tos       = 0x0\n",
      "     len       = 56\n",
      "     id        = 1\n",
      "     flags     = \n",
      "     frag      = 0\n",
      "     ttl       = 64\n",
      "     proto     = tcp\n",
      "     chksum    = 0xd656\n",
      "     src       = 192.168.1.10\n",
      "     dst       = 192.168.2.10\n",
      "     \\options   \\\n",
      "      |###[ MRI ]### \n",
      "      |  copy_flag = 0\n",
      "      |  optclass  = control\n",
      "      |  option    = 31\n",
      "      |  length    = 4\n",
      "      |  count     = 0\n",
      "      |  \\swtraces  \\\n",
      "###[ TCP ]### \n",
      "        sport     = 1234\n",
      "        dport     = 4321\n",
      "        seq       = 0\n",
      "        ack       = 0\n",
      "        dataofs   = 5\n",
      "        reserved  = 0\n",
      "        flags     = S\n",
      "        window    = 8192\n",
      "        chksum    = 0xc694\n",
      "        urgptr    = 0\n",
      "        options   = []\n",
      "###[ Raw ]### \n",
      "           load      = '192.168.1.10'\n",
      "\n"
     ]
    }
   ],
   "source": [
    "server1.upload_file('labs_files/lab4/src/send_orig.py', 'send_orig.py')\n",
    "stdout, stderr = server1.execute(f'sudo python3 send_orig.py enp6s0 192.168.1.10 192.168.2.10 HelloWorld')"
   ]
  },
  {
   "cell_type": "code",
   "execution_count": 89,
   "id": "a9a38369-e5d3-47aa-a075-6aa234ba265c",
   "metadata": {},
   "outputs": [
    {
     "data": {
      "text/plain": [
       "<SFTPAttributes: [ size=1896 uid=1000 gid=1000 mode=0o100664 atime=1700100041 mtime=1700100553 ]>"
      ]
     },
     "execution_count": 89,
     "metadata": {},
     "output_type": "execute_result"
    }
   ],
   "source": [
    "server2.upload_file('labs_files/lab4/src/receive.py', 'receive.py')\n",
    "#stdout, stderr = server2.execute(f'sudo python3 receive.py')"
   ]
  },
  {
   "cell_type": "markdown",
   "id": "1cb0a50d-dbeb-441e-8aaa-7fe141833569",
   "metadata": {},
   "source": [
    "## Step 9.5: Inspect the logs on the switch\n",
    "\n",
    "Go back to the switch terminal and inspect the logs.\n",
    "\n",
    "<img src=\"./labs_files/lab4/figs/exact_hit.png\" width=\"850px\"><br>\n",
    "\n",
    "The figure above shows that we have a hit using exact match."
   ]
  },
  {
   "cell_type": "markdown",
   "id": "74c39bdb-e868-4594-aefb-6101db333c3e",
   "metadata": {},
   "source": [
    "## Step 9.6: Sending a packet from server1 to the switch\n",
    "\n",
    "In this step, we will send a packet to 192.168.2.10. Based on our rules in the previous step, the exact match table will miss, but the LPM table will hit. "
   ]
  },
  {
   "cell_type": "code",
   "execution_count": 19,
   "id": "c329617a-3174-4caf-b9fd-1fee3b3a9b45",
   "metadata": {},
   "outputs": [
    {
     "name": "stdout",
     "output_type": "stream",
     "text": [
      "sending on interface enp6s0 to 192.168.2.10\n",
      "###[ Ethernet ]### \n",
      "  dst       = 00:00:00:00:00:02\n",
      "  src       = 00:00:00:00:00:01\n",
      "  type      = IPv4\n",
      "###[ IP ]### \n",
      "     version   = 4\n",
      "     ihl       = 6\n",
      "     tos       = 0x0\n",
      "     len       = 56\n",
      "     id        = 1\n",
      "     flags     = \n",
      "     frag      = 0\n",
      "     ttl       = 64\n",
      "     proto     = tcp\n",
      "     chksum    = 0xd656\n",
      "     src       = 192.168.1.10\n",
      "     dst       = 192.168.2.10\n",
      "     \\options   \\\n",
      "      |###[ MRI ]### \n",
      "      |  copy_flag = 0\n",
      "      |  optclass  = control\n",
      "      |  option    = 31\n",
      "      |  length    = 4\n",
      "      |  count     = 0\n",
      "      |  \\swtraces  \\\n",
      "###[ TCP ]### \n",
      "        sport     = 1234\n",
      "        dport     = 4321\n",
      "        seq       = 0\n",
      "        ack       = 0\n",
      "        dataofs   = 5\n",
      "        reserved  = 0\n",
      "        flags     = S\n",
      "        window    = 8192\n",
      "        chksum    = 0xc694\n",
      "        urgptr    = 0\n",
      "        options   = []\n",
      "###[ Raw ]### \n",
      "           load      = '192.168.1.10'\n",
      "\n"
     ]
    }
   ],
   "source": [
    "stdout, stderr = server1.execute(f'sudo python3 send_orig.py enp6s0 192.168.1.10 192.168.2.10 HelloWorld')"
   ]
  },
  {
   "cell_type": "markdown",
   "id": "b2783fbe-5a0c-4aa3-a6c4-ff71c2f1ab0d",
   "metadata": {},
   "source": [
    "## Step 9.7: Inspect the logs on the switch\n",
    "\n",
    "Go back to the switch terminal and inspect the logs.\n",
    "\n",
    "<img src=\"./labs_files/lab4/figs/lpm_hit.png\" width=\"850px\"><br>\n",
    "\n",
    "The figure above shows that we have a miss using exact match and a hit using LPM match."
   ]
  },
  {
   "cell_type": "code",
   "execution_count": 3,
   "id": "dfa9b34c-cf1e-4c70-afba-f4219958c72a",
   "metadata": {},
   "outputs": [],
   "source": [
    "from datetime import datetime\n",
    "from datetime import timezone\n",
    "from datetime import timedelta\n",
    "\n",
    "# Set end date to 14 days from now #Expiring on Nov 11..\n",
    "end_date = (datetime.now(timezone.utc) + timedelta(days=14)).strftime(\"%Y-%m-%d %H:%M:%S %z\")\n",
    "slice.renew(end_date)"
   ]
  },
  {
   "cell_type": "markdown",
   "id": "e81e29fc-54c4-43b6-a5da-214840da90df",
   "metadata": {
    "tags": []
   },
   "source": [
    "## Step 10: Delete the Slice\n",
    "\n",
    "This concludes Lab 4. Please delete your slice when you are done with your experiment."
   ]
  },
  {
   "cell_type": "code",
   "execution_count": 31,
   "id": "a9e97816-e025-4fdd-817b-e7058d9f24c2",
   "metadata": {
    "tags": []
   },
   "outputs": [],
   "source": [
    "from fabrictestbed_extensions.fablib.fablib import FablibManager as fablib_manager\n",
    "fablib = fablib_manager()\n",
    "slice = fablib.get_slice(name=\"lab4\")\n",
    "slice.delete()"
   ]
  }
 ],
 "metadata": {
  "kernelspec": {
   "display_name": "Python 3 (ipykernel)",
   "language": "python",
   "name": "python3"
  },
  "language_info": {
   "codemirror_mode": {
    "name": "ipython",
    "version": 3
   },
   "file_extension": ".py",
   "mimetype": "text/x-python",
   "name": "python",
   "nbconvert_exporter": "python",
   "pygments_lexer": "ipython3",
   "version": "3.10.6"
  }
 },
 "nbformat": 4,
 "nbformat_minor": 5
}
