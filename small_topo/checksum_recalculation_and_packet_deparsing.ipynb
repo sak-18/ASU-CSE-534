{
 "cells": [
  {
   "cell_type": "markdown",
   "id": "ab5adb1a-770d-446f-8c45-582248410587",
   "metadata": {},
   "source": [
    "# Lab 6 - Checksum Recalculation and Packet Deparsing\n",
    "\n",
    "This lab describes how to recompute the checksum of a header. Recomputing the checksum is necessary if the packet header was modified by the P4 program. The lab also describes how a P4 program performs deparsing to emit headers. \n",
    "\n",
    "<img src=\"./labs_files/lab1/figs/fabric_topology.png\" width=\"550px\"><br>"
   ]
  },
  {
   "cell_type": "markdown",
   "id": "54f01323-f1ec-4eb6-b165-d587bdef7391",
   "metadata": {},
   "source": [
    "# Background\n",
    "\n",
    "## Introduction to checksums\n",
    "\n",
    "Several protocols use checksums to validate the integrity of the packet headers. A checksum is a small value derived from another data block, often through a checksum algorithm such as the Cyclic Redundancy Check (CRC). The checksum calculation and verification start with the sender calculating the checksum of the data before transmitting the packet. Then, the checksum value is inserted into the packet header. Upon receiving the packet, the receiver computes the checksum of the received packet using the same algorithm as the one used by the sender. If the calculated checksum value matches the one in the packet header, the packet is verified; otherwise, a transmission error has occurred. Incorrect checksums typically lead to dropping the packet by the switch.\n",
    "\n",
    "\n",
    "### Checksums in P4\n",
    "\n",
    "In a P4 program, the developer may change the packet headers. For example, if the program is implementing a routing function, then header fields such as the Time-to-live (TTL) must be modified. Any change to the header fields will cause the checksum value to change. Therefore, it is necessary to recompute the checksum in the P4 program in case modifications are made to the header fields. \n",
    "\n",
    "<img src=\"./labs_files/lab6/figs/snippet.png\" width=\"450px\"><br>\n",
    "\n",
    "The syntax for updating the checksum in P4 (V1Model) is as follows:\n",
    "\n",
    "    update_checksum(condition, data, checksum_output, algorithm)\n",
    "\n",
    "<ul>\n",
    "<li>condition: a condition that is evaluated before updating the checksum. If the condition is true, the checksum is updated. Otherwise, the checksum remains as it is in the packet. Here we often check if the header is valid (i.e., it was parsed or set to be valid by the programmer). For example, in Figure 1, the IPv4 header is checked if valid.</li>\n",
    "<li>data: the data whose checksum is to be computed. This typically includes the header fields of the protocol which uses the checksum. The example above shows the header fields of IPv4.</li>\n",
    "<li>checksum_output: the parameter that the checksum will be written to once it has been computed. In the example above, we are writing the resulting checksum value to the hdrChecksum field of IPv4.</li>\n",
    "<li>algorithm: the algorithm used by the protocol to compute the checksum. For example, for IPv4, the IETF RFC 7911 state that the checksum field is the 16-bit one’s complement of the one’s complement sum of all 16-bit words in the header. This checksum is implemented in the V1Model using the HashAlgorithm.csum16 hash function. </li>\n",
    "</ul>\n",
    "\n",
    "It is also possible in P4 to verify the checksum. The V1Model provides the checksum verification extern function verify_checksum which sets the checksum_error bit in the standard metadata in case the verification fails, causing the packet to be dropped. The syntax for the verify_checksum is the same as that of update_checksum described above.\n",
    "\n",
    "    verify_checksum(condition, data, checksum_output, algorithm)\n",
    "    \n",
    "## Deparsing\n",
    "\n",
    "The P4 program includes a deparser that specifies which headers are to be emitted. The deparser emits the headers and the payload of the original packet. Note that only the valid headers are emitted. A header is considered valid after it has been parsed in the P4 program or after the program explicitly validates the header with the function setValid(). \n",
    "\n",
    "The deparser is defined as a control block and is executed after finishing the packet processing by the other control blocks. Consider Figure 2. The deparser has a packet_out type in its parameters. The packet_out type includes the emit method which accepts the headers to be reassembled when the deparser constructs the outgoing packet. Note that the order of emitting packets' headers is important, and the headers are only emitted in case they are valid.\n",
    "\n",
    "<img src=\"./labs_files/lab6/figs/deparsing.png\" width=\"450px\"><br>\n"
   ]
  },
  {
   "cell_type": "markdown",
   "id": "a3b14494-a097-4a69-88a2-1e0baac727fb",
   "metadata": {
    "jp-MarkdownHeadingCollapsed": true,
    "tags": []
   },
   "source": [
    "# Step 1:  Configure the Environment\n",
    "\n",
    "Before running this notebook, you will need to configure your environment using the [Configure Environment](../../../configure.ipynb) notebook. Please stop here, open and run that notebook, then return to this notebook.\n",
    "\n",
    "If you are using the FABRIC JupyterHub many of the environment variables will be automatically configured for you.  You will still need to set your bastion username, upload your bastion private key, and set the path to where you put your bastion private key. Your bastion username and private key should already be in your possession.  \n",
    "\n",
    "If you are using the FABRIC API outside of the JupyterHub you will need to configure all of the environment variables. Defaults below will be correct in many situations but you will need to confirm your configuration.  If you have questions about this configuration, please contact the FABRIC admins using the [FABRIC User Forum](https://learn.fabric-testbed.net/forums/) \n",
    "\n",
    "More information about accessing your experiments through the FABRIC bastion hosts can be found [here](https://learn.fabric-testbed.net/knowledge-base/logging-into-fabric-vms/).\n",
    " "
   ]
  },
  {
   "cell_type": "markdown",
   "id": "a7944d6d-f5f9-40ae-badb-4dc2c90e373b",
   "metadata": {
    "tags": []
   },
   "source": [
    "# Step 2: Import the FABlib Library"
   ]
  },
  {
   "cell_type": "code",
   "execution_count": 1,
   "id": "6ae6b13d-afdf-422b-bf5d-63d06e526a10",
   "metadata": {},
   "outputs": [],
   "source": [
    "from fabrictestbed_extensions.fablib.fablib import FablibManager as fablib_manager\n",
    "fablib = fablib_manager()"
   ]
  },
  {
   "cell_type": "markdown",
   "id": "469d59b2-6d39-47b4-ac64-a68614cbb882",
   "metadata": {
    "tags": []
   },
   "source": [
    "# Step 3: Create the Experiment Slice\n",
    "\n",
    "The following creates three node with basic compute and networking capabilities. You build a slice by creating a new slice and adding resources to the slice. After you build the slice, you must submit a request for the slice to be instantiated.   "
   ]
  },
  {
   "cell_type": "markdown",
   "id": "441c7670-4221-4f7a-be6a-df49214141ff",
   "metadata": {
    "tags": []
   },
   "source": [
    "### Step 3.1: Create a slice\n",
    "The code below creates a new slice with the name \"lab6\""
   ]
  },
  {
   "cell_type": "code",
   "execution_count": 2,
   "id": "0202a524-b753-4859-9037-c49f410ee7d0",
   "metadata": {
    "tags": []
   },
   "outputs": [],
   "source": [
    "slice = fablib.new_slice(name=\"lab6\")"
   ]
  },
  {
   "cell_type": "markdown",
   "id": "982b3587-a231-4fbe-ba36-8d1fa67176c2",
   "metadata": {
    "tags": []
   },
   "source": [
    "### Step 3.2: Define the sites\n",
    "The code below requests three sites from FABRIC: MICH, STAR, and NCSA"
   ]
  },
  {
   "cell_type": "markdown",
   "id": "12eaa227-4a13-48d3-a744-2a7540a4b030",
   "metadata": {
    "tags": []
   },
   "source": [
    "<img src=\"./labs_files/lab1/figs/fabric_sites.png\" width=\"550px\"><br>"
   ]
  },
  {
   "cell_type": "code",
   "execution_count": 3,
   "id": "0fee3c44-13ce-4409-8cc2-b1799ad6eec3",
   "metadata": {
    "tags": []
   },
   "outputs": [
    {
     "name": "stdout",
     "output_type": "stream",
     "text": [
      "The selected sites are UCSD, STAR, NCSA\n"
     ]
    }
   ],
   "source": [
    "site1='UCSD'\n",
    "site2='STAR'\n",
    "site3='NCSA'\n",
    "\n",
    "print (f'The selected sites are {site1}, {site2}, {site3}') "
   ]
  },
  {
   "cell_type": "markdown",
   "id": "976bef7a-4b4d-4993-ad2d-254757b2b211",
   "metadata": {
    "tags": []
   },
   "source": [
    "### Step 3.3: Creating the nodes\n",
    "The code below creates three nodes: server1, switch, and server2. The servers (server1 and server2) use the following\n",
    "<ul>\n",
    "    <li> 4 CPU cores</li>\n",
    "    <li> 8GB RAM </li>\n",
    "    <li> 20GB disc size </li>\n",
    "    <li> Image: Ubuntu 20.04\n",
    "</ul>\n",
    "\n",
    "server1 will be created in site1 and server3 will be created in site3\n",
    "\n",
    "<img src=\"./labs_files/lab1/figs/creating_nodes.PNG\" width=\"550px\"><br>"
   ]
  },
  {
   "cell_type": "code",
   "execution_count": 4,
   "id": "f189fb51-7411-43e4-a28d-8f9c2f12ade4",
   "metadata": {
    "tags": []
   },
   "outputs": [],
   "source": [
    "server1 = slice.add_node(name=\"server1\", \n",
    "                      site=site1, \n",
    "                      cores=4, \n",
    "                      ram=8, \n",
    "                      disk=20, \n",
    "                      image='default_ubuntu_20')\n",
    "\n",
    "server2 = slice.add_node(name=\"server2\", \n",
    "                      site=site3, \n",
    "                      cores=4, \n",
    "                      ram=8, \n",
    "                      disk=20, \n",
    "                      image='default_ubuntu_20')"
   ]
  },
  {
   "cell_type": "markdown",
   "id": "d47e891a-1acc-47e7-87ab-121c05a7dca1",
   "metadata": {
    "tags": []
   },
   "source": [
    "### Step 3.4: Adding the interfaces to the servers\n",
    "The code below adds a Network Interface Card (NIC) to each server.\n",
    "\n",
    "<img src=\"./labs_files/lab1/figs/adding_nics.PNG\" width=\"550px\"><br>"
   ]
  },
  {
   "cell_type": "code",
   "execution_count": 5,
   "id": "57dc060a-c728-4c0c-aea5-097326c4384c",
   "metadata": {
    "tags": []
   },
   "outputs": [],
   "source": [
    "server1_iface = server1.add_component(model='NIC_Basic').get_interfaces()[0]\n",
    "server2_iface = server2.add_component(model='NIC_Basic').get_interfaces()[0]"
   ]
  },
  {
   "cell_type": "markdown",
   "id": "7c9c1468-abc9-4159-8a25-368d55a116d6",
   "metadata": {
    "tags": []
   },
   "source": [
    "### Step 3.5: Creating a node for the P4 switch\n",
    "The code below creates a node that will run the P4 switch. The node use the following\n",
    "<ul>\n",
    "    <li> 16 CPU cores</li>\n",
    "    <li> 8GB RAM </li>\n",
    "    <li> 40GB disc size </li>\n",
    "    <li> Image: Ubuntu 20.04\n",
    "</ul>\n",
    "\n",
    "The node will be created in site2\n",
    "\n",
    "<img src=\"./labs_files/lab1/figs/adding_switch.PNG\" width=\"550px\"><br>"
   ]
  },
  {
   "cell_type": "code",
   "execution_count": 6,
   "id": "925b125f-ddbe-4531-89ed-b9b0a3e3f58e",
   "metadata": {
    "tags": []
   },
   "outputs": [],
   "source": [
    "# Add a node\n",
    "switch = slice.add_node(name=\"switch\", \n",
    "                      site=site2, \n",
    "                      cores=32, \n",
    "                      ram=16, \n",
    "                      disk=40, \n",
    "                      image='default_ubuntu_20')"
   ]
  },
  {
   "cell_type": "markdown",
   "id": "130eaded-960d-49ed-bb47-641630e33598",
   "metadata": {},
   "source": [
    "### Step 3.6: Adding two interfaces to the switch\n",
    "The code below adds two Network Interface Cards (NICs) to the switch.\n",
    "\n",
    "<img src=\"./labs_files/lab1/figs/adding_switch_ports.PNG\" width=\"550px\"><br>"
   ]
  },
  {
   "cell_type": "code",
   "execution_count": 7,
   "id": "eb754ffc-1a51-4777-9cee-203c18d6ba90",
   "metadata": {},
   "outputs": [],
   "source": [
    "switch_iface1 = switch.add_component(model='NIC_Basic', name='net1_nic').get_interfaces()[0]\n",
    "switch_iface2 = switch.add_component(model='NIC_Basic', name='net2_nic').get_interfaces()[0]"
   ]
  },
  {
   "cell_type": "markdown",
   "id": "53baab9b-390d-4da8-8440-cd3356e56795",
   "metadata": {},
   "source": [
    "### Step 3.7: Connecting site1 and site2\n",
    "Create a site-to-site network between site1 and site2 connecting server1 and the P4 switch\n",
    "\n",
    "<img src=\"./labs_files/lab1/figs/connecting_nodes_server1_switch.PNG\" width=\"550px\"><br>"
   ]
  },
  {
   "cell_type": "code",
   "execution_count": 8,
   "id": "1c536c24-f44d-4e9c-952f-4f2cb3781126",
   "metadata": {},
   "outputs": [],
   "source": [
    "net1 = slice.add_l2network(name='net1', interfaces=[server1_iface, switch_iface1])"
   ]
  },
  {
   "cell_type": "markdown",
   "id": "190e029f-3f22-47b5-9840-d879905c0790",
   "metadata": {},
   "source": [
    "### Step 3.8: Connecting site2 and site3\n",
    "Create a site-to-site network between site2 and site3 connecting the P4 switch and server2\n",
    "\n",
    "<img src=\"./labs_files/lab1/figs/connecting_nodes_server2_switch.PNG\" width=\"550px\"><br>"
   ]
  },
  {
   "cell_type": "code",
   "execution_count": 9,
   "id": "5a3f7a4c-15c0-4ec6-b05f-67d61b063670",
   "metadata": {},
   "outputs": [],
   "source": [
    "net2 = slice.add_l2network(name='net2', interfaces=[switch_iface2, server2_iface])"
   ]
  },
  {
   "cell_type": "markdown",
   "id": "05d39e42-e051-43c7-aac1-79e01b758be6",
   "metadata": {},
   "source": [
    "### Step 3.9: Submitting the slice\n",
    "The code below submits the slice. \n",
    "By default, the submit function will block until the node is ready and will display the progress of your slice being built."
   ]
  },
  {
   "cell_type": "code",
   "execution_count": 10,
   "id": "20724788-d10c-4470-b7a9-5f28eac2f0d9",
   "metadata": {},
   "outputs": [
    {
     "name": "stdout",
     "output_type": "stream",
     "text": [
      "\n",
      "Retry: 12, Time: 346 sec\n"
     ]
    },
    {
     "data": {
      "text/html": [
       "<style type=\"text/css\">\n",
       "#T_d5bd1 tr:nth-child(even) {\n",
       "  background: #dbf3ff;\n",
       "  color: #231f20;\n",
       "}\n",
       "#T_d5bd1 tr:nth-child(odd) {\n",
       "  background: #ffffff;\n",
       "  color: #231f20;\n",
       "}\n",
       "#T_d5bd1 caption {\n",
       "  text-align: center;\n",
       "  font-size: 150%;\n",
       "}\n",
       "#T_d5bd1_row0_col0, #T_d5bd1_row0_col1, #T_d5bd1_row1_col0, #T_d5bd1_row1_col1, #T_d5bd1_row2_col0, #T_d5bd1_row2_col1, #T_d5bd1_row3_col0, #T_d5bd1_row3_col1, #T_d5bd1_row4_col0, #T_d5bd1_row4_col1, #T_d5bd1_row5_col0 {\n",
       "  text-align: left;\n",
       "  border: 1px #231f20 solid !important;\n",
       "  overwrite: False;\n",
       "  background-color: ;\n",
       "}\n",
       "#T_d5bd1_row5_col1 {\n",
       "  text-align: left;\n",
       "  border: 1px #231f20 solid !important;\n",
       "  overwrite: False;\n",
       "  background-color: #c3ffc4;\n",
       "}\n",
       "</style>\n",
       "<table id=\"T_d5bd1\">\n",
       "  <caption>Slice</caption>\n",
       "  <thead>\n",
       "  </thead>\n",
       "  <tbody>\n",
       "    <tr>\n",
       "      <td id=\"T_d5bd1_row0_col0\" class=\"data row0 col0\" >ID</td>\n",
       "      <td id=\"T_d5bd1_row0_col1\" class=\"data row0 col1\" >402df043-ad9e-4b8a-af94-3f80a438130a</td>\n",
       "    </tr>\n",
       "    <tr>\n",
       "      <td id=\"T_d5bd1_row1_col0\" class=\"data row1 col0\" >Name</td>\n",
       "      <td id=\"T_d5bd1_row1_col1\" class=\"data row1 col1\" >lab6</td>\n",
       "    </tr>\n",
       "    <tr>\n",
       "      <td id=\"T_d5bd1_row2_col0\" class=\"data row2 col0\" >Lease Expiration (UTC)</td>\n",
       "      <td id=\"T_d5bd1_row2_col1\" class=\"data row2 col1\" >2023-10-19 23:34:40 +0000</td>\n",
       "    </tr>\n",
       "    <tr>\n",
       "      <td id=\"T_d5bd1_row3_col0\" class=\"data row3 col0\" >Lease Start (UTC)</td>\n",
       "      <td id=\"T_d5bd1_row3_col1\" class=\"data row3 col1\" >2023-10-18 23:34:40 +0000</td>\n",
       "    </tr>\n",
       "    <tr>\n",
       "      <td id=\"T_d5bd1_row4_col0\" class=\"data row4 col0\" >Project ID</td>\n",
       "      <td id=\"T_d5bd1_row4_col1\" class=\"data row4 col1\" >6ce270de-788d-4e07-8bae-3206860a6387</td>\n",
       "    </tr>\n",
       "    <tr>\n",
       "      <td id=\"T_d5bd1_row5_col0\" class=\"data row5 col0\" >State</td>\n",
       "      <td id=\"T_d5bd1_row5_col1\" class=\"data row5 col1\" >StableOK</td>\n",
       "    </tr>\n",
       "  </tbody>\n",
       "</table>\n"
      ],
      "text/plain": [
       "<pandas.io.formats.style.Styler at 0x7fd0783b83d0>"
      ]
     },
     "metadata": {},
     "output_type": "display_data"
    },
    {
     "data": {
      "text/html": [
       "<style type=\"text/css\">\n",
       "#T_21e7e caption {\n",
       "  text-align: center;\n",
       "  font-size: 150%;\n",
       "  caption-side: top;\n",
       "}\n",
       "#T_21e7e th {\n",
       "  text-align: left;\n",
       "}\n",
       "#T_21e7e tr:nth-child(even) {\n",
       "  background: #ffffff;\n",
       "  color: #231f20;\n",
       "}\n",
       "#T_21e7e tr:nth-child(odd) {\n",
       "  background: #dbf3ff;\n",
       "  color: #231f20;\n",
       "}\n",
       "#T_21e7e .level0 {\n",
       "  border: 1px black solid !important;\n",
       "  background: #ffffff;\n",
       "  color: #231f20;\n",
       "}\n",
       "#T_21e7e_row0_col0, #T_21e7e_row0_col1, #T_21e7e_row0_col2, #T_21e7e_row0_col3, #T_21e7e_row0_col4, #T_21e7e_row0_col5, #T_21e7e_row0_col6, #T_21e7e_row0_col7, #T_21e7e_row0_col8, #T_21e7e_row0_col9, #T_21e7e_row0_col10, #T_21e7e_row0_col13, #T_21e7e_row0_col14, #T_21e7e_row0_col15, #T_21e7e_row1_col0, #T_21e7e_row1_col1, #T_21e7e_row1_col2, #T_21e7e_row1_col3, #T_21e7e_row1_col4, #T_21e7e_row1_col5, #T_21e7e_row1_col6, #T_21e7e_row1_col7, #T_21e7e_row1_col8, #T_21e7e_row1_col9, #T_21e7e_row1_col10, #T_21e7e_row1_col13, #T_21e7e_row1_col14, #T_21e7e_row1_col15, #T_21e7e_row2_col0, #T_21e7e_row2_col1, #T_21e7e_row2_col2, #T_21e7e_row2_col3, #T_21e7e_row2_col4, #T_21e7e_row2_col5, #T_21e7e_row2_col6, #T_21e7e_row2_col7, #T_21e7e_row2_col8, #T_21e7e_row2_col9, #T_21e7e_row2_col10, #T_21e7e_row2_col13, #T_21e7e_row2_col14, #T_21e7e_row2_col15 {\n",
       "  text-align: left;\n",
       "  border: 1px #231f20 solid !important;\n",
       "  overwrite: False;\n",
       "}\n",
       "#T_21e7e_row0_col11, #T_21e7e_row1_col11, #T_21e7e_row2_col11 {\n",
       "  text-align: left;\n",
       "  border: 1px #231f20 solid !important;\n",
       "  overwrite: False;\n",
       "  background-color: #c3ffc4;\n",
       "}\n",
       "#T_21e7e_row0_col12, #T_21e7e_row1_col12, #T_21e7e_row2_col12 {\n",
       "  text-align: left;\n",
       "  border: 1px #231f20 solid !important;\n",
       "  overwrite: False;\n",
       "  background-color: ;\n",
       "}\n",
       "</style>\n",
       "<table id=\"T_21e7e\">\n",
       "  <caption>Nodes</caption>\n",
       "  <thead>\n",
       "    <tr>\n",
       "      <th id=\"T_21e7e_level0_col0\" class=\"col_heading level0 col0\" >ID</th>\n",
       "      <th id=\"T_21e7e_level0_col1\" class=\"col_heading level0 col1\" >Name</th>\n",
       "      <th id=\"T_21e7e_level0_col2\" class=\"col_heading level0 col2\" >Cores</th>\n",
       "      <th id=\"T_21e7e_level0_col3\" class=\"col_heading level0 col3\" >RAM</th>\n",
       "      <th id=\"T_21e7e_level0_col4\" class=\"col_heading level0 col4\" >Disk</th>\n",
       "      <th id=\"T_21e7e_level0_col5\" class=\"col_heading level0 col5\" >Image</th>\n",
       "      <th id=\"T_21e7e_level0_col6\" class=\"col_heading level0 col6\" >Image Type</th>\n",
       "      <th id=\"T_21e7e_level0_col7\" class=\"col_heading level0 col7\" >Host</th>\n",
       "      <th id=\"T_21e7e_level0_col8\" class=\"col_heading level0 col8\" >Site</th>\n",
       "      <th id=\"T_21e7e_level0_col9\" class=\"col_heading level0 col9\" >Username</th>\n",
       "      <th id=\"T_21e7e_level0_col10\" class=\"col_heading level0 col10\" >Management IP</th>\n",
       "      <th id=\"T_21e7e_level0_col11\" class=\"col_heading level0 col11\" >State</th>\n",
       "      <th id=\"T_21e7e_level0_col12\" class=\"col_heading level0 col12\" >Error</th>\n",
       "      <th id=\"T_21e7e_level0_col13\" class=\"col_heading level0 col13\" >SSH Command</th>\n",
       "      <th id=\"T_21e7e_level0_col14\" class=\"col_heading level0 col14\" >Public SSH Key File</th>\n",
       "      <th id=\"T_21e7e_level0_col15\" class=\"col_heading level0 col15\" >Private SSH Key File</th>\n",
       "    </tr>\n",
       "  </thead>\n",
       "  <tbody>\n",
       "    <tr>\n",
       "      <td id=\"T_21e7e_row0_col0\" class=\"data row0 col0\" >5a01eeb3-098f-4f12-a523-528ea4888d54</td>\n",
       "      <td id=\"T_21e7e_row0_col1\" class=\"data row0 col1\" >server1</td>\n",
       "      <td id=\"T_21e7e_row0_col2\" class=\"data row0 col2\" >4</td>\n",
       "      <td id=\"T_21e7e_row0_col3\" class=\"data row0 col3\" >8</td>\n",
       "      <td id=\"T_21e7e_row0_col4\" class=\"data row0 col4\" >100</td>\n",
       "      <td id=\"T_21e7e_row0_col5\" class=\"data row0 col5\" >default_ubuntu_20</td>\n",
       "      <td id=\"T_21e7e_row0_col6\" class=\"data row0 col6\" >qcow2</td>\n",
       "      <td id=\"T_21e7e_row0_col7\" class=\"data row0 col7\" >ucsd-w2.fabric-testbed.net</td>\n",
       "      <td id=\"T_21e7e_row0_col8\" class=\"data row0 col8\" >UCSD</td>\n",
       "      <td id=\"T_21e7e_row0_col9\" class=\"data row0 col9\" >ubuntu</td>\n",
       "      <td id=\"T_21e7e_row0_col10\" class=\"data row0 col10\" >132.249.252.144</td>\n",
       "      <td id=\"T_21e7e_row0_col11\" class=\"data row0 col11\" >Active</td>\n",
       "      <td id=\"T_21e7e_row0_col12\" class=\"data row0 col12\" ></td>\n",
       "      <td id=\"T_21e7e_row0_col13\" class=\"data row0 col13\" >ssh -i /home/fabric/work/fabric_config/slice_key -F /home/fabric/work/fabric_config/ssh_config ubuntu@132.249.252.144</td>\n",
       "      <td id=\"T_21e7e_row0_col14\" class=\"data row0 col14\" >/home/fabric/work/fabric_config/slice_key.pub</td>\n",
       "      <td id=\"T_21e7e_row0_col15\" class=\"data row0 col15\" >/home/fabric/work/fabric_config/slice_key</td>\n",
       "    </tr>\n",
       "    <tr>\n",
       "      <td id=\"T_21e7e_row1_col0\" class=\"data row1 col0\" >2abf0124-8e84-4088-929b-b0966c2de849</td>\n",
       "      <td id=\"T_21e7e_row1_col1\" class=\"data row1 col1\" >server2</td>\n",
       "      <td id=\"T_21e7e_row1_col2\" class=\"data row1 col2\" >4</td>\n",
       "      <td id=\"T_21e7e_row1_col3\" class=\"data row1 col3\" >8</td>\n",
       "      <td id=\"T_21e7e_row1_col4\" class=\"data row1 col4\" >100</td>\n",
       "      <td id=\"T_21e7e_row1_col5\" class=\"data row1 col5\" >default_ubuntu_20</td>\n",
       "      <td id=\"T_21e7e_row1_col6\" class=\"data row1 col6\" >qcow2</td>\n",
       "      <td id=\"T_21e7e_row1_col7\" class=\"data row1 col7\" >ncsa-w3.fabric-testbed.net</td>\n",
       "      <td id=\"T_21e7e_row1_col8\" class=\"data row1 col8\" >NCSA</td>\n",
       "      <td id=\"T_21e7e_row1_col9\" class=\"data row1 col9\" >ubuntu</td>\n",
       "      <td id=\"T_21e7e_row1_col10\" class=\"data row1 col10\" >2620:0:c80:1001:f816:3eff:fec1:e6f5</td>\n",
       "      <td id=\"T_21e7e_row1_col11\" class=\"data row1 col11\" >Active</td>\n",
       "      <td id=\"T_21e7e_row1_col12\" class=\"data row1 col12\" ></td>\n",
       "      <td id=\"T_21e7e_row1_col13\" class=\"data row1 col13\" >ssh -i /home/fabric/work/fabric_config/slice_key -F /home/fabric/work/fabric_config/ssh_config ubuntu@2620:0:c80:1001:f816:3eff:fec1:e6f5</td>\n",
       "      <td id=\"T_21e7e_row1_col14\" class=\"data row1 col14\" >/home/fabric/work/fabric_config/slice_key.pub</td>\n",
       "      <td id=\"T_21e7e_row1_col15\" class=\"data row1 col15\" >/home/fabric/work/fabric_config/slice_key</td>\n",
       "    </tr>\n",
       "    <tr>\n",
       "      <td id=\"T_21e7e_row2_col0\" class=\"data row2 col0\" >81974a12-7f00-48d5-80c2-6928dbf733c2</td>\n",
       "      <td id=\"T_21e7e_row2_col1\" class=\"data row2 col1\" >switch</td>\n",
       "      <td id=\"T_21e7e_row2_col2\" class=\"data row2 col2\" >32</td>\n",
       "      <td id=\"T_21e7e_row2_col3\" class=\"data row2 col3\" >16</td>\n",
       "      <td id=\"T_21e7e_row2_col4\" class=\"data row2 col4\" >100</td>\n",
       "      <td id=\"T_21e7e_row2_col5\" class=\"data row2 col5\" >default_ubuntu_20</td>\n",
       "      <td id=\"T_21e7e_row2_col6\" class=\"data row2 col6\" >qcow2</td>\n",
       "      <td id=\"T_21e7e_row2_col7\" class=\"data row2 col7\" >star-w1.fabric-testbed.net</td>\n",
       "      <td id=\"T_21e7e_row2_col8\" class=\"data row2 col8\" >STAR</td>\n",
       "      <td id=\"T_21e7e_row2_col9\" class=\"data row2 col9\" >ubuntu</td>\n",
       "      <td id=\"T_21e7e_row2_col10\" class=\"data row2 col10\" >2001:400:a100:3030:f816:3eff:fec5:71ce</td>\n",
       "      <td id=\"T_21e7e_row2_col11\" class=\"data row2 col11\" >Active</td>\n",
       "      <td id=\"T_21e7e_row2_col12\" class=\"data row2 col12\" ></td>\n",
       "      <td id=\"T_21e7e_row2_col13\" class=\"data row2 col13\" >ssh -i /home/fabric/work/fabric_config/slice_key -F /home/fabric/work/fabric_config/ssh_config ubuntu@2001:400:a100:3030:f816:3eff:fec5:71ce</td>\n",
       "      <td id=\"T_21e7e_row2_col14\" class=\"data row2 col14\" >/home/fabric/work/fabric_config/slice_key.pub</td>\n",
       "      <td id=\"T_21e7e_row2_col15\" class=\"data row2 col15\" >/home/fabric/work/fabric_config/slice_key</td>\n",
       "    </tr>\n",
       "  </tbody>\n",
       "</table>\n"
      ],
      "text/plain": [
       "<pandas.io.formats.style.Styler at 0x7fd0783d0bb0>"
      ]
     },
     "metadata": {},
     "output_type": "display_data"
    },
    {
     "data": {
      "text/html": [
       "<style type=\"text/css\">\n",
       "#T_a0128 caption {\n",
       "  text-align: center;\n",
       "  font-size: 150%;\n",
       "  caption-side: top;\n",
       "}\n",
       "#T_a0128 th {\n",
       "  text-align: left;\n",
       "}\n",
       "#T_a0128 tr:nth-child(even) {\n",
       "  background: #ffffff;\n",
       "  color: #231f20;\n",
       "}\n",
       "#T_a0128 tr:nth-child(odd) {\n",
       "  background: #dbf3ff;\n",
       "  color: #231f20;\n",
       "}\n",
       "#T_a0128 .level0 {\n",
       "  border: 1px black solid !important;\n",
       "  background: #ffffff;\n",
       "  color: #231f20;\n",
       "}\n",
       "#T_a0128_row0_col0, #T_a0128_row0_col1, #T_a0128_row0_col2, #T_a0128_row0_col3, #T_a0128_row0_col4, #T_a0128_row0_col5, #T_a0128_row0_col6, #T_a0128_row1_col0, #T_a0128_row1_col1, #T_a0128_row1_col2, #T_a0128_row1_col3, #T_a0128_row1_col4, #T_a0128_row1_col5, #T_a0128_row1_col6 {\n",
       "  text-align: left;\n",
       "  border: 1px #231f20 solid !important;\n",
       "  overwrite: False;\n",
       "}\n",
       "#T_a0128_row0_col7, #T_a0128_row1_col7 {\n",
       "  text-align: left;\n",
       "  border: 1px #231f20 solid !important;\n",
       "  overwrite: False;\n",
       "  background-color: #c3ffc4;\n",
       "}\n",
       "#T_a0128_row0_col8, #T_a0128_row1_col8 {\n",
       "  text-align: left;\n",
       "  border: 1px #231f20 solid !important;\n",
       "  overwrite: False;\n",
       "  background-color: ;\n",
       "}\n",
       "</style>\n",
       "<table id=\"T_a0128\">\n",
       "  <caption>Networks</caption>\n",
       "  <thead>\n",
       "    <tr>\n",
       "      <th id=\"T_a0128_level0_col0\" class=\"col_heading level0 col0\" >ID</th>\n",
       "      <th id=\"T_a0128_level0_col1\" class=\"col_heading level0 col1\" >Name</th>\n",
       "      <th id=\"T_a0128_level0_col2\" class=\"col_heading level0 col2\" >Layer</th>\n",
       "      <th id=\"T_a0128_level0_col3\" class=\"col_heading level0 col3\" >Type</th>\n",
       "      <th id=\"T_a0128_level0_col4\" class=\"col_heading level0 col4\" >Site</th>\n",
       "      <th id=\"T_a0128_level0_col5\" class=\"col_heading level0 col5\" >Subnet</th>\n",
       "      <th id=\"T_a0128_level0_col6\" class=\"col_heading level0 col6\" >Gateway</th>\n",
       "      <th id=\"T_a0128_level0_col7\" class=\"col_heading level0 col7\" >State</th>\n",
       "      <th id=\"T_a0128_level0_col8\" class=\"col_heading level0 col8\" >Error</th>\n",
       "    </tr>\n",
       "  </thead>\n",
       "  <tbody>\n",
       "    <tr>\n",
       "      <td id=\"T_a0128_row0_col0\" class=\"data row0 col0\" >fabd74ea-bd47-466d-aed9-d64c8e456488</td>\n",
       "      <td id=\"T_a0128_row0_col1\" class=\"data row0 col1\" >net1</td>\n",
       "      <td id=\"T_a0128_row0_col2\" class=\"data row0 col2\" >L2</td>\n",
       "      <td id=\"T_a0128_row0_col3\" class=\"data row0 col3\" >L2STS</td>\n",
       "      <td id=\"T_a0128_row0_col4\" class=\"data row0 col4\" >None</td>\n",
       "      <td id=\"T_a0128_row0_col5\" class=\"data row0 col5\" >None</td>\n",
       "      <td id=\"T_a0128_row0_col6\" class=\"data row0 col6\" >None</td>\n",
       "      <td id=\"T_a0128_row0_col7\" class=\"data row0 col7\" >Active</td>\n",
       "      <td id=\"T_a0128_row0_col8\" class=\"data row0 col8\" ></td>\n",
       "    </tr>\n",
       "    <tr>\n",
       "      <td id=\"T_a0128_row1_col0\" class=\"data row1 col0\" >4edfa743-f618-4a63-8077-606b74e3e8a6</td>\n",
       "      <td id=\"T_a0128_row1_col1\" class=\"data row1 col1\" >net2</td>\n",
       "      <td id=\"T_a0128_row1_col2\" class=\"data row1 col2\" >L2</td>\n",
       "      <td id=\"T_a0128_row1_col3\" class=\"data row1 col3\" >L2STS</td>\n",
       "      <td id=\"T_a0128_row1_col4\" class=\"data row1 col4\" >None</td>\n",
       "      <td id=\"T_a0128_row1_col5\" class=\"data row1 col5\" >None</td>\n",
       "      <td id=\"T_a0128_row1_col6\" class=\"data row1 col6\" >None</td>\n",
       "      <td id=\"T_a0128_row1_col7\" class=\"data row1 col7\" >Active</td>\n",
       "      <td id=\"T_a0128_row1_col8\" class=\"data row1 col8\" ></td>\n",
       "    </tr>\n",
       "  </tbody>\n",
       "</table>\n"
      ],
      "text/plain": [
       "<pandas.io.formats.style.Styler at 0x7fd0784c9b40>"
      ]
     },
     "metadata": {},
     "output_type": "display_data"
    },
    {
     "data": {
      "text/html": [
       "<style type=\"text/css\">\n",
       "#T_5be20 caption {\n",
       "  text-align: center;\n",
       "  font-size: 150%;\n",
       "  caption-side: top;\n",
       "}\n",
       "#T_5be20 th {\n",
       "  text-align: left;\n",
       "}\n",
       "#T_5be20 tr:nth-child(even) {\n",
       "  background: #ffffff;\n",
       "  color: #231f20;\n",
       "}\n",
       "#T_5be20 tr:nth-child(odd) {\n",
       "  background: #dbf3ff;\n",
       "  color: #231f20;\n",
       "}\n",
       "#T_5be20 .level0 {\n",
       "  border: 1px black solid !important;\n",
       "  background: #ffffff;\n",
       "  color: #231f20;\n",
       "}\n",
       "#T_5be20_row0_col0, #T_5be20_row0_col1, #T_5be20_row0_col2, #T_5be20_row0_col3, #T_5be20_row0_col4, #T_5be20_row0_col5, #T_5be20_row0_col6, #T_5be20_row0_col7, #T_5be20_row0_col8, #T_5be20_row0_col9, #T_5be20_row0_col10, #T_5be20_row0_col11, #T_5be20_row1_col0, #T_5be20_row1_col1, #T_5be20_row1_col2, #T_5be20_row1_col3, #T_5be20_row1_col4, #T_5be20_row1_col5, #T_5be20_row1_col6, #T_5be20_row1_col7, #T_5be20_row1_col8, #T_5be20_row1_col9, #T_5be20_row1_col10, #T_5be20_row1_col11, #T_5be20_row2_col0, #T_5be20_row2_col1, #T_5be20_row2_col2, #T_5be20_row2_col3, #T_5be20_row2_col4, #T_5be20_row2_col5, #T_5be20_row2_col6, #T_5be20_row2_col7, #T_5be20_row2_col8, #T_5be20_row2_col9, #T_5be20_row2_col10, #T_5be20_row2_col11, #T_5be20_row3_col0, #T_5be20_row3_col1, #T_5be20_row3_col2, #T_5be20_row3_col3, #T_5be20_row3_col4, #T_5be20_row3_col5, #T_5be20_row3_col6, #T_5be20_row3_col7, #T_5be20_row3_col8, #T_5be20_row3_col9, #T_5be20_row3_col10, #T_5be20_row3_col11 {\n",
       "  text-align: left;\n",
       "  border: 1px #231f20 solid !important;\n",
       "  overwrite: False;\n",
       "}\n",
       "</style>\n",
       "<table id=\"T_5be20\">\n",
       "  <caption>Interfaces</caption>\n",
       "  <thead>\n",
       "    <tr>\n",
       "      <th id=\"T_5be20_level0_col0\" class=\"col_heading level0 col0\" >Name</th>\n",
       "      <th id=\"T_5be20_level0_col1\" class=\"col_heading level0 col1\" >Short Name</th>\n",
       "      <th id=\"T_5be20_level0_col2\" class=\"col_heading level0 col2\" >Node</th>\n",
       "      <th id=\"T_5be20_level0_col3\" class=\"col_heading level0 col3\" >Network</th>\n",
       "      <th id=\"T_5be20_level0_col4\" class=\"col_heading level0 col4\" >Bandwidth</th>\n",
       "      <th id=\"T_5be20_level0_col5\" class=\"col_heading level0 col5\" >Mode</th>\n",
       "      <th id=\"T_5be20_level0_col6\" class=\"col_heading level0 col6\" >VLAN</th>\n",
       "      <th id=\"T_5be20_level0_col7\" class=\"col_heading level0 col7\" >MAC</th>\n",
       "      <th id=\"T_5be20_level0_col8\" class=\"col_heading level0 col8\" >Physical Device</th>\n",
       "      <th id=\"T_5be20_level0_col9\" class=\"col_heading level0 col9\" >Device</th>\n",
       "      <th id=\"T_5be20_level0_col10\" class=\"col_heading level0 col10\" >IP Address</th>\n",
       "      <th id=\"T_5be20_level0_col11\" class=\"col_heading level0 col11\" >Numa Node</th>\n",
       "    </tr>\n",
       "  </thead>\n",
       "  <tbody>\n",
       "    <tr>\n",
       "      <td id=\"T_5be20_row0_col0\" class=\"data row0 col0\" >server1-None-p1</td>\n",
       "      <td id=\"T_5be20_row0_col1\" class=\"data row0 col1\" >p1</td>\n",
       "      <td id=\"T_5be20_row0_col2\" class=\"data row0 col2\" >server1</td>\n",
       "      <td id=\"T_5be20_row0_col3\" class=\"data row0 col3\" >net1</td>\n",
       "      <td id=\"T_5be20_row0_col4\" class=\"data row0 col4\" >100</td>\n",
       "      <td id=\"T_5be20_row0_col5\" class=\"data row0 col5\" >config</td>\n",
       "      <td id=\"T_5be20_row0_col6\" class=\"data row0 col6\" ></td>\n",
       "      <td id=\"T_5be20_row0_col7\" class=\"data row0 col7\" >1E:C2:9A:90:9D:8D</td>\n",
       "      <td id=\"T_5be20_row0_col8\" class=\"data row0 col8\" >enp6s0</td>\n",
       "      <td id=\"T_5be20_row0_col9\" class=\"data row0 col9\" >enp6s0</td>\n",
       "      <td id=\"T_5be20_row0_col10\" class=\"data row0 col10\" >None</td>\n",
       "      <td id=\"T_5be20_row0_col11\" class=\"data row0 col11\" >6</td>\n",
       "    </tr>\n",
       "    <tr>\n",
       "      <td id=\"T_5be20_row1_col0\" class=\"data row1 col0\" >server2-None-p1</td>\n",
       "      <td id=\"T_5be20_row1_col1\" class=\"data row1 col1\" >p1</td>\n",
       "      <td id=\"T_5be20_row1_col2\" class=\"data row1 col2\" >server2</td>\n",
       "      <td id=\"T_5be20_row1_col3\" class=\"data row1 col3\" >net2</td>\n",
       "      <td id=\"T_5be20_row1_col4\" class=\"data row1 col4\" >100</td>\n",
       "      <td id=\"T_5be20_row1_col5\" class=\"data row1 col5\" >config</td>\n",
       "      <td id=\"T_5be20_row1_col6\" class=\"data row1 col6\" ></td>\n",
       "      <td id=\"T_5be20_row1_col7\" class=\"data row1 col7\" >0E:D2:D6:D4:3A:73</td>\n",
       "      <td id=\"T_5be20_row1_col8\" class=\"data row1 col8\" >enp7s0</td>\n",
       "      <td id=\"T_5be20_row1_col9\" class=\"data row1 col9\" >enp7s0</td>\n",
       "      <td id=\"T_5be20_row1_col10\" class=\"data row1 col10\" >None</td>\n",
       "      <td id=\"T_5be20_row1_col11\" class=\"data row1 col11\" >4</td>\n",
       "    </tr>\n",
       "    <tr>\n",
       "      <td id=\"T_5be20_row2_col0\" class=\"data row2 col0\" >switch-net2_nic-p1</td>\n",
       "      <td id=\"T_5be20_row2_col1\" class=\"data row2 col1\" >p1</td>\n",
       "      <td id=\"T_5be20_row2_col2\" class=\"data row2 col2\" >switch</td>\n",
       "      <td id=\"T_5be20_row2_col3\" class=\"data row2 col3\" >net2</td>\n",
       "      <td id=\"T_5be20_row2_col4\" class=\"data row2 col4\" >100</td>\n",
       "      <td id=\"T_5be20_row2_col5\" class=\"data row2 col5\" >config</td>\n",
       "      <td id=\"T_5be20_row2_col6\" class=\"data row2 col6\" ></td>\n",
       "      <td id=\"T_5be20_row2_col7\" class=\"data row2 col7\" >02:5C:96:36:FB:07</td>\n",
       "      <td id=\"T_5be20_row2_col8\" class=\"data row2 col8\" >enp7s0</td>\n",
       "      <td id=\"T_5be20_row2_col9\" class=\"data row2 col9\" >enp7s0</td>\n",
       "      <td id=\"T_5be20_row2_col10\" class=\"data row2 col10\" >None</td>\n",
       "      <td id=\"T_5be20_row2_col11\" class=\"data row2 col11\" >6</td>\n",
       "    </tr>\n",
       "    <tr>\n",
       "      <td id=\"T_5be20_row3_col0\" class=\"data row3 col0\" >switch-net1_nic-p1</td>\n",
       "      <td id=\"T_5be20_row3_col1\" class=\"data row3 col1\" >p1</td>\n",
       "      <td id=\"T_5be20_row3_col2\" class=\"data row3 col2\" >switch</td>\n",
       "      <td id=\"T_5be20_row3_col3\" class=\"data row3 col3\" >net1</td>\n",
       "      <td id=\"T_5be20_row3_col4\" class=\"data row3 col4\" >100</td>\n",
       "      <td id=\"T_5be20_row3_col5\" class=\"data row3 col5\" >config</td>\n",
       "      <td id=\"T_5be20_row3_col6\" class=\"data row3 col6\" ></td>\n",
       "      <td id=\"T_5be20_row3_col7\" class=\"data row3 col7\" >06:D3:3E:48:FE:3B</td>\n",
       "      <td id=\"T_5be20_row3_col8\" class=\"data row3 col8\" >enp8s0</td>\n",
       "      <td id=\"T_5be20_row3_col9\" class=\"data row3 col9\" >enp8s0</td>\n",
       "      <td id=\"T_5be20_row3_col10\" class=\"data row3 col10\" >None</td>\n",
       "      <td id=\"T_5be20_row3_col11\" class=\"data row3 col11\" >6</td>\n",
       "    </tr>\n",
       "  </tbody>\n",
       "</table>\n"
      ],
      "text/plain": [
       "<pandas.io.formats.style.Styler at 0x7fd0783d1c00>"
      ]
     },
     "metadata": {},
     "output_type": "display_data"
    },
    {
     "name": "stdout",
     "output_type": "stream",
     "text": [
      "\n",
      "Time to print interfaces 352 seconds\n"
     ]
    },
    {
     "data": {
      "text/plain": [
       "'402df043-ad9e-4b8a-af94-3f80a438130a'"
      ]
     },
     "execution_count": 10,
     "metadata": {},
     "output_type": "execute_result"
    }
   ],
   "source": [
    "#Submit Slice Request\n",
    "slice.submit()"
   ]
  },
  {
   "cell_type": "markdown",
   "id": "865e6b9c-3e59-4eac-81f5-1674eebe3e24",
   "metadata": {},
   "source": [
    "# Step 4: Installing the required packages\n",
    "In this step, we will install the required packages to run the labs. Specifically, we will install the BMv2 software switch and its control plane, the P4 compiler (p4c), and net-tools.\n"
   ]
  },
  {
   "cell_type": "markdown",
   "id": "db92961c-369f-4e13-8921-b6ff6c974ad3",
   "metadata": {},
   "source": [
    "## Step 4.1 Installing BMv2\n",
    "The BMv2 software switch will be installed on the switch node. We will upload the script [scripts/install_bmv2.sh](./scripts/install_bmv2.sh) to the switch and execute it"
   ]
  },
  {
   "cell_type": "code",
   "execution_count": 11,
   "id": "3ba26943-2f8e-4c9f-8944-8ba7b3efdf85",
   "metadata": {},
   "outputs": [],
   "source": [
    "switch = slice.get_node(name=\"switch\")     \n",
    "switch.upload_file('scripts/install_bmv2.sh', 'install_bmv2.sh')\n",
    "stdout, stderr = switch.execute(f'chmod +x install_bmv2.sh &&  ./install_bmv2.sh',quiet=True)"
   ]
  },
  {
   "cell_type": "markdown",
   "id": "e2c7ebaa-aa9e-43a8-9292-593a85dd6dc3",
   "metadata": {
    "tags": []
   },
   "source": [
    "## Step 4.2 Installing net-tools\n",
    "The net-tools package will be installed on the switch, server1 and server2 nodes. This package will allow us to use the ifconfig and the arp commands "
   ]
  },
  {
   "cell_type": "code",
   "execution_count": 12,
   "id": "23cacc52-8185-40f1-8eaf-b391ce1b720e",
   "metadata": {},
   "outputs": [],
   "source": [
    "server1 = slice.get_node(name=\"server1\")\n",
    "server2 = slice.get_node(name=\"server2\")\n",
    "stdout, stderr = server1.execute(f'sudo apt-get install -y net-tools', quiet=True)\n",
    "stdout, stderr = server2.execute(f'sudo apt-get install -y net-tools', quiet=True)\n",
    "stdout, stderr = switch.execute(f'sudo apt-get install -y net-tools', quiet=True)"
   ]
  },
  {
   "cell_type": "markdown",
   "id": "1c97b66b-0723-4bdd-9677-c02b430b5d44",
   "metadata": {},
   "source": [
    "## Step 4.3 Installing scapy\n",
    "Installing scapy to be able to craft and send raw packets on the servers\n"
   ]
  },
  {
   "cell_type": "code",
   "execution_count": 13,
   "id": "e0e47072-8f02-4285-8ea3-bf6fa5977d77",
   "metadata": {},
   "outputs": [],
   "source": [
    "stdout, stderr = server1.execute(f'sudo apt-get update && sudo apt-get install -y python3-scapy', quiet=True)\n",
    "stdout, stderr = server2.execute(f'sudo apt-get update && sudo apt-get install -y python3-scapy', quiet=True)"
   ]
  },
  {
   "cell_type": "markdown",
   "id": "8edae1d9-dc1b-4a34-a1f7-f2533d11c908",
   "metadata": {},
   "source": [
    "# Step 5: Assigning IP and MAC addresses\n",
    "In this step, we will assign IPv4 addresses to the interfaces of the servers and the switch. We will also hardcode the MAC addresses. "
   ]
  },
  {
   "cell_type": "markdown",
   "id": "956741f7-de30-4bdd-afd2-e4598b6cc808",
   "metadata": {},
   "source": [
    "## Step 5.1: Get interfaces names\n",
    "In this step we will get the interface names so that we can assign IP addresses to them. Map the printed interface names to those seen in this figure:\n",
    "\n",
    "<img src=\"./labs_files/lab1/figs/interfaces.PNG\" width=\"550px\"><br>"
   ]
  },
  {
   "cell_type": "code",
   "execution_count": 14,
   "id": "367b34bb-baef-4d39-9041-ed346b34d990",
   "metadata": {},
   "outputs": [
    {
     "name": "stdout",
     "output_type": "stream",
     "text": [
      "server1_iface: enp6s0\n",
      "server2_iface: enp7s0\n",
      "switch_iface1: enp8s0\n",
      "switch_iface2: enp7s0\n"
     ]
    }
   ],
   "source": [
    "node1_iface = server1.get_interface(network_name='net1') \n",
    "server1_iface_name = node1_iface.get_device_name()\n",
    "print(f'server1_iface: {server1_iface_name}')\n",
    "\n",
    "node2_iface = server2.get_interface(network_name='net2') \n",
    "server2_iface_name = node2_iface.get_device_name()\n",
    "print(f'server2_iface: {server2_iface_name}')\n",
    "\n",
    "switch_iface1 = switch.get_interface(network_name='net1') \n",
    "switch_iface1_name = switch_iface1.get_device_name()\n",
    "print(f'switch_iface1: {switch_iface1_name}')\n",
    "\n",
    "switch_iface2 = switch.get_interface(network_name='net2') \n",
    "switch_iface2_name = switch_iface2.get_device_name()\n",
    "print(f'switch_iface2: {switch_iface2_name}')"
   ]
  },
  {
   "cell_type": "markdown",
   "id": "42f0264f-7b70-4533-838e-a5671858da5f",
   "metadata": {
    "tags": []
   },
   "source": [
    "## Step 5.2: Turning all interfaces up\n",
    "In this step, we will use the ip link command to turn the interfaces up\n",
    "\n",
    "<img src=\"./labs_files/lab1/figs/interfaces_up.PNG\" width=\"550px\"><br>"
   ]
  },
  {
   "cell_type": "code",
   "execution_count": 15,
   "id": "21a2c265-a7ca-4a06-a8f0-b8023afaf779",
   "metadata": {
    "tags": []
   },
   "outputs": [],
   "source": [
    "stdout, stderr = server1.execute(f'sudo ip link set dev {server1_iface_name} up', quiet=True)\n",
    "stdout, stderr = server2.execute(f'sudo ip link set dev {server2_iface_name} up', quiet=True)\n",
    "stdout, stderr = switch.execute(f'sudo ip link set dev {switch_iface1_name} up', quiet=True)\n",
    "stdout, stderr = switch.execute(f'sudo ip link set dev {switch_iface2_name} up', quiet=True)"
   ]
  },
  {
   "cell_type": "markdown",
   "id": "5275dd72-a36b-4fc9-9c67-5948d465a332",
   "metadata": {
    "tags": []
   },
   "source": [
    "## Step 5.3: Hardcode MAC addresses\n",
    "For simplicity, we will use the following MAC addresses for the interfaces:\n",
    "<ul>\n",
    "    <li> server1_iface_MAC = '00:00:00:00:00:01' (shown as 00:01 in the figure below) </li>\n",
    "    <li>switch_iface1_MAC = '00:00:00:00:00:02' (shown as 00:02 in the figure below)</li>\n",
    "    <li>switch_iface2_MAC = '00:00:00:00:00:03' (shown as 00:03 in the figure below)</li>\n",
    "    <li>server2_iface_MAC = '00:00:00:00:00:04' (shown as 00:04 in the figure below)</li>\n",
    "</ul>\n",
    "\n",
    "<img src=\"./labs_files/lab1/figs/mac_addresses.PNG\" width=\"550px\"><br>"
   ]
  },
  {
   "cell_type": "code",
   "execution_count": 16,
   "id": "7d7f7870-b447-4fb9-adb9-c97fb8d8dc23",
   "metadata": {
    "tags": []
   },
   "outputs": [],
   "source": [
    "server1_iface_MAC = '00:00:00:00:00:01'\n",
    "switch_iface1_MAC = '00:00:00:00:00:02'\n",
    "switch_iface2_MAC = '00:00:00:00:00:03'\n",
    "server2_iface_MAC = '00:00:00:00:00:04'"
   ]
  },
  {
   "cell_type": "markdown",
   "id": "79d5bc5b-91f1-4097-a2b3-71c47259599e",
   "metadata": {},
   "source": [
    "## Step 5.4 Configuring the IP and MAC addresses on server1_iface and switch_iface1\n",
    "\n",
    "We will use the network 192.168.1.0/24 between Site1 and Site2. We will assign the IP address 192.168.1.10 to server1's interface and 192.168.1.1 to its neighboring interface on the switch.\n",
    "\n",
    "<img src=\"./labs_files/lab1/figs/IPs_1.PNG\" width=\"550px\"><br>"
   ]
  },
  {
   "cell_type": "code",
   "execution_count": 17,
   "id": "30979a1c-36b7-4a9b-9eb5-0d8964db1ce2",
   "metadata": {
    "tags": []
   },
   "outputs": [],
   "source": [
    "server1 = slice.get_node(name=\"server1\")     \n",
    "\n",
    "server1_switch_subnet = \"192.168.1.0/24\"\n",
    "server1_ip = '192.168.1.10/24'\n",
    "switch_ip1 = '192.168.1.1/24'\n",
    "\n",
    "stdout, stderr = server1.execute(f'sudo ifconfig {server1_iface_name} {server1_ip}')\n",
    "stdout, stderr = switch.execute(f'sudo ifconfig {switch_iface1_name} {switch_ip1}')\n",
    "\n",
    "stdout, stderr = server1.execute(f'sudo ifconfig {server1_iface_name} hw ether {server1_iface_MAC}')\n",
    "stdout, stderr = switch.execute(f'sudo ifconfig {switch_iface1_name} hw ether {switch_iface1_MAC}')"
   ]
  },
  {
   "cell_type": "markdown",
   "id": "371a4689-324a-4a1d-9473-096682eb63f7",
   "metadata": {},
   "source": [
    "## Step 5.5: Configuring the IP and MAC addresses on switch_iface2 and server2_iface\n",
    "\n",
    "We will use the network 192.168.2.0/24 between Site2 and Site3. We will assign the IP address 192.168.2.10 to server2's interface and 192.168.2.1 to its neighboring interface on the switch.\n",
    "\n",
    "<img src=\"./labs_files/lab1/figs/IPs_2.PNG\" width=\"550px\"><br>"
   ]
  },
  {
   "cell_type": "code",
   "execution_count": 18,
   "id": "bac1c500-6f71-4aa9-b8fa-99d608a0bff6",
   "metadata": {
    "tags": []
   },
   "outputs": [],
   "source": [
    "server2 = slice.get_node(name=\"server2\")     \n",
    "\n",
    "server2_switch_subnet = \"192.168.2.0/24\"\n",
    "server2_ip = '192.168.2.10/24'\n",
    "switch_ip2 = '192.168.2.1/24'\n",
    "\n",
    "stdout, stderr = server2.execute(f'sudo ifconfig {server2_iface_name} {server2_ip}')\n",
    "stdout, stderr = switch.execute(f'sudo ifconfig {switch_iface2_name} {switch_ip2}')\n",
    "\n",
    "stdout, stderr = server2.execute(f'sudo ifconfig {server2_iface_name} hw ether {server2_iface_MAC}')\n",
    "stdout, stderr = switch.execute(f'sudo ifconfig {switch_iface2_name} hw ether {switch_iface2_MAC}')"
   ]
  },
  {
   "cell_type": "markdown",
   "id": "ed199b6d-f341-4f24-9c0b-a64631ece324",
   "metadata": {},
   "source": [
    "# Step 6: Configure forwarding and routing"
   ]
  },
  {
   "cell_type": "markdown",
   "id": "c90a6594-ea6e-4d87-9925-3baf5571096c",
   "metadata": {},
   "source": [
    "## Step 6.1: Enable forwarding on the switch\n",
    "\n",
    "The command \"sudo sysctl -w net.ipv4.ip_forward=1\" is used to enable IP forwarding on a Linux system.\n",
    "\n",
    "IP forwarding is a feature that allows a system to act as a router by forwarding network packets from one network interface to another. By default, IP forwarding is usually disabled on Linux systems for security reasons. \n",
    "\n",
    "The command will be executed on the switch device."
   ]
  },
  {
   "cell_type": "code",
   "execution_count": 19,
   "id": "0b0b5f62-4ac8-486b-b0a6-e8e468161a31",
   "metadata": {},
   "outputs": [],
   "source": [
    "command = 'sudo sysctl -w net.ipv4.ip_forward=1' \n",
    "stdout, stderr = switch.execute(command, quiet=True)"
   ]
  },
  {
   "cell_type": "markdown",
   "id": "6a4e3170-f17f-495e-bd2c-1361bc1d2317",
   "metadata": {},
   "source": [
    "## Step 6.2: Delete routing entries for the routes to force traffic to go through the BMv2 switch\n",
    "\n",
    "In this step, we are deleting the routes on the switch's routing table in Linux. By deleting the routes, the packets will go through the BMv2 switch instead of being forwarded by the kernel"
   ]
  },
  {
   "cell_type": "code",
   "execution_count": 20,
   "id": "d32e28ee-d890-4ee0-bf1c-d6b6eedfb9c0",
   "metadata": {},
   "outputs": [],
   "source": [
    "stdout, stderr = switch.execute(f'sudo ip route del {server1_switch_subnet}', quiet=True)\n",
    "stdout, stderr = switch.execute(f'sudo ip route del {server2_switch_subnet}', quiet=True)"
   ]
  },
  {
   "cell_type": "markdown",
   "id": "c2dc3837-d493-48c0-92b8-244296e166ee",
   "metadata": {},
   "source": [
    "## Step 6.3: Configure routing\n",
    "\n",
    "In this step, we will configure static routes on server1 and server2. \n",
    "<ul>\n",
    "    <li> For server1, we will add a route to reach the network 192.168.2.0/24 via 192.168.1.1 </li>\n",
    "    <li> For server2, we will add a route to reach the network 192.168.1.0/24 via 192.168.2.1 </li>\n",
    "</ul>\n",
    "\n",
    "<img src=\"./labs_files/lab1/figs/routing.PNG\" width=\"550px\"><br>"
   ]
  },
  {
   "cell_type": "code",
   "execution_count": 21,
   "id": "69cdfdf5-011e-45c5-bab1-da388e4427a0",
   "metadata": {},
   "outputs": [],
   "source": [
    "gw1 = switch_ip1.split('/')[0]\n",
    "gw2 = switch_ip2.split('/')[0]\n",
    "stdout, stderr = server1.execute(f'sudo ip route add {server2_switch_subnet} via {gw1}')\n",
    "stdout, stderr = server2.execute(f'sudo ip route add {server1_switch_subnet} via {gw2}')"
   ]
  },
  {
   "cell_type": "markdown",
   "id": "15edef9d-f7a5-4994-9d97-1a4b036a97be",
   "metadata": {
    "tags": []
   },
   "source": [
    "## Step 6.4: Configure ARP\n",
    "\n",
    "In this step, we will configure static ARP entries on server1 and server2. The reason we are doing this is because the switch does not process ARP packets unless programmed to. To make sure that ARP packets are not sent towards the switch, we will hardcode the MACs on the servers.\n",
    "\n",
    "For each server, we will add an ARP entry to its switch's neighboring interface."
   ]
  },
  {
   "cell_type": "code",
   "execution_count": 22,
   "id": "7bbf2b87-f92b-47c6-a6a7-4bae0a0a52a6",
   "metadata": {},
   "outputs": [],
   "source": [
    "stdout, stderr = server1.execute(f'sudo arp -s {gw1} {switch_iface1_MAC}')\n",
    "stdout, stderr = server2.execute(f'sudo arp -s {gw2} {switch_iface2_MAC}')"
   ]
  },
  {
   "cell_type": "markdown",
   "id": "02919ce9-ab5f-4f75-a0e0-08335a8d3b93",
   "metadata": {},
   "source": [
    "# Step 7: Implementing checksum calculation in P4\n",
    "   \n",
    "This section demonstrates how to update the checksum of an IPv4 packet after being modified by the P4 program. We will be using the P4 program that implements the routing function.  "
   ]
  },
  {
   "cell_type": "markdown",
   "id": "2b571c06-bfd5-464a-acf4-d28845c8e840",
   "metadata": {
    "jp-MarkdownHeadingCollapsed": true,
    "tags": []
   },
   "source": [
    "# Step 7.1: Inspecting the P4 code\n",
    "\n",
    "Inspect the content of the [ingress.p4](./labs_files/lab6/src/ingress.p4) file before implementing the checksum calculation. \n",
    "\n",
    "<img src=\"./labs_files/lab6/figs/ingress.png\" width=\"550px\"><br>\n",
    "\n",
    "Note how the action forward is modifying the TTL value in the IPv4 header. Since the program is modifying the header fields, it is necessary to recompute and update the checksum of the header. \n",
    "\n",
    "<hr>\n",
    "\n",
    "Inspect the content of the [checksum.p4](./labs_files/lab6/src/checksum.p4) file. \n",
    "\n",
    "<img src=\"./labs_files/lab6/figs/checksum.png\" width=\"550px\"><br>\n",
    "\n",
    "The figure above shows that two empty control blocks exist in the checksum.p4 file. The first control MyVerifyChecksum verifies the checksum for the packet. The second control block MyComputeChecksum updates the checksum of the packet. We will only focus for now on computing the checksum. The upcoming steps show what happens when the checksum is not updated after modifying the IPv4 header (i.e., decrementing the TTL).\n",
    "\n"
   ]
  },
  {
   "cell_type": "markdown",
   "id": "d6e192e3-0755-4e4b-92fb-5ec5f2ba2b4e",
   "metadata": {
    "tags": []
   },
   "source": [
    "# Step 8: Uploading and running the P4 program on the switch\n",
    "\n",
    "In this step, we upload the P4 program to the switch, compile it, and start the switch daemon. "
   ]
  },
  {
   "cell_type": "markdown",
   "id": "0e9b626c-8ef1-4073-9c7b-2fdce832e3cd",
   "metadata": {
    "tags": []
   },
   "source": [
    "## Step 8.1: Uploading the P4 program\n",
    "\n",
    "The P4 program [basic.p4](labs_files/lab6/src/basic.p4) is located under lab_files/lab6/src.\n",
    "\n",
    "We will be uploading the whole directory since it includes other P4 files. "
   ]
  },
  {
   "cell_type": "code",
   "execution_count": 23,
   "id": "929a0f19-cece-40cf-a474-6bb61d9a81c8",
   "metadata": {
    "tags": []
   },
   "outputs": [
    {
     "data": {
      "text/plain": [
       "'success'"
      ]
     },
     "execution_count": 23,
     "metadata": {},
     "output_type": "execute_result"
    }
   ],
   "source": [
    "switch = slice.get_node(name='switch')        \n",
    "switch.upload_directory('labs_files/lab6/src', '/home/ubuntu/lab6')"
   ]
  },
  {
   "cell_type": "markdown",
   "id": "01cdd329-9f46-43f9-9937-c17f9d5895e7",
   "metadata": {},
   "source": [
    "## Step 8.2: Compiling the P4 program\n",
    "\n",
    "In this step, we will use the p4c compiler to compile the program.\n",
    "\n",
    "Launch a new terminal by clicking on \"File\" -> \"New\" -> \"Terminal\".\n",
    "\n",
    "<img src=\"./labs_files/lab6/figs/terminal.gif\" width=\"600px\"><br>\n",
    "\n",
    "\n",
    "Copy the output of the command below and paste into the terminal to enter to the switch."
   ]
  },
  {
   "cell_type": "code",
   "execution_count": 24,
   "id": "a15e7509-3f1f-4e1e-ac6e-114768ce10a8",
   "metadata": {},
   "outputs": [
    {
     "data": {
      "text/plain": [
       "'ssh -i /home/fabric/work/fabric_config/slice_key -F /home/fabric/work/fabric_config/ssh_config ubuntu@2001:400:a100:3030:f816:3eff:fec5:71ce'"
      ]
     },
     "execution_count": 24,
     "metadata": {},
     "output_type": "execute_result"
    }
   ],
   "source": [
    "switch.get_ssh_command()"
   ]
  },
  {
   "cell_type": "markdown",
   "id": "bc2209a4-ba1c-4bfb-8298-9ffb129ac8bf",
   "metadata": {},
   "source": [
    "Run the following commands in the terminal:\n",
    "    \n",
    "    sudo su\n",
    "    p4c lab6/src/basic.p4\n",
    "    simple_switch -i 0@ens8 -i 1@ens7 basic.json --log-console\n",
    "    \n",
    "<img src=\"./labs_files/lab6/figs/daemon.png\" width=\"750px\"><br>"
   ]
  },
  {
   "cell_type": "markdown",
   "id": "150426ce-832d-453a-b4f7-8c90421f8945",
   "metadata": {
    "tags": []
   },
   "source": [
    "## Step 8.3: Populating table from the control plane\n",
    "\n",
    "In this step we will populate the forwarding table by executing a script. We will learn how to populate the tables manually in another lab."
   ]
  },
  {
   "cell_type": "code",
   "execution_count": 25,
   "id": "95d237d4-90ff-4e60-a287-a9dd5100db55",
   "metadata": {
    "tags": []
   },
   "outputs": [
    {
     "name": "stdout",
     "output_type": "stream",
     "text": [
      "Obtaining JSON from switch...\n",
      "Done\n",
      "Control utility for runtime P4 table manipulation\n",
      "RuntimeCmd: Adding entry to lpm match table MyIngress.ipv4_lpm\n",
      "match key:           LPM-c0:a8:01:00/24\n",
      "action:              MyIngress.forward\n",
      "runtime data:        00:00:00:00:00:01\t00:00\n",
      "Entry has been added with handle 0\n",
      "RuntimeCmd: \n",
      "Obtaining JSON from switch...\n",
      "Done\n",
      "Control utility for runtime P4 table manipulation\n",
      "RuntimeCmd: Adding entry to lpm match table MyIngress.ipv4_lpm\n",
      "match key:           LPM-c0:a8:02:00/24\n",
      "action:              MyIngress.forward\n",
      "runtime data:        00:00:00:00:00:04\t00:01\n",
      "Entry has been added with handle 1\n",
      "RuntimeCmd: \n"
     ]
    }
   ],
   "source": [
    "switch.upload_file('labs_files/lab6/rules.sh', 'rules.sh')\n",
    "stdout, stderr = switch.execute('chmod +x rules.sh && ./rules.sh')"
   ]
  },
  {
   "cell_type": "markdown",
   "id": "18458cc4-12d5-4376-92ae-1fa666c32967",
   "metadata": {
    "tags": []
   },
   "source": [
    "## Step 8.4: Starting tcpdump on server2 \n",
    "\n",
    "In this step, we will start tcpdump on server2 to inspect the packets arriving at its interface.\n",
    "\n",
    "Launch a new terminal by clicking on \"File\" -> \"New\" -> \"Terminal\".\n",
    "\n",
    "<img src=\"./labs_files/lab6/figs/terminal.gif\" width=\"600px\"><br>\n",
    "\n",
    "\n",
    "Copy the output of the command below and paste into the terminal to enter to the switch."
   ]
  },
  {
   "cell_type": "code",
   "execution_count": 26,
   "id": "5fdea363-5029-4c02-8349-de77bc9282b9",
   "metadata": {},
   "outputs": [
    {
     "data": {
      "text/plain": [
       "'ssh -i /home/fabric/work/fabric_config/slice_key -F /home/fabric/work/fabric_config/ssh_config ubuntu@2620:0:c80:1001:f816:3eff:fec1:e6f5'"
      ]
     },
     "execution_count": 26,
     "metadata": {},
     "output_type": "execute_result"
    }
   ],
   "source": [
    "server2.get_ssh_command()"
   ]
  },
  {
   "cell_type": "markdown",
   "id": "029c7cb5-ad70-435c-9157-2b1e153e22ed",
   "metadata": {},
   "source": [
    "Type the following command in the terminal:\n",
    "\n",
    "    sudo tcpdump -v -i ens7\n",
    "    \n",
    "<img src=\"./labs_files/lab6/figs/tcpdump.png\" width=\"600px\"><br>"
   ]
  },
  {
   "cell_type": "markdown",
   "id": "1eac9af2-c54d-4c64-a38e-239b7f1e0cc4",
   "metadata": {},
   "source": [
    "## Step 8.5: Sending a packet without checksum update\n",
    "\n",
    "In this step, we will send a packet to 192.168.2.20. The switch does not implement checksum update. \n"
   ]
  },
  {
   "cell_type": "code",
   "execution_count": 29,
   "id": "2cac1cf0-ef99-4df0-9972-d771c45264dd",
   "metadata": {},
   "outputs": [
    {
     "name": "stdout",
     "output_type": "stream",
     "text": [
      "sending on interface enp6s0 to 192.168.2.20\n",
      "###[ Ethernet ]### \n",
      "  dst       = 00:00:00:00:00:02\n",
      "  src       = 00:00:00:00:00:01\n",
      "  type      = IPv4\n",
      "###[ IP ]### \n",
      "     version   = 4\n",
      "     ihl       = 5\n",
      "     tos       = 0x0\n",
      "     len       = 52\n",
      "     id        = 1\n",
      "     flags     = \n",
      "     frag      = 0\n",
      "     ttl       = 64\n",
      "     proto     = tcp\n",
      "     chksum    = 0xf654\n",
      "     src       = 192.168.1.10\n",
      "     dst       = 192.168.2.20\n",
      "     \\options   \\\n",
      "###[ TCP ]### \n",
      "        sport     = 56586\n",
      "        dport     = 1234\n",
      "        seq       = 0\n",
      "        ack       = 0\n",
      "        dataofs   = 5\n",
      "        reserved  = 0\n",
      "        flags     = S\n",
      "        window    = 8192\n",
      "        chksum    = 0xfa60\n",
      "        urgptr    = 0\n",
      "        options   = []\n",
      "###[ Raw ]### \n",
      "           load      = '192.168.1.10'\n",
      "\n"
     ]
    }
   ],
   "source": [
    "server1.upload_file('labs_files/lab6/src/send.py', 'send.py')\n",
    "stdout, stderr = server1.execute(f'sudo python3 send.py enp6s0 192.168.1.10 192.168.2.20 HelloWorld')"
   ]
  },
  {
   "cell_type": "markdown",
   "id": "1cb0a50d-dbeb-441e-8aaa-7fe141833569",
   "metadata": {},
   "source": [
    "## Step 8.6: Inspect the logs on server2\n",
    "\n",
    "Go back to the terminal of server2 to inspect the output of tcpdump.\n",
    "\n",
    "<img src=\"./labs_files/lab6/figs/bad_checksum.png\" width=\"800px\"><br>\n",
    "\n",
    "We can see that the checksum in that packet is incorrect. This is because the P4 program changed the header field value (i.e., TTL), but did not update the checksum in the packet. "
   ]
  },
  {
   "cell_type": "markdown",
   "id": "ebcf70b5-a56a-4b9a-a38c-eeb0cc4d5581",
   "metadata": {},
   "source": [
    "## Step 8.7: Updating the P4 code to compute the checksum\n",
    "\n",
    "Edit the content of the [checksum.p4](./labs_files/lab6/src/checksum.p4) file and add the following:\n",
    "\n",
    "    update_checksum(\n",
    "\t    hdr.ipv4.isValid(),\n",
    "        { \n",
    "            hdr.ipv4.version,\n",
    "\t        hdr.ipv4.ihl,\n",
    "            hdr.ipv4.diffserv,\n",
    "            hdr.ipv4.totalLen,\n",
    "            hdr.ipv4.identification,\n",
    "            hdr.ipv4.flags,\n",
    "            hdr.ipv4.fragOffset,\n",
    "            hdr.ipv4.ttl,\n",
    "            hdr.ipv4.protocol,\n",
    "            hdr.ipv4.srcAddr,\n",
    "            hdr.ipv4.dstAddr \n",
    "         },\n",
    "         hdr.ipv4.hdrChecksum,\n",
    "         HashAlgorithm.csum16\n",
    "     );\n",
    "\n",
    "<img src=\"./labs_files/lab6/figs/update_checksum.png\" width=\"550px\"><br>\n",
    "\n",
    "**Press Ctrl + s to save the changes.**"
   ]
  },
  {
   "cell_type": "markdown",
   "id": "fb4b8591-b69c-46fc-9b62-27371c143858",
   "metadata": {
    "tags": []
   },
   "source": [
    "## Step 8.8: Uploading the P4 program\n",
    "\n",
    "The P4 program [basic.p4](labs_files/lab6/src/basic.p4) is located under lab_files/lab6/src.\n",
    "\n",
    "We will be uploading the whole directory since it includes other P4 files. "
   ]
  },
  {
   "cell_type": "code",
   "execution_count": 30,
   "id": "50fb6468-2424-4dad-b554-0bc97a2e4be8",
   "metadata": {
    "tags": []
   },
   "outputs": [],
   "source": [
    "switch = slice.get_node(name='switch')        \n",
    "switch.upload_directory('labs_files/lab6/src', '/home/ubuntu/lab6')\n",
    "stdout, stderr = switch.execute('sudo pkill switch')"
   ]
  },
  {
   "cell_type": "markdown",
   "id": "e7196fe4-8246-4df7-9b36-43c2a50db8d7",
   "metadata": {},
   "source": [
    "Go back to the terminal of the switch and issue the following commands to compile and run the P4 program:\n",
    "\n",
    "    p4c lab6/src/basic.p4\n",
    "    simple_switch -i 0@ens8 -i 1@ens7 basic.json --log-console\n",
    "    \n",
    "<img src=\"./labs_files/lab6/figs/p4c.png\" width=\"800px\"><br>"
   ]
  },
  {
   "cell_type": "markdown",
   "id": "df395da5-9b17-4fa8-a3f3-54e25910a3ec",
   "metadata": {
    "tags": []
   },
   "source": [
    "## Step 8.9: Populating table from the control plane\n",
    "\n",
    "In this step we will populate the forwarding table by executing a script. We will learn how to populate the tables manually in another lab."
   ]
  },
  {
   "cell_type": "code",
   "execution_count": 31,
   "id": "9fea4863-589d-40a0-9aef-b119fd9a3419",
   "metadata": {
    "tags": []
   },
   "outputs": [
    {
     "name": "stdout",
     "output_type": "stream",
     "text": [
      "Obtaining JSON from switch...\n",
      "Done\n",
      "Control utility for runtime P4 table manipulation\n",
      "RuntimeCmd: Adding entry to lpm match table MyIngress.ipv4_lpm\n",
      "match key:           LPM-c0:a8:01:00/24\n",
      "action:              MyIngress.forward\n",
      "runtime data:        00:00:00:00:00:01\t00:00\n",
      "Entry has been added with handle 0\n",
      "RuntimeCmd: \n",
      "Obtaining JSON from switch...\n",
      "Done\n",
      "Control utility for runtime P4 table manipulation\n",
      "RuntimeCmd: Adding entry to lpm match table MyIngress.ipv4_lpm\n",
      "match key:           LPM-c0:a8:02:00/24\n",
      "action:              MyIngress.forward\n",
      "runtime data:        00:00:00:00:00:04\t00:01\n",
      "Entry has been added with handle 1\n",
      "RuntimeCmd: \n"
     ]
    }
   ],
   "source": [
    "switch.upload_file('labs_files/lab6/rules.sh', 'rules.sh')\n",
    "stdout, stderr = switch.execute('chmod +x rules.sh && ./rules.sh')"
   ]
  },
  {
   "cell_type": "markdown",
   "id": "069dfd70-e425-4d58-be3e-08cee2fcb9d4",
   "metadata": {},
   "source": [
    "## Step 8.10: Sending a packet with checksum update\n",
    "\n",
    "In this step, we will send a packet to 192.168.2.20. The switch updates the checksum. \n"
   ]
  },
  {
   "cell_type": "code",
   "execution_count": 32,
   "id": "5cbb7f01-351a-44ce-8f68-0324448b8d68",
   "metadata": {},
   "outputs": [
    {
     "name": "stdout",
     "output_type": "stream",
     "text": [
      "sending on interface enp6s0 to 192.168.2.20\n",
      "###[ Ethernet ]### \n",
      "  dst       = 00:00:00:00:00:02\n",
      "  src       = 00:00:00:00:00:01\n",
      "  type      = IPv4\n",
      "###[ IP ]### \n",
      "     version   = 4\n",
      "     ihl       = 5\n",
      "     tos       = 0x0\n",
      "     len       = 52\n",
      "     id        = 1\n",
      "     flags     = \n",
      "     frag      = 0\n",
      "     ttl       = 64\n",
      "     proto     = tcp\n",
      "     chksum    = 0xf654\n",
      "     src       = 192.168.1.10\n",
      "     dst       = 192.168.2.20\n",
      "     \\options   \\\n",
      "###[ TCP ]### \n",
      "        sport     = 57835\n",
      "        dport     = 1234\n",
      "        seq       = 0\n",
      "        ack       = 0\n",
      "        dataofs   = 5\n",
      "        reserved  = 0\n",
      "        flags     = S\n",
      "        window    = 8192\n",
      "        chksum    = 0xf57f\n",
      "        urgptr    = 0\n",
      "        options   = []\n",
      "###[ Raw ]### \n",
      "           load      = '192.168.1.10'\n",
      "\n"
     ]
    }
   ],
   "source": [
    "server1.upload_file('labs_files/lab6/src/send.py', 'send.py')\n",
    "stdout, stderr = server1.execute(f'sudo python3 send.py enp6s0 192.168.1.10 192.168.2.20 HelloWorld')"
   ]
  },
  {
   "cell_type": "markdown",
   "id": "c982db26-2fdd-4589-8ffe-59148bafa8a3",
   "metadata": {
    "tags": []
   },
   "source": [
    "## Step 8.11: Inspect the logs on server2\n",
    "\n",
    "Go back to the terminal of server2 to inspect the output of tcpdump.\n",
    "\n",
    "<img src=\"./labs_files/lab6/figs/good_checksum.png\" width=\"750px\"><br>\n",
    "\n",
    "We can see that the checksum in that packet is now correct (tcpdump did not complain about the correctness of the checksum). This is because the P4 program updated the checksum in the IPv4 header after changing the header field value (i.e., TTL). \n"
   ]
  },
  {
   "cell_type": "markdown",
   "id": "70467503-1ee8-4130-b994-568910e47c91",
   "metadata": {},
   "source": [
    "# Step 9: Updating the deparser in the P4 code\n",
    "\n",
    "In this section we will update the code of the deparser so that the IPv4 header is not emitted. We will then verify this operation using Wireshark. \n"
   ]
  },
  {
   "cell_type": "markdown",
   "id": "f80af065-03f3-462e-9fa3-0b066c646ebe",
   "metadata": {},
   "source": [
    "## Step 9.1: Updating the deparser in the P4 code\n",
    "\n",
    "Edit the content of the [deparser.p4](./labs_files/lab6/src/deparser.p4) file. \n",
    "\n",
    "We can see in the figure above that the deparser is emitting both the Ethernet header and the IPv4 header. We verified in the previous step that Wireshark was able to recognize both headers.\n",
    "\n",
    "\n",
    "Remove the *packet.emit(hdr.ipv4);* line to emit only the Ethernet header and save the file:\n",
    "\n",
    "\n",
    "<img src=\"./labs_files/lab6/figs/remove_ipv4.png\" width=\"550px\"><br>\n",
    "\n",
    "**Press Ctrl + s to save the changes.**\n"
   ]
  },
  {
   "cell_type": "markdown",
   "id": "dd8f7670-31be-4a77-8b79-1da399f0514b",
   "metadata": {
    "tags": []
   },
   "source": [
    "## Step 9.2: Uploading the P4 program\n",
    "\n",
    "The P4 program [basic.p4](labs_files/lab6/src/basic.p4) is located under lab_files/lab6/src.\n",
    "\n",
    "We will be uploading the whole directory since it includes other P4 files. "
   ]
  },
  {
   "cell_type": "code",
   "execution_count": 33,
   "id": "fa2c6119-6229-4a29-a5f3-3e0af7ed447d",
   "metadata": {
    "tags": []
   },
   "outputs": [],
   "source": [
    "switch = slice.get_node(name='switch')        \n",
    "switch.upload_directory('labs_files/lab6/src', '/home/ubuntu/lab6')\n",
    "stdout, stderr = switch.execute('sudo pkill switch')"
   ]
  },
  {
   "cell_type": "markdown",
   "id": "c2b57c03-cc69-4199-bd5a-8b08dc46c9d6",
   "metadata": {},
   "source": [
    "Go back to the terminal of the switch and issue the following commands to compile and run the P4 program:\n",
    "\n",
    "    p4c lab6/src/basic.p4\n",
    "    simple_switch -i 0@ens8 -i 1@ens7 basic.json --log-console\n",
    "    \n",
    "<img src=\"./labs_files/lab6/figs/p4c.png\" width=\"750px\"><br>"
   ]
  },
  {
   "cell_type": "markdown",
   "id": "b51063de-560c-45dc-b6d9-9b869b468e76",
   "metadata": {
    "tags": []
   },
   "source": [
    "## Step 9.3: Populating table from the control plane\n",
    "\n",
    "In this step we will populate the forwarding table by executing a script. We will learn how to populate the tables manually in another lab."
   ]
  },
  {
   "cell_type": "code",
   "execution_count": 35,
   "id": "6c8bba13-5c5c-40ab-9d6a-87a41b18ccca",
   "metadata": {
    "tags": []
   },
   "outputs": [
    {
     "name": "stdout",
     "output_type": "stream",
     "text": [
      "Obtaining JSON from switch...\n",
      "Done\n",
      "Control utility for runtime P4 table manipulation\n",
      "RuntimeCmd: Adding entry to lpm match table MyIngress.ipv4_lpm\n",
      "match key:           LPM-c0:a8:01:00/24\n",
      "action:              MyIngress.forward\n",
      "runtime data:        00:00:00:00:00:01\t00:00\n",
      "Entry has been added with handle 0\n",
      "RuntimeCmd: \n",
      "Obtaining JSON from switch...\n",
      "Done\n",
      "Control utility for runtime P4 table manipulation\n",
      "RuntimeCmd: Adding entry to lpm match table MyIngress.ipv4_lpm\n",
      "match key:           LPM-c0:a8:02:00/24\n",
      "action:              MyIngress.forward\n",
      "runtime data:        00:00:00:00:00:04\t00:01\n",
      "Entry has been added with handle 1\n",
      "RuntimeCmd: \n"
     ]
    }
   ],
   "source": [
    "switch.upload_file('labs_files/lab6/rules.sh', 'rules.sh')\n",
    "stdout, stderr = switch.execute('chmod +x rules.sh && ./rules.sh')"
   ]
  },
  {
   "cell_type": "markdown",
   "id": "c6c6cdc9-4340-491e-9970-359809afb5d0",
   "metadata": {},
   "source": [
    "## Step 9.4: Sending a packet\n",
    "\n",
    "In this step, we will send a packet to 192.168.2.20.\n"
   ]
  },
  {
   "cell_type": "code",
   "execution_count": 37,
   "id": "a05aa855-e130-494e-80c8-d41cc7125757",
   "metadata": {},
   "outputs": [
    {
     "name": "stdout",
     "output_type": "stream",
     "text": [
      "sending on interface enp6s0 to 192.168.2.20\n",
      "###[ Ethernet ]### \n",
      "  dst       = 00:00:00:00:00:02\n",
      "  src       = 00:00:00:00:00:01\n",
      "  type      = IPv4\n",
      "###[ IP ]### \n",
      "     version   = 4\n",
      "     ihl       = 5\n",
      "     tos       = 0x0\n",
      "     len       = 52\n",
      "     id        = 1\n",
      "     flags     = \n",
      "     frag      = 0\n",
      "     ttl       = 64\n",
      "     proto     = tcp\n",
      "     chksum    = 0xf654\n",
      "     src       = 192.168.1.10\n",
      "     dst       = 192.168.2.20\n",
      "     \\options   \\\n",
      "###[ TCP ]### \n",
      "        sport     = 58546\n",
      "        dport     = 1234\n",
      "        seq       = 0\n",
      "        ack       = 0\n",
      "        dataofs   = 5\n",
      "        reserved  = 0\n",
      "        flags     = S\n",
      "        window    = 8192\n",
      "        chksum    = 0xf2b8\n",
      "        urgptr    = 0\n",
      "        options   = []\n",
      "###[ Raw ]### \n",
      "           load      = '192.168.1.10'\n",
      "\n"
     ]
    }
   ],
   "source": [
    "server1.upload_file('labs_files/lab6/src/send.py', 'send.py')\n",
    "stdout, stderr = server1.execute(f'sudo python3 send.py enp6s0 192.168.1.10 192.168.2.20 HelloWorld')"
   ]
  },
  {
   "cell_type": "markdown",
   "id": "630f94c7-9796-4439-8616-a0901459d537",
   "metadata": {
    "tags": []
   },
   "source": [
    "## Step 9.5: Inspect the logs on server2\n",
    "\n",
    "Go back to the terminal of server2 to inspect the output of tcpdump.\n",
    "\n",
    "<img src=\"./labs_files/lab6/figs/bogus_packet.png\" width=\"570px\"><br>\n",
    "\n",
    "We can see that the output is different from the previous tcpdump log. The packet is bogus/corrupt since the IPv4 header is not emitted. "
   ]
  }
 ],
 "metadata": {
  "kernelspec": {
   "display_name": "Python 3 (ipykernel)",
   "language": "python",
   "name": "python3"
  },
  "language_info": {
   "codemirror_mode": {
    "name": "ipython",
    "version": 3
   },
   "file_extension": ".py",
   "mimetype": "text/x-python",
   "name": "python",
   "nbconvert_exporter": "python",
   "pygments_lexer": "ipython3",
   "version": "3.10.6"
  }
 },
 "nbformat": 4,
 "nbformat_minor": 5
}
