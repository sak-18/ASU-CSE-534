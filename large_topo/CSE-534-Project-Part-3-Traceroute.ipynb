{
 "cells": [
  {
   "cell_type": "markdown",
   "id": "17d739a4-1518-4191-8e2a-c11feabfe7f6",
   "metadata": {
    "tags": []
   },
   "source": [
    "# Step 1: Initial Setup"
   ]
  },
  {
   "cell_type": "markdown",
   "id": "5ddd02c8-30e0-40cc-96e6-9c16cd483315",
   "metadata": {},
   "source": [
    "## Step 1.1: Importing FABlib library."
   ]
  },
  {
   "cell_type": "code",
   "execution_count": 1,
   "id": "2a8c08c3-e485-411b-a6c2-c7bc2c84a8f5",
   "metadata": {},
   "outputs": [],
   "source": [
    "from fabrictestbed_extensions.fablib.fablib import FablibManager as fablib_manager\n",
    "fablib = fablib_manager()"
   ]
  },
  {
   "cell_type": "markdown",
   "id": "bc15f35e-cafb-49af-9a79-5576938105ba",
   "metadata": {},
   "source": [
    "## Step 1.2: Fetch the Slice"
   ]
  },
  {
   "cell_type": "markdown",
   "id": "18e5c6a3-e51b-49b7-9b6a-bac5cc3f0423",
   "metadata": {},
   "source": [
    "Get the slice already setup previously for experimenting."
   ]
  },
  {
   "cell_type": "code",
   "execution_count": 2,
   "id": "0247839e-735f-4449-aed2-5791ba021406",
   "metadata": {},
   "outputs": [],
   "source": [
    "slice = fablib.get_slice(name=\"p4_route_tracing_v1\")"
   ]
  },
  {
   "cell_type": "markdown",
   "id": "834c2053-027b-46e5-bc2d-2b36d8b7a1fa",
   "metadata": {
    "tags": []
   },
   "source": [
    "# Step 2: Traceroute"
   ]
  },
  {
   "cell_type": "code",
   "execution_count": 4,
   "id": "9679e671-7624-454a-a37f-50f9b1af11ff",
   "metadata": {},
   "outputs": [],
   "source": [
    "server1 = slice.get_node(name='server1')\n",
    "server2 = slice.get_node(name='server2')\n",
    "server3 = slice.get_node(name='server3')\n",
    "server4 = slice.get_node(name='server4')\n",
    "server5 = slice.get_node(name='server5')\n",
    "server6 = slice.get_node(name='server6')\n",
    "\n",
    "switch1 = slice.get_node(name='switch1')\n",
    "switch2 = slice.get_node(name='switch2')\n",
    "switch3 = slice.get_node(name='switch3')\n",
    "switch4 = slice.get_node(name='switch4')\n",
    "switch5 = slice.get_node(name='switch5')\n",
    "switch6 = slice.get_node(name='switch6')"
   ]
  },
  {
   "cell_type": "markdown",
   "id": "8182f54c-1cd3-48c3-9d9c-1303064647a6",
   "metadata": {},
   "source": [
    "## SSH into the nodes to perform traceroute."
   ]
  },
  {
   "cell_type": "code",
   "execution_count": 4,
   "id": "9e8fb98d-3aad-4f68-b664-404f55cfc1d7",
   "metadata": {},
   "outputs": [
    {
     "data": {
      "text/plain": [
       "'ssh -i /home/fabric/work/fabric_config/slice_key -F /home/fabric/work/fabric_config/ssh_config ubuntu@2001:400:a100:3070:f816:3eff:fe12:d113'"
      ]
     },
     "execution_count": 4,
     "metadata": {},
     "output_type": "execute_result"
    }
   ],
   "source": [
    "server1.get_ssh_command()"
   ]
  },
  {
   "cell_type": "code",
   "execution_count": 11,
   "id": "b69d2741-c93e-4e7e-b7a6-3c762808f138",
   "metadata": {},
   "outputs": [
    {
     "data": {
      "text/plain": [
       "'ssh -i /home/fabric/work/fabric_config/slice_key -F /home/fabric/work/fabric_config/ssh_config ubuntu@2001:400:a100:3010:f816:3eff:fe5f:9b4'"
      ]
     },
     "execution_count": 11,
     "metadata": {},
     "output_type": "execute_result"
    }
   ],
   "source": [
    "server2.get_ssh_command()"
   ]
  },
  {
   "cell_type": "markdown",
   "id": "f8b4192c-11c9-4824-808f-8ed28069a8e9",
   "metadata": {},
   "source": [
    "Snippet for checking IP tables [for debugging]"
   ]
  },
  {
   "cell_type": "code",
   "execution_count": 10,
   "id": "3ce6e973-348a-467e-a0a6-6766e9e9c42a",
   "metadata": {},
   "outputs": [
    {
     "name": "stdout",
     "output_type": "stream",
     "text": [
      "default via 192.168.1.10 dev enp6s0 \n",
      "10.30.6.0/23 dev enp1s0 proto kernel scope link src 10.30.6.204 \n",
      "169.254.169.254 via 10.30.6.11 dev enp1s0 proto dhcp src 10.30.6.204 metric 100 \n",
      "default via 192.168.1.10 dev enp6s0 \n",
      "10.30.6.0/23 dev enp1s0 proto kernel scope link src 10.30.6.204 \n",
      "169.254.169.254 via 10.30.6.11 dev enp1s0 proto dhcp src 10.30.6.204 metric 100 \n",
      "\n",
      "================\n",
      "default via 192.168.2.10 dev enp7s0 \n",
      "10.30.6.0/23 dev enp3s0 proto kernel scope link src 10.30.6.72 \n",
      "169.254.169.254 via 10.30.6.11 dev enp3s0 proto dhcp src 10.30.6.72 metric 100 \n",
      "192.168.1.0/24 via 192.168.2.2 dev enp7s0 \n",
      "192.168.3.0/24 via 192.168.2.2 dev enp7s0 \n",
      "default via 192.168.2.10 dev enp7s0 \n",
      "10.30.6.0/23 dev enp3s0 proto kernel scope link src 10.30.6.72 \n",
      "169.254.169.254 via 10.30.6.11 dev enp3s0 proto dhcp src 10.30.6.72 metric 100 \n",
      "192.168.1.0/24 via 192.168.2.2 dev enp7s0 \n",
      "192.168.3.0/24 via 192.168.2.2 dev enp7s0 \n",
      "\n",
      "================\n",
      "10.30.6.0/23 dev enp1s0 proto kernel scope link src 10.30.6.23 \n",
      "169.254.169.254 via 10.30.6.11 dev enp1s0 proto dhcp src 10.30.6.23 metric 100 \n",
      "10.30.6.0/23 dev enp1s0 proto kernel scope link src 10.30.6.23 \n",
      "169.254.169.254 via 10.30.6.11 dev enp1s0 proto dhcp src 10.30.6.23 metric 100 \n",
      "\n",
      "================\n",
      "10.30.6.0/23 dev enp3s0 proto kernel scope link src 10.30.6.228 \n",
      "169.254.169.254 via 10.30.6.11 dev enp3s0 proto dhcp src 10.30.6.228 metric 100 \n",
      "192.168.1.0/24 via 192.168.2.0 dev enp10s0 \n",
      "192.168.3.0/24 via 192.168.2.3 dev enp7s0 \n",
      "10.30.6.0/23 dev enp3s0 proto kernel scope link src 10.30.6.228 \n",
      "169.254.169.254 via 10.30.6.11 dev enp3s0 proto dhcp src 10.30.6.228 metric 100 \n",
      "192.168.1.0/24 via 192.168.2.0 dev enp10s0 \n",
      "192.168.3.0/24 via 192.168.2.3 dev enp7s0 \n",
      "\n",
      "================\n"
     ]
    }
   ],
   "source": [
    "stdout, stderr   = slice.get_node(name='server1').execute(f'sudo ip r') \n",
    "print(stdout)\n",
    "print(\"================\")\n",
    "stdout, stderr   = slice.get_node(name='server2').execute(f'sudo ip r') \n",
    "print(stdout)\n",
    "print(\"================\")\n",
    "stdout, stderr   = slice.get_node(name='switch1').execute(f'sudo ip r') \n",
    "print(stdout)\n",
    "print(\"================\")\n",
    "stdout, stderr   = slice.get_node(name='switch2').execute(f'sudo ip r') \n",
    "print(stdout)\n",
    "print(\"================\")"
   ]
  }
 ],
 "metadata": {
  "kernelspec": {
   "display_name": "Python 3 (ipykernel)",
   "language": "python",
   "name": "python3"
  },
  "language_info": {
   "codemirror_mode": {
    "name": "ipython",
    "version": 3
   },
   "file_extension": ".py",
   "mimetype": "text/x-python",
   "name": "python",
   "nbconvert_exporter": "python",
   "pygments_lexer": "ipython3",
   "version": "3.10.6"
  }
 },
 "nbformat": 4,
 "nbformat_minor": 5
}
